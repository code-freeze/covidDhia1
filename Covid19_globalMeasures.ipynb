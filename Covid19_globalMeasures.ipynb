{
  "nbformat": 4,
  "nbformat_minor": 0,
  "metadata": {
    "colab": {
      "name": "Covid19_globalMeasures.ipynb",
      "provenance": [],
      "collapsed_sections": [],
      "include_colab_link": true
    },
    "kernelspec": {
      "name": "python3",
      "display_name": "Python 3"
    },
    "language_info": {
      "codemirror_mode": {
        "name": "ipython",
        "version": 3
      },
      "file_extension": ".py",
      "mimetype": "text/x-python",
      "name": "python",
      "nbconvert_exporter": "python",
      "pygments_lexer": "ipython3",
      "version": "3.6.4"
    },
    "accelerator": "TPU"
  },
  "cells": [
    {
      "cell_type": "markdown",
      "metadata": {
        "id": "view-in-github",
        "colab_type": "text"
      },
      "source": [
        "<a href=\"https://colab.research.google.com/github/code-freeze/covidDhia1/blob/master/Covid19_globalMeasures.ipynb\" target=\"_parent\"><img src=\"https://colab.research.google.com/assets/colab-badge.svg\" alt=\"Open In Colab\"/></a>"
      ]
    },
    {
      "cell_type": "code",
      "metadata": {
        "colab_type": "code",
        "id": "Fm567gdJvY1h",
        "colab": {}
      },
      "source": [
        "import pandas as pd\n",
        "import os\n",
        "from pandas.io.json import json_normalize\n",
        "import urllib.request as urlrequest\n",
        "import json\n",
        "import matplotlib.pyplot as plt\n",
        "import plotly.graph_objects as go\n",
        "import plotly.offline as pyo\n",
        "pyo.init_notebook_mode()\n",
        "import requests\n",
        "import numpy as np\n",
        "import plotly.figure_factory as ff\n",
        "import xlrd\n",
        "import csv\n",
        "import math\n",
        "import operator"
      ],
      "execution_count": 0,
      "outputs": []
    },
    {
      "cell_type": "code",
      "metadata": {
        "colab_type": "code",
        "id": "JQuX8L3zvY2E",
        "colab": {}
      },
      "source": [
        "url = \"https://api.covid19india.org/states_daily.json\"\n",
        "response = urlrequest.urlopen(url)\n",
        "data = json.loads(response.read())"
      ],
      "execution_count": 0,
      "outputs": []
    },
    {
      "cell_type": "code",
      "metadata": {
        "colab_type": "code",
        "id": "SdxxohstvY2O",
        "outputId": "172838d1-7fe4-49a7-d795-624b478ec597",
        "colab": {
          "base_uri": "https://localhost:8080/",
          "height": 86
        }
      },
      "source": [
        "json_pd=pd.DataFrame(json_normalize(data['states_daily']))"
      ],
      "execution_count": 0,
      "outputs": [
        {
          "output_type": "stream",
          "text": [
            "/usr/local/lib/python3.6/dist-packages/ipykernel_launcher.py:1: FutureWarning:\n",
            "\n",
            "pandas.io.json.json_normalize is deprecated, use pandas.json_normalize instead\n",
            "\n"
          ],
          "name": "stderr"
        }
      ]
    },
    {
      "cell_type": "code",
      "metadata": {
        "colab_type": "code",
        "id": "J3JhIHzVvY2S",
        "colab": {}
      },
      "source": [
        "state_code={\"an\":\"Andaman and Nicobar Islands\",\n",
        "            \"ap\":\"Andhra Pradesh\",\n",
        "            \"ar\":\"Arunachal Pradesh\",\t\n",
        "            \"as\":\"Assam\",\n",
        "            \"br\":\"Bihar\",\n",
        "            \"ch\":\"Chandigarh\",\n",
        "            \"ct\":\"Chhattisgarh\",\n",
        "            \"dn\":\"Dadra and Nagar Haveli\",\n",
        "            \"dd\":\"Daman and Diu\",\n",
        "            \"dl\":\"Delhi\",\n",
        "            \"ga\":\"Goa\",\n",
        "            \"gj\":\"Gujarat\",\n",
        "            \"hr\":\"Haryana\",\n",
        "            \"hp\":\"Himachal Pradesh\",\n",
        "            \"jk\":\"Jammu and Kashmir\",\n",
        "            \"jh\":\"Jharkhand\",\n",
        "            \"ka\":\"Karnataka\",\n",
        "            \"kl\":\"Kerala\",\n",
        "            \"ld\":\"Lakshadweep\",\n",
        "            \"mp\":\"Madhya Pradesh\",\n",
        "            \"mh\":\"Maharashtra\",\n",
        "            \"mn\":\"Manipur\",\n",
        "            \"ml\":\"Meghalaya\",\n",
        "            \"mz\":\"Mizoram\",\n",
        "            \"nl\":\"Nagaland\",\n",
        "            \"or\":\"Odisha\",\n",
        "            \"py\":\"Puducherry\",\n",
        "            \"pb\":\"Punjab\",\n",
        "            \"rj\":\"Rajasthan\",\n",
        "            \"sk\":\"Sikkim\",\n",
        "            \"tn\":\"Tamil Nadu\",\n",
        "            \"tg\":\"Telangana\",\n",
        "            \"tr\":\"Tripura\",\n",
        "            \"up\":\"Uttar Pradesh\",\n",
        "            \"ut\":\"Uttarakhand\",\n",
        "            \"wb\":\"West Bengal\"}"
      ],
      "execution_count": 0,
      "outputs": []
    },
    {
      "cell_type": "code",
      "metadata": {
        "colab_type": "code",
        "id": "H30QU7IpvY2V",
        "colab": {}
      },
      "source": [
        "# json_pd.head()"
      ],
      "execution_count": 0,
      "outputs": []
    },
    {
      "cell_type": "code",
      "metadata": {
        "colab_type": "code",
        "id": "WeGGg9UXvY2c",
        "colab": {}
      },
      "source": [
        "cols=json_pd.columns.tolist()\n",
        "\n",
        "cols1=[col for col in cols if col != 'date']\n",
        "cols2=[col for col in cols1 if col != 'status']\n",
        "cols3=[col for col in cols2 if col !='tt']\n",
        "cols=[\"date\"]+[\"status\"]+cols3+[\"tt\"]\n",
        "\n",
        "json_pd=json_pd[cols]"
      ],
      "execution_count": 0,
      "outputs": []
    },
    {
      "cell_type": "code",
      "metadata": {
        "colab_type": "code",
        "id": "jL1k_Hb-vY2h",
        "colab": {}
      },
      "source": [
        "json_confirmed=json_pd.loc[json_pd['status'] == \"Confirmed\"]\n",
        "json_Recovered=json_pd.loc[json_pd['status'] == \"Recovered\"]\n",
        "json_Deceased=json_pd.loc[json_pd['status'] == \"Deceased\"]"
      ],
      "execution_count": 0,
      "outputs": []
    },
    {
      "cell_type": "code",
      "metadata": {
        "id": "eZcVy9AABczk",
        "colab_type": "code",
        "colab": {}
      },
      "source": [
        "json_pd.to_csv('india.csv') "
      ],
      "execution_count": 0,
      "outputs": []
    },
    {
      "cell_type": "code",
      "metadata": {
        "id": "AjCrFDH7pmGp",
        "colab_type": "code",
        "colab": {}
      },
      "source": [
        "#plot for annotations\n",
        "lockdown_date=[\"23-Mar-20\"]\n",
        "lockdown_marker=[0,1200]"
      ],
      "execution_count": 0,
      "outputs": []
    },
    {
      "cell_type": "code",
      "metadata": {
        "colab_type": "code",
        "id": "GY-r0OIUvY2l",
        "colab": {}
      },
      "source": [
        "#getting the traces for plotting data"
      ],
      "execution_count": 0,
      "outputs": []
    },
    {
      "cell_type": "code",
      "metadata": {
        "colab_type": "code",
        "id": "Yz8DzVgdvY2o",
        "colab": {}
      },
      "source": [
        "trace1=go.Bar(x=json_confirmed[\"date\"],y=json_confirmed[\"tt\"],name=\"Confirmed cases\",marker_color='blue')\n",
        "trace2=go.Bar(x=json_Recovered[\"date\"],y=json_Recovered[\"tt\"],name=\"Recovered cases\",marker_color='green')\n",
        "trace3=go.Bar(x=json_Deceased[\"date\"],y=json_Deceased[\"tt\"],name=\"Deceased cases\",marker_color=\"red\")"
      ],
      "execution_count": 0,
      "outputs": []
    },
    {
      "cell_type": "code",
      "metadata": {
        "id": "ZIX1o7fK_oHZ",
        "colab_type": "code",
        "colab": {}
      },
      "source": [
        "# json_confirmed[\"date\"]"
      ],
      "execution_count": 0,
      "outputs": []
    },
    {
      "cell_type": "code",
      "metadata": {
        "id": "rKzjDKIPA9If",
        "colab_type": "code",
        "outputId": "dc878548-51c4-4fb0-d1e0-dfec38730bcb",
        "colab": {
          "base_uri": "https://localhost:8080/",
          "height": 542
        }
      },
      "source": [
        "layout = go.Layout(\n",
        "    title='Covid-19 India Covid-19 cases timeline',\n",
        ")\n",
        "data=[trace1,trace2,trace3]\n",
        "fig1=go.Figure(data=data,layout=layout)\n",
        "fig1.update_layout(\n",
        "    showlegend=False,\n",
        "    annotations=[\n",
        "        dict(\n",
        "            x=\"25-Mar-20\",\n",
        "            y=100,\n",
        "            xref=\"x\",\n",
        "            yref=\"y\",\n",
        "            text=\"Lockdown starts in India 25-Marh 2020\",\n",
        "            showarrow=True,\n",
        "            arrowhead=7,\n",
        "            ax=0,\n",
        "            ay=-40\n",
        "        )\n",
        "    ]\n",
        ")\n",
        "fig1.show(renderer=\"colab\")"
      ],
      "execution_count": 0,
      "outputs": [
        {
          "output_type": "display_data",
          "data": {
            "text/html": [
              "<html>\n",
              "<head><meta charset=\"utf-8\" /></head>\n",
              "<body>\n",
              "    <div>\n",
              "            <script src=\"https://cdnjs.cloudflare.com/ajax/libs/mathjax/2.7.5/MathJax.js?config=TeX-AMS-MML_SVG\"></script><script type=\"text/javascript\">if (window.MathJax) {MathJax.Hub.Config({SVG: {font: \"STIX-Web\"}});}</script>\n",
              "                <script type=\"text/javascript\">window.PlotlyConfig = {MathJaxConfig: 'local'};</script>\n",
              "        <script src=\"https://cdn.plot.ly/plotly-latest.min.js\"></script>    \n",
              "            <div id=\"e39460aa-5d72-42ac-9d45-d4c9596f6cb6\" class=\"plotly-graph-div\" style=\"height:525px; width:100%;\"></div>\n",
              "            <script type=\"text/javascript\">\n",
              "                \n",
              "                    window.PLOTLYENV=window.PLOTLYENV || {};\n",
              "                    \n",
              "                if (document.getElementById(\"e39460aa-5d72-42ac-9d45-d4c9596f6cb6\")) {\n",
              "                    Plotly.newPlot(\n",
              "                        'e39460aa-5d72-42ac-9d45-d4c9596f6cb6',\n",
              "                        [{\"marker\": {\"color\": \"blue\"}, \"name\": \"Confirmed cases\", \"type\": \"bar\", \"x\": [\"14-Mar-20\", \"15-Mar-20\", \"16-Mar-20\", \"17-Mar-20\", \"18-Mar-20\", \"19-Mar-20\", \"20-Mar-20\", \"21-Mar-20\", \"22-Mar-20\", \"23-Mar-20\", \"24-Mar-20\", \"25-Mar-20\", \"26-Mar-20\", \"27-Mar-20\", \"28-Mar-20\", \"29-Mar-20\", \"30-Mar-20\", \"31-Mar-20\", \"01-Apr-20\", \"02-Apr-20\", \"03-Apr-20\", \"04-Apr-20\", \"05-Apr-20\", \"06-Apr-20\", \"07-Apr-20\", \"08-Apr-20\", \"09-Apr-20\", \"10-Apr-20\", \"11-Apr-20\", \"12-Apr-20\", \"13-Apr-20\", \"14-Apr-20\", \"15-Apr-20\", \"16-Apr-20\", \"17-Apr-20\", \"18-Apr-20\", \"19-Apr-20\", \"20-Apr-20\", \"21-Apr-20\", \"22-Apr-20\", \"23-Apr-20\", \"24-Apr-20\", \"25-Apr-20\", \"26-Apr-20\", \"27-Apr-20\", \"28-Apr-20\", \"29-Apr-20\", \"30-Apr-20\", \"01-May-20\", \"02-May-20\", \"03-May-20\", \"04-May-20\", \"05-May-20\", \"06-May-20\", \"07-May-20\", \"08-May-20\", \"09-May-20\", \"10-May-20\", \"11-May-20\", \"12-May-20\"], \"y\": [\"81\", \"27\", \"15\", \"11\", \"37\", \"27\", \"58\", \"78\", \"67\", \"102\", \"64\", \"90\", \"65\", \"164\", \"143\", \"110\", \"187\", \"309\", \"424\", \"486\", \"560\", \"579\", \"609\", \"484\", \"572\", \"565\", \"813\", \"871\", \"854\", \"758\", \"1243\", \"1031\", \"886\", \"1061\", \"922\", \"1371\", \"1580\", \"1239\", \"1537\", \"1292\", \"1667\", \"1408\", \"1835\", \"1607\", \"1568\", \"1902\", \"1705\", \"1801\", \"2396\", \"2564\", \"2952\", \"3656\", \"2971\", \"3602\", \"3344\", \"3339\", \"3175\", \"4311\", \"3592\", \"3561\"]}, {\"marker\": {\"color\": \"green\"}, \"name\": \"Recovered cases\", \"type\": \"bar\", \"x\": [\"14-Mar-20\", \"15-Mar-20\", \"16-Mar-20\", \"17-Mar-20\", \"18-Mar-20\", \"19-Mar-20\", \"20-Mar-20\", \"21-Mar-20\", \"22-Mar-20\", \"23-Mar-20\", \"24-Mar-20\", \"25-Mar-20\", \"26-Mar-20\", \"27-Mar-20\", \"28-Mar-20\", \"29-Mar-20\", \"30-Mar-20\", \"31-Mar-20\", \"01-Apr-20\", \"02-Apr-20\", \"03-Apr-20\", \"04-Apr-20\", \"05-Apr-20\", \"06-Apr-20\", \"07-Apr-20\", \"08-Apr-20\", \"09-Apr-20\", \"10-Apr-20\", \"11-Apr-20\", \"12-Apr-20\", \"13-Apr-20\", \"14-Apr-20\", \"15-Apr-20\", \"16-Apr-20\", \"17-Apr-20\", \"18-Apr-20\", \"19-Apr-20\", \"20-Apr-20\", \"21-Apr-20\", \"22-Apr-20\", \"23-Apr-20\", \"24-Apr-20\", \"25-Apr-20\", \"26-Apr-20\", \"27-Apr-20\", \"28-Apr-20\", \"29-Apr-20\", \"30-Apr-20\", \"01-May-20\", \"02-May-20\", \"03-May-20\", \"04-May-20\", \"05-May-20\", \"06-May-20\", \"07-May-20\", \"08-May-20\", \"09-May-20\", \"10-May-20\", \"11-May-20\", \"12-May-20\"], \"y\": [\"9\", \"4\", \"1\", \"1\", \"0\", \"5\", \"3\", \"0\", \"0\", \"12\", \"5\", \"3\", \"7\", \"26\", \"9\", \"5\", \"49\", \"15\", \"16\", \"22\", \"38\", \"56\", \"43\", \"65\", \"75\", \"96\", \"70\", \"151\", \"186\", \"114\", \"112\", \"167\", \"144\", \"258\", \"273\", \"426\", \"388\", \"419\", \"703\", \"394\", \"642\", \"484\", \"442\", \"585\", \"580\", \"636\", \"690\", \"630\", \"962\", \"831\", \"911\", \"1082\", \"1295\", \"1161\", \"1475\", \"1111\", \"1414\", \"1669\", \"1579\", \"1904\"]}, {\"marker\": {\"color\": \"red\"}, \"name\": \"Deceased cases\", \"type\": \"bar\", \"x\": [\"14-Mar-20\", \"15-Mar-20\", \"16-Mar-20\", \"17-Mar-20\", \"18-Mar-20\", \"19-Mar-20\", \"20-Mar-20\", \"21-Mar-20\", \"22-Mar-20\", \"23-Mar-20\", \"24-Mar-20\", \"25-Mar-20\", \"26-Mar-20\", \"27-Mar-20\", \"28-Mar-20\", \"29-Mar-20\", \"30-Mar-20\", \"31-Mar-20\", \"01-Apr-20\", \"02-Apr-20\", \"03-Apr-20\", \"04-Apr-20\", \"05-Apr-20\", \"06-Apr-20\", \"07-Apr-20\", \"08-Apr-20\", \"09-Apr-20\", \"10-Apr-20\", \"11-Apr-20\", \"12-Apr-20\", \"13-Apr-20\", \"14-Apr-20\", \"15-Apr-20\", \"16-Apr-20\", \"17-Apr-20\", \"18-Apr-20\", \"19-Apr-20\", \"20-Apr-20\", \"21-Apr-20\", \"22-Apr-20\", \"23-Apr-20\", \"24-Apr-20\", \"25-Apr-20\", \"26-Apr-20\", \"27-Apr-20\", \"28-Apr-20\", \"29-Apr-20\", \"30-Apr-20\", \"01-May-20\", \"02-May-20\", \"03-May-20\", \"04-May-20\", \"05-May-20\", \"06-May-20\", \"07-May-20\", \"08-May-20\", \"09-May-20\", \"10-May-20\", \"11-May-20\", \"12-May-20\"], \"y\": [\"2\", \"0\", \"0\", \"1\", \"0\", \"1\", \"0\", \"0\", \"3\", \"2\", \"1\", \"1\", \"5\", \"3\", \"5\", \"3\", \"13\", \"6\", \"9\", \"14\", \"14\", \"13\", \"22\", \"16\", \"27\", \"20\", \"46\", \"22\", \"40\", \"42\", \"27\", \"37\", \"27\", \"26\", \"38\", \"35\", \"38\", \"33\", \"53\", \"36\", \"40\", \"59\", \"44\", \"56\", \"58\", \"69\", \"71\", \"75\", \"77\", \"92\", \"140\", \"103\", \"128\", \"91\", \"104\", \"97\", \"115\", \"112\", \"81\", \"120\"]}],\n",
              "                        {\"annotations\": [{\"arrowhead\": 7, \"ax\": 0, \"ay\": -40, \"showarrow\": true, \"text\": \"Lockdown starts in India 25-Marh 2020\", \"x\": \"25-Mar-20\", \"xref\": \"x\", \"y\": 100, \"yref\": \"y\"}], \"showlegend\": false, \"template\": {\"data\": {\"bar\": [{\"error_x\": {\"color\": \"#2a3f5f\"}, \"error_y\": {\"color\": \"#2a3f5f\"}, \"marker\": {\"line\": {\"color\": \"#E5ECF6\", \"width\": 0.5}}, \"type\": \"bar\"}], \"barpolar\": [{\"marker\": {\"line\": {\"color\": \"#E5ECF6\", \"width\": 0.5}}, \"type\": \"barpolar\"}], \"carpet\": [{\"aaxis\": {\"endlinecolor\": \"#2a3f5f\", \"gridcolor\": \"white\", \"linecolor\": \"white\", \"minorgridcolor\": \"white\", \"startlinecolor\": \"#2a3f5f\"}, \"baxis\": {\"endlinecolor\": \"#2a3f5f\", \"gridcolor\": \"white\", \"linecolor\": \"white\", \"minorgridcolor\": \"white\", \"startlinecolor\": \"#2a3f5f\"}, \"type\": \"carpet\"}], \"choropleth\": [{\"colorbar\": {\"outlinewidth\": 0, \"ticks\": \"\"}, \"type\": \"choropleth\"}], \"contour\": [{\"colorbar\": {\"outlinewidth\": 0, \"ticks\": \"\"}, \"colorscale\": [[0.0, \"#0d0887\"], [0.1111111111111111, \"#46039f\"], [0.2222222222222222, \"#7201a8\"], [0.3333333333333333, \"#9c179e\"], [0.4444444444444444, \"#bd3786\"], [0.5555555555555556, \"#d8576b\"], [0.6666666666666666, \"#ed7953\"], [0.7777777777777778, \"#fb9f3a\"], [0.8888888888888888, \"#fdca26\"], [1.0, \"#f0f921\"]], \"type\": \"contour\"}], \"contourcarpet\": [{\"colorbar\": {\"outlinewidth\": 0, \"ticks\": \"\"}, \"type\": \"contourcarpet\"}], \"heatmap\": [{\"colorbar\": {\"outlinewidth\": 0, \"ticks\": \"\"}, \"colorscale\": [[0.0, \"#0d0887\"], [0.1111111111111111, \"#46039f\"], [0.2222222222222222, \"#7201a8\"], [0.3333333333333333, \"#9c179e\"], [0.4444444444444444, \"#bd3786\"], [0.5555555555555556, \"#d8576b\"], [0.6666666666666666, \"#ed7953\"], [0.7777777777777778, \"#fb9f3a\"], [0.8888888888888888, \"#fdca26\"], [1.0, \"#f0f921\"]], \"type\": \"heatmap\"}], \"heatmapgl\": [{\"colorbar\": {\"outlinewidth\": 0, \"ticks\": \"\"}, \"colorscale\": [[0.0, \"#0d0887\"], [0.1111111111111111, \"#46039f\"], [0.2222222222222222, \"#7201a8\"], [0.3333333333333333, \"#9c179e\"], [0.4444444444444444, \"#bd3786\"], [0.5555555555555556, \"#d8576b\"], [0.6666666666666666, \"#ed7953\"], [0.7777777777777778, \"#fb9f3a\"], [0.8888888888888888, \"#fdca26\"], [1.0, \"#f0f921\"]], \"type\": \"heatmapgl\"}], \"histogram\": [{\"marker\": {\"colorbar\": {\"outlinewidth\": 0, \"ticks\": \"\"}}, \"type\": \"histogram\"}], \"histogram2d\": [{\"colorbar\": {\"outlinewidth\": 0, \"ticks\": \"\"}, \"colorscale\": [[0.0, \"#0d0887\"], [0.1111111111111111, \"#46039f\"], [0.2222222222222222, \"#7201a8\"], [0.3333333333333333, \"#9c179e\"], [0.4444444444444444, \"#bd3786\"], [0.5555555555555556, \"#d8576b\"], [0.6666666666666666, \"#ed7953\"], [0.7777777777777778, \"#fb9f3a\"], [0.8888888888888888, \"#fdca26\"], [1.0, \"#f0f921\"]], \"type\": \"histogram2d\"}], \"histogram2dcontour\": [{\"colorbar\": {\"outlinewidth\": 0, \"ticks\": \"\"}, \"colorscale\": [[0.0, \"#0d0887\"], [0.1111111111111111, \"#46039f\"], [0.2222222222222222, \"#7201a8\"], [0.3333333333333333, \"#9c179e\"], [0.4444444444444444, \"#bd3786\"], [0.5555555555555556, \"#d8576b\"], [0.6666666666666666, \"#ed7953\"], [0.7777777777777778, \"#fb9f3a\"], [0.8888888888888888, \"#fdca26\"], [1.0, \"#f0f921\"]], \"type\": \"histogram2dcontour\"}], \"mesh3d\": [{\"colorbar\": {\"outlinewidth\": 0, \"ticks\": \"\"}, \"type\": \"mesh3d\"}], \"parcoords\": [{\"line\": {\"colorbar\": {\"outlinewidth\": 0, \"ticks\": \"\"}}, \"type\": \"parcoords\"}], \"pie\": [{\"automargin\": true, \"type\": \"pie\"}], \"scatter\": [{\"marker\": {\"colorbar\": {\"outlinewidth\": 0, \"ticks\": \"\"}}, \"type\": \"scatter\"}], \"scatter3d\": [{\"line\": {\"colorbar\": {\"outlinewidth\": 0, \"ticks\": \"\"}}, \"marker\": {\"colorbar\": {\"outlinewidth\": 0, \"ticks\": \"\"}}, \"type\": \"scatter3d\"}], \"scattercarpet\": [{\"marker\": {\"colorbar\": {\"outlinewidth\": 0, \"ticks\": \"\"}}, \"type\": \"scattercarpet\"}], \"scattergeo\": [{\"marker\": {\"colorbar\": {\"outlinewidth\": 0, \"ticks\": \"\"}}, \"type\": \"scattergeo\"}], \"scattergl\": [{\"marker\": {\"colorbar\": {\"outlinewidth\": 0, \"ticks\": \"\"}}, \"type\": \"scattergl\"}], \"scattermapbox\": [{\"marker\": {\"colorbar\": {\"outlinewidth\": 0, \"ticks\": \"\"}}, \"type\": \"scattermapbox\"}], \"scatterpolar\": [{\"marker\": {\"colorbar\": {\"outlinewidth\": 0, \"ticks\": \"\"}}, \"type\": \"scatterpolar\"}], \"scatterpolargl\": [{\"marker\": {\"colorbar\": {\"outlinewidth\": 0, \"ticks\": \"\"}}, \"type\": \"scatterpolargl\"}], \"scatterternary\": [{\"marker\": {\"colorbar\": {\"outlinewidth\": 0, \"ticks\": \"\"}}, \"type\": \"scatterternary\"}], \"surface\": [{\"colorbar\": {\"outlinewidth\": 0, \"ticks\": \"\"}, \"colorscale\": [[0.0, \"#0d0887\"], [0.1111111111111111, \"#46039f\"], [0.2222222222222222, \"#7201a8\"], [0.3333333333333333, \"#9c179e\"], [0.4444444444444444, \"#bd3786\"], [0.5555555555555556, \"#d8576b\"], [0.6666666666666666, \"#ed7953\"], [0.7777777777777778, \"#fb9f3a\"], [0.8888888888888888, \"#fdca26\"], [1.0, \"#f0f921\"]], \"type\": \"surface\"}], \"table\": [{\"cells\": {\"fill\": {\"color\": \"#EBF0F8\"}, \"line\": {\"color\": \"white\"}}, \"header\": {\"fill\": {\"color\": \"#C8D4E3\"}, \"line\": {\"color\": \"white\"}}, \"type\": \"table\"}]}, \"layout\": {\"annotationdefaults\": {\"arrowcolor\": \"#2a3f5f\", \"arrowhead\": 0, \"arrowwidth\": 1}, \"coloraxis\": {\"colorbar\": {\"outlinewidth\": 0, \"ticks\": \"\"}}, \"colorscale\": {\"diverging\": [[0, \"#8e0152\"], [0.1, \"#c51b7d\"], [0.2, \"#de77ae\"], [0.3, \"#f1b6da\"], [0.4, \"#fde0ef\"], [0.5, \"#f7f7f7\"], [0.6, \"#e6f5d0\"], [0.7, \"#b8e186\"], [0.8, \"#7fbc41\"], [0.9, \"#4d9221\"], [1, \"#276419\"]], \"sequential\": [[0.0, \"#0d0887\"], [0.1111111111111111, \"#46039f\"], [0.2222222222222222, \"#7201a8\"], [0.3333333333333333, \"#9c179e\"], [0.4444444444444444, \"#bd3786\"], [0.5555555555555556, \"#d8576b\"], [0.6666666666666666, \"#ed7953\"], [0.7777777777777778, \"#fb9f3a\"], [0.8888888888888888, \"#fdca26\"], [1.0, \"#f0f921\"]], \"sequentialminus\": [[0.0, \"#0d0887\"], [0.1111111111111111, \"#46039f\"], [0.2222222222222222, \"#7201a8\"], [0.3333333333333333, \"#9c179e\"], [0.4444444444444444, \"#bd3786\"], [0.5555555555555556, \"#d8576b\"], [0.6666666666666666, \"#ed7953\"], [0.7777777777777778, \"#fb9f3a\"], [0.8888888888888888, \"#fdca26\"], [1.0, \"#f0f921\"]]}, \"colorway\": [\"#636efa\", \"#EF553B\", \"#00cc96\", \"#ab63fa\", \"#FFA15A\", \"#19d3f3\", \"#FF6692\", \"#B6E880\", \"#FF97FF\", \"#FECB52\"], \"font\": {\"color\": \"#2a3f5f\"}, \"geo\": {\"bgcolor\": \"white\", \"lakecolor\": \"white\", \"landcolor\": \"#E5ECF6\", \"showlakes\": true, \"showland\": true, \"subunitcolor\": \"white\"}, \"hoverlabel\": {\"align\": \"left\"}, \"hovermode\": \"closest\", \"mapbox\": {\"style\": \"light\"}, \"paper_bgcolor\": \"white\", \"plot_bgcolor\": \"#E5ECF6\", \"polar\": {\"angularaxis\": {\"gridcolor\": \"white\", \"linecolor\": \"white\", \"ticks\": \"\"}, \"bgcolor\": \"#E5ECF6\", \"radialaxis\": {\"gridcolor\": \"white\", \"linecolor\": \"white\", \"ticks\": \"\"}}, \"scene\": {\"xaxis\": {\"backgroundcolor\": \"#E5ECF6\", \"gridcolor\": \"white\", \"gridwidth\": 2, \"linecolor\": \"white\", \"showbackground\": true, \"ticks\": \"\", \"zerolinecolor\": \"white\"}, \"yaxis\": {\"backgroundcolor\": \"#E5ECF6\", \"gridcolor\": \"white\", \"gridwidth\": 2, \"linecolor\": \"white\", \"showbackground\": true, \"ticks\": \"\", \"zerolinecolor\": \"white\"}, \"zaxis\": {\"backgroundcolor\": \"#E5ECF6\", \"gridcolor\": \"white\", \"gridwidth\": 2, \"linecolor\": \"white\", \"showbackground\": true, \"ticks\": \"\", \"zerolinecolor\": \"white\"}}, \"shapedefaults\": {\"line\": {\"color\": \"#2a3f5f\"}}, \"ternary\": {\"aaxis\": {\"gridcolor\": \"white\", \"linecolor\": \"white\", \"ticks\": \"\"}, \"baxis\": {\"gridcolor\": \"white\", \"linecolor\": \"white\", \"ticks\": \"\"}, \"bgcolor\": \"#E5ECF6\", \"caxis\": {\"gridcolor\": \"white\", \"linecolor\": \"white\", \"ticks\": \"\"}}, \"title\": {\"x\": 0.05}, \"xaxis\": {\"automargin\": true, \"gridcolor\": \"white\", \"linecolor\": \"white\", \"ticks\": \"\", \"title\": {\"standoff\": 15}, \"zerolinecolor\": \"white\", \"zerolinewidth\": 2}, \"yaxis\": {\"automargin\": true, \"gridcolor\": \"white\", \"linecolor\": \"white\", \"ticks\": \"\", \"title\": {\"standoff\": 15}, \"zerolinecolor\": \"white\", \"zerolinewidth\": 2}}}, \"title\": {\"text\": \"Covid-19 India Covid-19 cases timeline\"}},\n",
              "                        {\"responsive\": true}\n",
              "                    ).then(function(){\n",
              "                            \n",
              "var gd = document.getElementById('e39460aa-5d72-42ac-9d45-d4c9596f6cb6');\n",
              "var x = new MutationObserver(function (mutations, observer) {{\n",
              "        var display = window.getComputedStyle(gd).display;\n",
              "        if (!display || display === 'none') {{\n",
              "            console.log([gd, 'removed!']);\n",
              "            Plotly.purge(gd);\n",
              "            observer.disconnect();\n",
              "        }}\n",
              "}});\n",
              "\n",
              "// Listen for the removal of the full notebook cells\n",
              "var notebookContainer = gd.closest('#notebook-container');\n",
              "if (notebookContainer) {{\n",
              "    x.observe(notebookContainer, {childList: true});\n",
              "}}\n",
              "\n",
              "// Listen for the clearing of the current output cell\n",
              "var outputEl = gd.closest('.output');\n",
              "if (outputEl) {{\n",
              "    x.observe(outputEl, {childList: true});\n",
              "}}\n",
              "\n",
              "                        })\n",
              "                };\n",
              "                \n",
              "            </script>\n",
              "        </div>\n",
              "</body>\n",
              "</html>"
            ]
          },
          "metadata": {
            "tags": []
          }
        }
      ]
    },
    {
      "cell_type": "code",
      "metadata": {
        "colab_type": "code",
        "id": "fIOgtpltEJ89",
        "colab": {}
      },
      "source": [
        "#plot for annotations\n",
        "lockdown_date=[\"23-Mar-20\"]\n",
        "lockdown_marker=[0,1200]"
      ],
      "execution_count": 0,
      "outputs": []
    },
    {
      "cell_type": "code",
      "metadata": {
        "id": "T5CeX8ucPoqi",
        "colab_type": "code",
        "colab": {}
      },
      "source": [
        "#plotting only for Kerala with line plot\n",
        "#to show date wise cases in kerala"
      ],
      "execution_count": 0,
      "outputs": []
    },
    {
      "cell_type": "code",
      "metadata": {
        "id": "t1cef5A_aF72",
        "colab_type": "code",
        "colab": {}
      },
      "source": [
        ""
      ],
      "execution_count": 0,
      "outputs": []
    },
    {
      "cell_type": "code",
      "metadata": {
        "colab_type": "code",
        "id": "3OSZTdGdwG4y",
        "outputId": "eccd7770-68ce-47e0-aff0-5f1bc8c4d8ff",
        "colab": {
          "base_uri": "https://localhost:8080/",
          "height": 542
        }
      },
      "source": [
        "trace4=go.Bar(x=json_confirmed[\"date\"],y=json_confirmed[\"kl\"],name=\"Confirmed Kerala Cases\",marker_color='black')\n",
        "#trace5=go.Bar(x=json_Recovered[\"date\"],y=json_Recovered[\"kl\"],name=\"Recovered Kerala Cases\",marker_color='green')\n",
        "trace6=go.Bar(x=json_Deceased[\"date\"],y=json_Deceased[\"kl\"],name=\"Deceased Kerala Cases\",marker_color='grey')\n",
        "\n",
        "layout = go.Layout(\n",
        "    title='Covid-19 Kerala Covid-19 cases timeline',paper_bgcolor='rgba(255,255,255,1)',\n",
        "                     plot_bgcolor='rgba(255,255,255,1)')\n",
        "data=[trace4,trace6]\n",
        "fig2=go.Figure(data=data,layout=layout)\n",
        "fig2.update_layout(\n",
        "    showlegend=False,\n",
        "    annotations=[\n",
        "        dict(\n",
        "            x=\"25-Mar-20\",\n",
        "            y=50,\n",
        "            xref=\"x\",\n",
        "            yref=\"y\",\n",
        "            text=\"Lockdown starts in India- 25 March 2020\",\n",
        "            showarrow=True,\n",
        "            arrowhead=7,\n",
        "            ax=0,\n",
        "            ay=-40\n",
        "        )\n",
        "    ]\n",
        ")\n",
        "\n",
        "fig2.show(renderer=\"colab\")"
      ],
      "execution_count": 0,
      "outputs": [
        {
          "output_type": "display_data",
          "data": {
            "text/html": [
              "<html>\n",
              "<head><meta charset=\"utf-8\" /></head>\n",
              "<body>\n",
              "    <div>\n",
              "            <script src=\"https://cdnjs.cloudflare.com/ajax/libs/mathjax/2.7.5/MathJax.js?config=TeX-AMS-MML_SVG\"></script><script type=\"text/javascript\">if (window.MathJax) {MathJax.Hub.Config({SVG: {font: \"STIX-Web\"}});}</script>\n",
              "                <script type=\"text/javascript\">window.PlotlyConfig = {MathJaxConfig: 'local'};</script>\n",
              "        <script src=\"https://cdn.plot.ly/plotly-latest.min.js\"></script>    \n",
              "            <div id=\"cc100783-4d94-405d-9fe0-08cf999e1a8e\" class=\"plotly-graph-div\" style=\"height:525px; width:100%;\"></div>\n",
              "            <script type=\"text/javascript\">\n",
              "                \n",
              "                    window.PLOTLYENV=window.PLOTLYENV || {};\n",
              "                    \n",
              "                if (document.getElementById(\"cc100783-4d94-405d-9fe0-08cf999e1a8e\")) {\n",
              "                    Plotly.newPlot(\n",
              "                        'cc100783-4d94-405d-9fe0-08cf999e1a8e',\n",
              "                        [{\"marker\": {\"color\": \"black\"}, \"name\": \"Confirmed Kerala Cases\", \"type\": \"bar\", \"x\": [\"14-Mar-20\", \"15-Mar-20\", \"16-Mar-20\", \"17-Mar-20\", \"18-Mar-20\", \"19-Mar-20\", \"20-Mar-20\", \"21-Mar-20\", \"22-Mar-20\", \"23-Mar-20\", \"24-Mar-20\", \"25-Mar-20\", \"26-Mar-20\", \"27-Mar-20\", \"28-Mar-20\", \"29-Mar-20\", \"30-Mar-20\", \"31-Mar-20\", \"01-Apr-20\", \"02-Apr-20\", \"03-Apr-20\", \"04-Apr-20\", \"05-Apr-20\", \"06-Apr-20\", \"07-Apr-20\", \"08-Apr-20\", \"09-Apr-20\", \"10-Apr-20\", \"11-Apr-20\", \"12-Apr-20\", \"13-Apr-20\", \"14-Apr-20\", \"15-Apr-20\", \"16-Apr-20\", \"17-Apr-20\", \"18-Apr-20\", \"19-Apr-20\", \"20-Apr-20\", \"21-Apr-20\", \"22-Apr-20\", \"23-Apr-20\", \"24-Apr-20\", \"25-Apr-20\", \"26-Apr-20\", \"27-Apr-20\", \"28-Apr-20\", \"29-Apr-20\", \"30-Apr-20\", \"01-May-20\", \"02-May-20\", \"03-May-20\", \"04-May-20\", \"05-May-20\", \"06-May-20\", \"07-May-20\", \"08-May-20\", \"09-May-20\", \"10-May-20\", \"11-May-20\", \"12-May-20\"], \"y\": [\"19\", \"5\", \"3\", \"0\", \"0\", \"1\", \"12\", \"12\", \"15\", \"28\", \"14\", \"9\", \"19\", \"39\", \"6\", \"20\", \"32\", \"7\", \"24\", \"21\", \"9\", \"11\", \"8\", \"13\", \"9\", \"9\", \"12\", \"7\", \"10\", \"2\", \"3\", \"8\", \"1\", \"7\", \"1\", \"4\", \"2\", \"6\", \"19\", \"11\", \"10\", \"3\", \"7\", \"11\", \"13\", \"4\", \"10\", \"2\", \"0\", \"2\", \"0\", \"0\", \"3\", \"0\", \"0\", \"1\", \"2\", \"7\", \"7\", \"5\"]}, {\"marker\": {\"color\": \"grey\"}, \"name\": \"Deceased Kerala Cases\", \"type\": \"bar\", \"x\": [\"14-Mar-20\", \"15-Mar-20\", \"16-Mar-20\", \"17-Mar-20\", \"18-Mar-20\", \"19-Mar-20\", \"20-Mar-20\", \"21-Mar-20\", \"22-Mar-20\", \"23-Mar-20\", \"24-Mar-20\", \"25-Mar-20\", \"26-Mar-20\", \"27-Mar-20\", \"28-Mar-20\", \"29-Mar-20\", \"30-Mar-20\", \"31-Mar-20\", \"01-Apr-20\", \"02-Apr-20\", \"03-Apr-20\", \"04-Apr-20\", \"05-Apr-20\", \"06-Apr-20\", \"07-Apr-20\", \"08-Apr-20\", \"09-Apr-20\", \"10-Apr-20\", \"11-Apr-20\", \"12-Apr-20\", \"13-Apr-20\", \"14-Apr-20\", \"15-Apr-20\", \"16-Apr-20\", \"17-Apr-20\", \"18-Apr-20\", \"19-Apr-20\", \"20-Apr-20\", \"21-Apr-20\", \"22-Apr-20\", \"23-Apr-20\", \"24-Apr-20\", \"25-Apr-20\", \"26-Apr-20\", \"27-Apr-20\", \"28-Apr-20\", \"29-Apr-20\", \"30-Apr-20\", \"01-May-20\", \"02-May-20\", \"03-May-20\", \"04-May-20\", \"05-May-20\", \"06-May-20\", \"07-May-20\", \"08-May-20\", \"09-May-20\", \"10-May-20\", \"11-May-20\", \"12-May-20\"], \"y\": [\"0\", \"0\", \"0\", \"0\", \"0\", \"0\", \"0\", \"0\", \"0\", \"0\", \"0\", \"0\", \"0\", \"0\", \"1\", \"0\", \"0\", \"1\", \"0\", \"0\", \"0\", \"0\", \"0\", \"0\", \"0\", \"0\", \"0\", \"0\", \"1\", \"0\", \"0\", \"0\", \"0\", \"0\", \"0\", \"0\", \"0\", \"0\", \"0\", \"0\", \"0\", \"1\", \"0\", \"0\", \"0\", \"0\", \"0\", \"0\", \"0\", \"0\", \"0\", \"0\", \"0\", \"0\", \"0\", \"0\", \"0\", \"0\", \"0\", \"0\"]}],\n",
              "                        {\"annotations\": [{\"arrowhead\": 7, \"ax\": 0, \"ay\": -40, \"showarrow\": true, \"text\": \"Lockdown starts in India- 25 March 2020\", \"x\": \"25-Mar-20\", \"xref\": \"x\", \"y\": 50, \"yref\": \"y\"}], \"paper_bgcolor\": \"rgba(255,255,255,1)\", \"plot_bgcolor\": \"rgba(255,255,255,1)\", \"showlegend\": false, \"template\": {\"data\": {\"bar\": [{\"error_x\": {\"color\": \"#2a3f5f\"}, \"error_y\": {\"color\": \"#2a3f5f\"}, \"marker\": {\"line\": {\"color\": \"#E5ECF6\", \"width\": 0.5}}, \"type\": \"bar\"}], \"barpolar\": [{\"marker\": {\"line\": {\"color\": \"#E5ECF6\", \"width\": 0.5}}, \"type\": \"barpolar\"}], \"carpet\": [{\"aaxis\": {\"endlinecolor\": \"#2a3f5f\", \"gridcolor\": \"white\", \"linecolor\": \"white\", \"minorgridcolor\": \"white\", \"startlinecolor\": \"#2a3f5f\"}, \"baxis\": {\"endlinecolor\": \"#2a3f5f\", \"gridcolor\": \"white\", \"linecolor\": \"white\", \"minorgridcolor\": \"white\", \"startlinecolor\": \"#2a3f5f\"}, \"type\": \"carpet\"}], \"choropleth\": [{\"colorbar\": {\"outlinewidth\": 0, \"ticks\": \"\"}, \"type\": \"choropleth\"}], \"contour\": [{\"colorbar\": {\"outlinewidth\": 0, \"ticks\": \"\"}, \"colorscale\": [[0.0, \"#0d0887\"], [0.1111111111111111, \"#46039f\"], [0.2222222222222222, \"#7201a8\"], [0.3333333333333333, \"#9c179e\"], [0.4444444444444444, \"#bd3786\"], [0.5555555555555556, \"#d8576b\"], [0.6666666666666666, \"#ed7953\"], [0.7777777777777778, \"#fb9f3a\"], [0.8888888888888888, \"#fdca26\"], [1.0, \"#f0f921\"]], \"type\": \"contour\"}], \"contourcarpet\": [{\"colorbar\": {\"outlinewidth\": 0, \"ticks\": \"\"}, \"type\": \"contourcarpet\"}], \"heatmap\": [{\"colorbar\": {\"outlinewidth\": 0, \"ticks\": \"\"}, \"colorscale\": [[0.0, \"#0d0887\"], [0.1111111111111111, \"#46039f\"], [0.2222222222222222, \"#7201a8\"], [0.3333333333333333, \"#9c179e\"], [0.4444444444444444, \"#bd3786\"], [0.5555555555555556, \"#d8576b\"], [0.6666666666666666, \"#ed7953\"], [0.7777777777777778, \"#fb9f3a\"], [0.8888888888888888, \"#fdca26\"], [1.0, \"#f0f921\"]], \"type\": \"heatmap\"}], \"heatmapgl\": [{\"colorbar\": {\"outlinewidth\": 0, \"ticks\": \"\"}, \"colorscale\": [[0.0, \"#0d0887\"], [0.1111111111111111, \"#46039f\"], [0.2222222222222222, \"#7201a8\"], [0.3333333333333333, \"#9c179e\"], [0.4444444444444444, \"#bd3786\"], [0.5555555555555556, \"#d8576b\"], [0.6666666666666666, \"#ed7953\"], [0.7777777777777778, \"#fb9f3a\"], [0.8888888888888888, \"#fdca26\"], [1.0, \"#f0f921\"]], \"type\": \"heatmapgl\"}], \"histogram\": [{\"marker\": {\"colorbar\": {\"outlinewidth\": 0, \"ticks\": \"\"}}, \"type\": \"histogram\"}], \"histogram2d\": [{\"colorbar\": {\"outlinewidth\": 0, \"ticks\": \"\"}, \"colorscale\": [[0.0, \"#0d0887\"], [0.1111111111111111, \"#46039f\"], [0.2222222222222222, \"#7201a8\"], [0.3333333333333333, \"#9c179e\"], [0.4444444444444444, \"#bd3786\"], [0.5555555555555556, \"#d8576b\"], [0.6666666666666666, \"#ed7953\"], [0.7777777777777778, \"#fb9f3a\"], [0.8888888888888888, \"#fdca26\"], [1.0, \"#f0f921\"]], \"type\": \"histogram2d\"}], \"histogram2dcontour\": [{\"colorbar\": {\"outlinewidth\": 0, \"ticks\": \"\"}, \"colorscale\": [[0.0, \"#0d0887\"], [0.1111111111111111, \"#46039f\"], [0.2222222222222222, \"#7201a8\"], [0.3333333333333333, \"#9c179e\"], [0.4444444444444444, \"#bd3786\"], [0.5555555555555556, \"#d8576b\"], [0.6666666666666666, \"#ed7953\"], [0.7777777777777778, \"#fb9f3a\"], [0.8888888888888888, \"#fdca26\"], [1.0, \"#f0f921\"]], \"type\": \"histogram2dcontour\"}], \"mesh3d\": [{\"colorbar\": {\"outlinewidth\": 0, \"ticks\": \"\"}, \"type\": \"mesh3d\"}], \"parcoords\": [{\"line\": {\"colorbar\": {\"outlinewidth\": 0, \"ticks\": \"\"}}, \"type\": \"parcoords\"}], \"pie\": [{\"automargin\": true, \"type\": \"pie\"}], \"scatter\": [{\"marker\": {\"colorbar\": {\"outlinewidth\": 0, \"ticks\": \"\"}}, \"type\": \"scatter\"}], \"scatter3d\": [{\"line\": {\"colorbar\": {\"outlinewidth\": 0, \"ticks\": \"\"}}, \"marker\": {\"colorbar\": {\"outlinewidth\": 0, \"ticks\": \"\"}}, \"type\": \"scatter3d\"}], \"scattercarpet\": [{\"marker\": {\"colorbar\": {\"outlinewidth\": 0, \"ticks\": \"\"}}, \"type\": \"scattercarpet\"}], \"scattergeo\": [{\"marker\": {\"colorbar\": {\"outlinewidth\": 0, \"ticks\": \"\"}}, \"type\": \"scattergeo\"}], \"scattergl\": [{\"marker\": {\"colorbar\": {\"outlinewidth\": 0, \"ticks\": \"\"}}, \"type\": \"scattergl\"}], \"scattermapbox\": [{\"marker\": {\"colorbar\": {\"outlinewidth\": 0, \"ticks\": \"\"}}, \"type\": \"scattermapbox\"}], \"scatterpolar\": [{\"marker\": {\"colorbar\": {\"outlinewidth\": 0, \"ticks\": \"\"}}, \"type\": \"scatterpolar\"}], \"scatterpolargl\": [{\"marker\": {\"colorbar\": {\"outlinewidth\": 0, \"ticks\": \"\"}}, \"type\": \"scatterpolargl\"}], \"scatterternary\": [{\"marker\": {\"colorbar\": {\"outlinewidth\": 0, \"ticks\": \"\"}}, \"type\": \"scatterternary\"}], \"surface\": [{\"colorbar\": {\"outlinewidth\": 0, \"ticks\": \"\"}, \"colorscale\": [[0.0, \"#0d0887\"], [0.1111111111111111, \"#46039f\"], [0.2222222222222222, \"#7201a8\"], [0.3333333333333333, \"#9c179e\"], [0.4444444444444444, \"#bd3786\"], [0.5555555555555556, \"#d8576b\"], [0.6666666666666666, \"#ed7953\"], [0.7777777777777778, \"#fb9f3a\"], [0.8888888888888888, \"#fdca26\"], [1.0, \"#f0f921\"]], \"type\": \"surface\"}], \"table\": [{\"cells\": {\"fill\": {\"color\": \"#EBF0F8\"}, \"line\": {\"color\": \"white\"}}, \"header\": {\"fill\": {\"color\": \"#C8D4E3\"}, \"line\": {\"color\": \"white\"}}, \"type\": \"table\"}]}, \"layout\": {\"annotationdefaults\": {\"arrowcolor\": \"#2a3f5f\", \"arrowhead\": 0, \"arrowwidth\": 1}, \"coloraxis\": {\"colorbar\": {\"outlinewidth\": 0, \"ticks\": \"\"}}, \"colorscale\": {\"diverging\": [[0, \"#8e0152\"], [0.1, \"#c51b7d\"], [0.2, \"#de77ae\"], [0.3, \"#f1b6da\"], [0.4, \"#fde0ef\"], [0.5, \"#f7f7f7\"], [0.6, \"#e6f5d0\"], [0.7, \"#b8e186\"], [0.8, \"#7fbc41\"], [0.9, \"#4d9221\"], [1, \"#276419\"]], \"sequential\": [[0.0, \"#0d0887\"], [0.1111111111111111, \"#46039f\"], [0.2222222222222222, \"#7201a8\"], [0.3333333333333333, \"#9c179e\"], [0.4444444444444444, \"#bd3786\"], [0.5555555555555556, \"#d8576b\"], [0.6666666666666666, \"#ed7953\"], [0.7777777777777778, \"#fb9f3a\"], [0.8888888888888888, \"#fdca26\"], [1.0, \"#f0f921\"]], \"sequentialminus\": [[0.0, \"#0d0887\"], [0.1111111111111111, \"#46039f\"], [0.2222222222222222, \"#7201a8\"], [0.3333333333333333, \"#9c179e\"], [0.4444444444444444, \"#bd3786\"], [0.5555555555555556, \"#d8576b\"], [0.6666666666666666, \"#ed7953\"], [0.7777777777777778, \"#fb9f3a\"], [0.8888888888888888, \"#fdca26\"], [1.0, \"#f0f921\"]]}, \"colorway\": [\"#636efa\", \"#EF553B\", \"#00cc96\", \"#ab63fa\", \"#FFA15A\", \"#19d3f3\", \"#FF6692\", \"#B6E880\", \"#FF97FF\", \"#FECB52\"], \"font\": {\"color\": \"#2a3f5f\"}, \"geo\": {\"bgcolor\": \"white\", \"lakecolor\": \"white\", \"landcolor\": \"#E5ECF6\", \"showlakes\": true, \"showland\": true, \"subunitcolor\": \"white\"}, \"hoverlabel\": {\"align\": \"left\"}, \"hovermode\": \"closest\", \"mapbox\": {\"style\": \"light\"}, \"paper_bgcolor\": \"white\", \"plot_bgcolor\": \"#E5ECF6\", \"polar\": {\"angularaxis\": {\"gridcolor\": \"white\", \"linecolor\": \"white\", \"ticks\": \"\"}, \"bgcolor\": \"#E5ECF6\", \"radialaxis\": {\"gridcolor\": \"white\", \"linecolor\": \"white\", \"ticks\": \"\"}}, \"scene\": {\"xaxis\": {\"backgroundcolor\": \"#E5ECF6\", \"gridcolor\": \"white\", \"gridwidth\": 2, \"linecolor\": \"white\", \"showbackground\": true, \"ticks\": \"\", \"zerolinecolor\": \"white\"}, \"yaxis\": {\"backgroundcolor\": \"#E5ECF6\", \"gridcolor\": \"white\", \"gridwidth\": 2, \"linecolor\": \"white\", \"showbackground\": true, \"ticks\": \"\", \"zerolinecolor\": \"white\"}, \"zaxis\": {\"backgroundcolor\": \"#E5ECF6\", \"gridcolor\": \"white\", \"gridwidth\": 2, \"linecolor\": \"white\", \"showbackground\": true, \"ticks\": \"\", \"zerolinecolor\": \"white\"}}, \"shapedefaults\": {\"line\": {\"color\": \"#2a3f5f\"}}, \"ternary\": {\"aaxis\": {\"gridcolor\": \"white\", \"linecolor\": \"white\", \"ticks\": \"\"}, \"baxis\": {\"gridcolor\": \"white\", \"linecolor\": \"white\", \"ticks\": \"\"}, \"bgcolor\": \"#E5ECF6\", \"caxis\": {\"gridcolor\": \"white\", \"linecolor\": \"white\", \"ticks\": \"\"}}, \"title\": {\"x\": 0.05}, \"xaxis\": {\"automargin\": true, \"gridcolor\": \"white\", \"linecolor\": \"white\", \"ticks\": \"\", \"title\": {\"standoff\": 15}, \"zerolinecolor\": \"white\", \"zerolinewidth\": 2}, \"yaxis\": {\"automargin\": true, \"gridcolor\": \"white\", \"linecolor\": \"white\", \"ticks\": \"\", \"title\": {\"standoff\": 15}, \"zerolinecolor\": \"white\", \"zerolinewidth\": 2}}}, \"title\": {\"text\": \"Covid-19 Kerala Covid-19 cases timeline\"}},\n",
              "                        {\"responsive\": true}\n",
              "                    ).then(function(){\n",
              "                            \n",
              "var gd = document.getElementById('cc100783-4d94-405d-9fe0-08cf999e1a8e');\n",
              "var x = new MutationObserver(function (mutations, observer) {{\n",
              "        var display = window.getComputedStyle(gd).display;\n",
              "        if (!display || display === 'none') {{\n",
              "            console.log([gd, 'removed!']);\n",
              "            Plotly.purge(gd);\n",
              "            observer.disconnect();\n",
              "        }}\n",
              "}});\n",
              "\n",
              "// Listen for the removal of the full notebook cells\n",
              "var notebookContainer = gd.closest('#notebook-container');\n",
              "if (notebookContainer) {{\n",
              "    x.observe(notebookContainer, {childList: true});\n",
              "}}\n",
              "\n",
              "// Listen for the clearing of the current output cell\n",
              "var outputEl = gd.closest('.output');\n",
              "if (outputEl) {{\n",
              "    x.observe(outputEl, {childList: true});\n",
              "}}\n",
              "\n",
              "                        })\n",
              "                };\n",
              "                \n",
              "            </script>\n",
              "        </div>\n",
              "</body>\n",
              "</html>"
            ]
          },
          "metadata": {
            "tags": []
          }
        }
      ]
    },
    {
      "cell_type": "code",
      "metadata": {
        "id": "VmfU7eq-mL4b",
        "colab_type": "code",
        "colab": {}
      },
      "source": [
        "#plot for kerala trends cumilative\n",
        "cases_confirm_daily=json_confirmed[\"kl\"].tolist()\n",
        "cases_recover_daily=json_Recovered[\"kl\"].tolist()\n",
        "cases_dead_daily=json_Deceased[\"kl\"].tolist()\n",
        "\n",
        "cases_confirm_cumi=[]\n",
        "cases_recover_cumi=[]\n",
        "cases_dead_cumi=[]\n",
        "\n",
        "cases_confirm_cumi.append(int(cases_confirm_daily[0]))\n",
        "cases_recover_cumi.append(int(cases_recover_daily[0]))\n",
        "cases_dead_cumi.append(int(cases_dead_daily[0]))\n",
        "\n",
        "sum_r=int(cases_recover_daily[0])\n",
        "sum_c=int(cases_confirm_daily[0])\n",
        "sum_d=int(cases_dead_daily[0])\n",
        "\n",
        "length=len(cases_confirm_daily)\n",
        "for i in range(1,length):\n",
        "  sum_r=sum_r+int(cases_recover_daily[i])\n",
        "  sum_c=sum_c+int(cases_confirm_daily[i])\n",
        "  sum_d=sum_d+int(cases_dead_daily[i])\n",
        "  cases_confirm_cumi.append(sum_c)\n",
        "  cases_recover_cumi.append(sum_r)\n",
        "  cases_dead_cumi.append(sum_d)"
      ],
      "execution_count": 0,
      "outputs": []
    },
    {
      "cell_type": "code",
      "metadata": {
        "id": "QZJVMJi7anl9",
        "colab_type": "code",
        "outputId": "790bf8d3-a45b-4312-ee06-e4cc592759c2",
        "colab": {
          "base_uri": "https://localhost:8080/",
          "height": 542
        }
      },
      "source": [
        "trace4_1=go.Bar(x=json_confirmed[\"date\"],y=cases_confirm_cumi,name=\"Confirmed Kerala Cases\",marker_color='black')\n",
        "trace5_1=go.Bar(x=json_Deceased[\"date\"],y=cases_dead_cumi,name=\"Dead Kerala Cases\",marker_color='grey')\n",
        "\n",
        "layout = go.Layout(\n",
        "    title='Covid-19 Kerala Covid-19 cases timeline',paper_bgcolor='rgba(255,255,255,1)',\n",
        "                     plot_bgcolor='rgba(255,255,255,1)')\n",
        "data=[trace4_1,trace5_1]\n",
        "fig2_2=go.Figure(data=data,layout=layout)\n",
        "fig2_2.update_layout(\n",
        "    showlegend=False,\n",
        "    annotations=[\n",
        "        dict(\n",
        "            x=\"25-Mar-20\",\n",
        "            y=50,\n",
        "            xref=\"x\",\n",
        "            yref=\"y\",\n",
        "            text=\"Lockdown starts in India- 25 March 2020\",\n",
        "            showarrow=True,\n",
        "            arrowhead=7,\n",
        "            ax=0,\n",
        "            ay=-40\n",
        "        )\n",
        "    ]\n",
        ")\n",
        "\n",
        "fig2_2.show(renderer=\"colab\")"
      ],
      "execution_count": 0,
      "outputs": [
        {
          "output_type": "display_data",
          "data": {
            "text/html": [
              "<html>\n",
              "<head><meta charset=\"utf-8\" /></head>\n",
              "<body>\n",
              "    <div>\n",
              "            <script src=\"https://cdnjs.cloudflare.com/ajax/libs/mathjax/2.7.5/MathJax.js?config=TeX-AMS-MML_SVG\"></script><script type=\"text/javascript\">if (window.MathJax) {MathJax.Hub.Config({SVG: {font: \"STIX-Web\"}});}</script>\n",
              "                <script type=\"text/javascript\">window.PlotlyConfig = {MathJaxConfig: 'local'};</script>\n",
              "        <script src=\"https://cdn.plot.ly/plotly-latest.min.js\"></script>    \n",
              "            <div id=\"e3aac314-32e6-4051-9d8a-3be45dd9568e\" class=\"plotly-graph-div\" style=\"height:525px; width:100%;\"></div>\n",
              "            <script type=\"text/javascript\">\n",
              "                \n",
              "                    window.PLOTLYENV=window.PLOTLYENV || {};\n",
              "                    \n",
              "                if (document.getElementById(\"e3aac314-32e6-4051-9d8a-3be45dd9568e\")) {\n",
              "                    Plotly.newPlot(\n",
              "                        'e3aac314-32e6-4051-9d8a-3be45dd9568e',\n",
              "                        [{\"marker\": {\"color\": \"black\"}, \"name\": \"Confirmed Kerala Cases\", \"type\": \"bar\", \"x\": [\"14-Mar-20\", \"15-Mar-20\", \"16-Mar-20\", \"17-Mar-20\", \"18-Mar-20\", \"19-Mar-20\", \"20-Mar-20\", \"21-Mar-20\", \"22-Mar-20\", \"23-Mar-20\", \"24-Mar-20\", \"25-Mar-20\", \"26-Mar-20\", \"27-Mar-20\", \"28-Mar-20\", \"29-Mar-20\", \"30-Mar-20\", \"31-Mar-20\", \"01-Apr-20\", \"02-Apr-20\", \"03-Apr-20\", \"04-Apr-20\", \"05-Apr-20\", \"06-Apr-20\", \"07-Apr-20\", \"08-Apr-20\", \"09-Apr-20\", \"10-Apr-20\", \"11-Apr-20\", \"12-Apr-20\", \"13-Apr-20\", \"14-Apr-20\", \"15-Apr-20\", \"16-Apr-20\", \"17-Apr-20\", \"18-Apr-20\", \"19-Apr-20\", \"20-Apr-20\", \"21-Apr-20\", \"22-Apr-20\", \"23-Apr-20\", \"24-Apr-20\", \"25-Apr-20\", \"26-Apr-20\", \"27-Apr-20\", \"28-Apr-20\", \"29-Apr-20\", \"30-Apr-20\", \"01-May-20\", \"02-May-20\", \"03-May-20\", \"04-May-20\", \"05-May-20\", \"06-May-20\", \"07-May-20\", \"08-May-20\", \"09-May-20\", \"10-May-20\", \"11-May-20\", \"12-May-20\"], \"y\": [19, 24, 27, 27, 27, 28, 40, 52, 67, 95, 109, 118, 137, 176, 182, 202, 234, 241, 265, 286, 295, 306, 314, 327, 336, 345, 357, 364, 374, 376, 379, 387, 388, 395, 396, 400, 402, 408, 427, 438, 448, 451, 458, 469, 482, 486, 496, 498, 498, 500, 500, 500, 503, 503, 503, 504, 506, 513, 520, 525]}, {\"marker\": {\"color\": \"grey\"}, \"name\": \"Dead Kerala Cases\", \"type\": \"bar\", \"x\": [\"14-Mar-20\", \"15-Mar-20\", \"16-Mar-20\", \"17-Mar-20\", \"18-Mar-20\", \"19-Mar-20\", \"20-Mar-20\", \"21-Mar-20\", \"22-Mar-20\", \"23-Mar-20\", \"24-Mar-20\", \"25-Mar-20\", \"26-Mar-20\", \"27-Mar-20\", \"28-Mar-20\", \"29-Mar-20\", \"30-Mar-20\", \"31-Mar-20\", \"01-Apr-20\", \"02-Apr-20\", \"03-Apr-20\", \"04-Apr-20\", \"05-Apr-20\", \"06-Apr-20\", \"07-Apr-20\", \"08-Apr-20\", \"09-Apr-20\", \"10-Apr-20\", \"11-Apr-20\", \"12-Apr-20\", \"13-Apr-20\", \"14-Apr-20\", \"15-Apr-20\", \"16-Apr-20\", \"17-Apr-20\", \"18-Apr-20\", \"19-Apr-20\", \"20-Apr-20\", \"21-Apr-20\", \"22-Apr-20\", \"23-Apr-20\", \"24-Apr-20\", \"25-Apr-20\", \"26-Apr-20\", \"27-Apr-20\", \"28-Apr-20\", \"29-Apr-20\", \"30-Apr-20\", \"01-May-20\", \"02-May-20\", \"03-May-20\", \"04-May-20\", \"05-May-20\", \"06-May-20\", \"07-May-20\", \"08-May-20\", \"09-May-20\", \"10-May-20\", \"11-May-20\", \"12-May-20\"], \"y\": [0, 0, 0, 0, 0, 0, 0, 0, 0, 0, 0, 0, 0, 0, 1, 1, 1, 2, 2, 2, 2, 2, 2, 2, 2, 2, 2, 2, 3, 3, 3, 3, 3, 3, 3, 3, 3, 3, 3, 3, 3, 4, 4, 4, 4, 4, 4, 4, 4, 4, 4, 4, 4, 4, 4, 4, 4, 4, 4, 4]}],\n",
              "                        {\"annotations\": [{\"arrowhead\": 7, \"ax\": 0, \"ay\": -40, \"showarrow\": true, \"text\": \"Lockdown starts in India- 25 March 2020\", \"x\": \"25-Mar-20\", \"xref\": \"x\", \"y\": 50, \"yref\": \"y\"}], \"paper_bgcolor\": \"rgba(255,255,255,1)\", \"plot_bgcolor\": \"rgba(255,255,255,1)\", \"showlegend\": false, \"template\": {\"data\": {\"bar\": [{\"error_x\": {\"color\": \"#2a3f5f\"}, \"error_y\": {\"color\": \"#2a3f5f\"}, \"marker\": {\"line\": {\"color\": \"#E5ECF6\", \"width\": 0.5}}, \"type\": \"bar\"}], \"barpolar\": [{\"marker\": {\"line\": {\"color\": \"#E5ECF6\", \"width\": 0.5}}, \"type\": \"barpolar\"}], \"carpet\": [{\"aaxis\": {\"endlinecolor\": \"#2a3f5f\", \"gridcolor\": \"white\", \"linecolor\": \"white\", \"minorgridcolor\": \"white\", \"startlinecolor\": \"#2a3f5f\"}, \"baxis\": {\"endlinecolor\": \"#2a3f5f\", \"gridcolor\": \"white\", \"linecolor\": \"white\", \"minorgridcolor\": \"white\", \"startlinecolor\": \"#2a3f5f\"}, \"type\": \"carpet\"}], \"choropleth\": [{\"colorbar\": {\"outlinewidth\": 0, \"ticks\": \"\"}, \"type\": \"choropleth\"}], \"contour\": [{\"colorbar\": {\"outlinewidth\": 0, \"ticks\": \"\"}, \"colorscale\": [[0.0, \"#0d0887\"], [0.1111111111111111, \"#46039f\"], [0.2222222222222222, \"#7201a8\"], [0.3333333333333333, \"#9c179e\"], [0.4444444444444444, \"#bd3786\"], [0.5555555555555556, \"#d8576b\"], [0.6666666666666666, \"#ed7953\"], [0.7777777777777778, \"#fb9f3a\"], [0.8888888888888888, \"#fdca26\"], [1.0, \"#f0f921\"]], \"type\": \"contour\"}], \"contourcarpet\": [{\"colorbar\": {\"outlinewidth\": 0, \"ticks\": \"\"}, \"type\": \"contourcarpet\"}], \"heatmap\": [{\"colorbar\": {\"outlinewidth\": 0, \"ticks\": \"\"}, \"colorscale\": [[0.0, \"#0d0887\"], [0.1111111111111111, \"#46039f\"], [0.2222222222222222, \"#7201a8\"], [0.3333333333333333, \"#9c179e\"], [0.4444444444444444, \"#bd3786\"], [0.5555555555555556, \"#d8576b\"], [0.6666666666666666, \"#ed7953\"], [0.7777777777777778, \"#fb9f3a\"], [0.8888888888888888, \"#fdca26\"], [1.0, \"#f0f921\"]], \"type\": \"heatmap\"}], \"heatmapgl\": [{\"colorbar\": {\"outlinewidth\": 0, \"ticks\": \"\"}, \"colorscale\": [[0.0, \"#0d0887\"], [0.1111111111111111, \"#46039f\"], [0.2222222222222222, \"#7201a8\"], [0.3333333333333333, \"#9c179e\"], [0.4444444444444444, \"#bd3786\"], [0.5555555555555556, \"#d8576b\"], [0.6666666666666666, \"#ed7953\"], [0.7777777777777778, \"#fb9f3a\"], [0.8888888888888888, \"#fdca26\"], [1.0, \"#f0f921\"]], \"type\": \"heatmapgl\"}], \"histogram\": [{\"marker\": {\"colorbar\": {\"outlinewidth\": 0, \"ticks\": \"\"}}, \"type\": \"histogram\"}], \"histogram2d\": [{\"colorbar\": {\"outlinewidth\": 0, \"ticks\": \"\"}, \"colorscale\": [[0.0, \"#0d0887\"], [0.1111111111111111, \"#46039f\"], [0.2222222222222222, \"#7201a8\"], [0.3333333333333333, \"#9c179e\"], [0.4444444444444444, \"#bd3786\"], [0.5555555555555556, \"#d8576b\"], [0.6666666666666666, \"#ed7953\"], [0.7777777777777778, \"#fb9f3a\"], [0.8888888888888888, \"#fdca26\"], [1.0, \"#f0f921\"]], \"type\": \"histogram2d\"}], \"histogram2dcontour\": [{\"colorbar\": {\"outlinewidth\": 0, \"ticks\": \"\"}, \"colorscale\": [[0.0, \"#0d0887\"], [0.1111111111111111, \"#46039f\"], [0.2222222222222222, \"#7201a8\"], [0.3333333333333333, \"#9c179e\"], [0.4444444444444444, \"#bd3786\"], [0.5555555555555556, \"#d8576b\"], [0.6666666666666666, \"#ed7953\"], [0.7777777777777778, \"#fb9f3a\"], [0.8888888888888888, \"#fdca26\"], [1.0, \"#f0f921\"]], \"type\": \"histogram2dcontour\"}], \"mesh3d\": [{\"colorbar\": {\"outlinewidth\": 0, \"ticks\": \"\"}, \"type\": \"mesh3d\"}], \"parcoords\": [{\"line\": {\"colorbar\": {\"outlinewidth\": 0, \"ticks\": \"\"}}, \"type\": \"parcoords\"}], \"pie\": [{\"automargin\": true, \"type\": \"pie\"}], \"scatter\": [{\"marker\": {\"colorbar\": {\"outlinewidth\": 0, \"ticks\": \"\"}}, \"type\": \"scatter\"}], \"scatter3d\": [{\"line\": {\"colorbar\": {\"outlinewidth\": 0, \"ticks\": \"\"}}, \"marker\": {\"colorbar\": {\"outlinewidth\": 0, \"ticks\": \"\"}}, \"type\": \"scatter3d\"}], \"scattercarpet\": [{\"marker\": {\"colorbar\": {\"outlinewidth\": 0, \"ticks\": \"\"}}, \"type\": \"scattercarpet\"}], \"scattergeo\": [{\"marker\": {\"colorbar\": {\"outlinewidth\": 0, \"ticks\": \"\"}}, \"type\": \"scattergeo\"}], \"scattergl\": [{\"marker\": {\"colorbar\": {\"outlinewidth\": 0, \"ticks\": \"\"}}, \"type\": \"scattergl\"}], \"scattermapbox\": [{\"marker\": {\"colorbar\": {\"outlinewidth\": 0, \"ticks\": \"\"}}, \"type\": \"scattermapbox\"}], \"scatterpolar\": [{\"marker\": {\"colorbar\": {\"outlinewidth\": 0, \"ticks\": \"\"}}, \"type\": \"scatterpolar\"}], \"scatterpolargl\": [{\"marker\": {\"colorbar\": {\"outlinewidth\": 0, \"ticks\": \"\"}}, \"type\": \"scatterpolargl\"}], \"scatterternary\": [{\"marker\": {\"colorbar\": {\"outlinewidth\": 0, \"ticks\": \"\"}}, \"type\": \"scatterternary\"}], \"surface\": [{\"colorbar\": {\"outlinewidth\": 0, \"ticks\": \"\"}, \"colorscale\": [[0.0, \"#0d0887\"], [0.1111111111111111, \"#46039f\"], [0.2222222222222222, \"#7201a8\"], [0.3333333333333333, \"#9c179e\"], [0.4444444444444444, \"#bd3786\"], [0.5555555555555556, \"#d8576b\"], [0.6666666666666666, \"#ed7953\"], [0.7777777777777778, \"#fb9f3a\"], [0.8888888888888888, \"#fdca26\"], [1.0, \"#f0f921\"]], \"type\": \"surface\"}], \"table\": [{\"cells\": {\"fill\": {\"color\": \"#EBF0F8\"}, \"line\": {\"color\": \"white\"}}, \"header\": {\"fill\": {\"color\": \"#C8D4E3\"}, \"line\": {\"color\": \"white\"}}, \"type\": \"table\"}]}, \"layout\": {\"annotationdefaults\": {\"arrowcolor\": \"#2a3f5f\", \"arrowhead\": 0, \"arrowwidth\": 1}, \"coloraxis\": {\"colorbar\": {\"outlinewidth\": 0, \"ticks\": \"\"}}, \"colorscale\": {\"diverging\": [[0, \"#8e0152\"], [0.1, \"#c51b7d\"], [0.2, \"#de77ae\"], [0.3, \"#f1b6da\"], [0.4, \"#fde0ef\"], [0.5, \"#f7f7f7\"], [0.6, \"#e6f5d0\"], [0.7, \"#b8e186\"], [0.8, \"#7fbc41\"], [0.9, \"#4d9221\"], [1, \"#276419\"]], \"sequential\": [[0.0, \"#0d0887\"], [0.1111111111111111, \"#46039f\"], [0.2222222222222222, \"#7201a8\"], [0.3333333333333333, \"#9c179e\"], [0.4444444444444444, \"#bd3786\"], [0.5555555555555556, \"#d8576b\"], [0.6666666666666666, \"#ed7953\"], [0.7777777777777778, \"#fb9f3a\"], [0.8888888888888888, \"#fdca26\"], [1.0, \"#f0f921\"]], \"sequentialminus\": [[0.0, \"#0d0887\"], [0.1111111111111111, \"#46039f\"], [0.2222222222222222, \"#7201a8\"], [0.3333333333333333, \"#9c179e\"], [0.4444444444444444, \"#bd3786\"], [0.5555555555555556, \"#d8576b\"], [0.6666666666666666, \"#ed7953\"], [0.7777777777777778, \"#fb9f3a\"], [0.8888888888888888, \"#fdca26\"], [1.0, \"#f0f921\"]]}, \"colorway\": [\"#636efa\", \"#EF553B\", \"#00cc96\", \"#ab63fa\", \"#FFA15A\", \"#19d3f3\", \"#FF6692\", \"#B6E880\", \"#FF97FF\", \"#FECB52\"], \"font\": {\"color\": \"#2a3f5f\"}, \"geo\": {\"bgcolor\": \"white\", \"lakecolor\": \"white\", \"landcolor\": \"#E5ECF6\", \"showlakes\": true, \"showland\": true, \"subunitcolor\": \"white\"}, \"hoverlabel\": {\"align\": \"left\"}, \"hovermode\": \"closest\", \"mapbox\": {\"style\": \"light\"}, \"paper_bgcolor\": \"white\", \"plot_bgcolor\": \"#E5ECF6\", \"polar\": {\"angularaxis\": {\"gridcolor\": \"white\", \"linecolor\": \"white\", \"ticks\": \"\"}, \"bgcolor\": \"#E5ECF6\", \"radialaxis\": {\"gridcolor\": \"white\", \"linecolor\": \"white\", \"ticks\": \"\"}}, \"scene\": {\"xaxis\": {\"backgroundcolor\": \"#E5ECF6\", \"gridcolor\": \"white\", \"gridwidth\": 2, \"linecolor\": \"white\", \"showbackground\": true, \"ticks\": \"\", \"zerolinecolor\": \"white\"}, \"yaxis\": {\"backgroundcolor\": \"#E5ECF6\", \"gridcolor\": \"white\", \"gridwidth\": 2, \"linecolor\": \"white\", \"showbackground\": true, \"ticks\": \"\", \"zerolinecolor\": \"white\"}, \"zaxis\": {\"backgroundcolor\": \"#E5ECF6\", \"gridcolor\": \"white\", \"gridwidth\": 2, \"linecolor\": \"white\", \"showbackground\": true, \"ticks\": \"\", \"zerolinecolor\": \"white\"}}, \"shapedefaults\": {\"line\": {\"color\": \"#2a3f5f\"}}, \"ternary\": {\"aaxis\": {\"gridcolor\": \"white\", \"linecolor\": \"white\", \"ticks\": \"\"}, \"baxis\": {\"gridcolor\": \"white\", \"linecolor\": \"white\", \"ticks\": \"\"}, \"bgcolor\": \"#E5ECF6\", \"caxis\": {\"gridcolor\": \"white\", \"linecolor\": \"white\", \"ticks\": \"\"}}, \"title\": {\"x\": 0.05}, \"xaxis\": {\"automargin\": true, \"gridcolor\": \"white\", \"linecolor\": \"white\", \"ticks\": \"\", \"title\": {\"standoff\": 15}, \"zerolinecolor\": \"white\", \"zerolinewidth\": 2}, \"yaxis\": {\"automargin\": true, \"gridcolor\": \"white\", \"linecolor\": \"white\", \"ticks\": \"\", \"title\": {\"standoff\": 15}, \"zerolinecolor\": \"white\", \"zerolinewidth\": 2}}}, \"title\": {\"text\": \"Covid-19 Kerala Covid-19 cases timeline\"}},\n",
              "                        {\"responsive\": true}\n",
              "                    ).then(function(){\n",
              "                            \n",
              "var gd = document.getElementById('e3aac314-32e6-4051-9d8a-3be45dd9568e');\n",
              "var x = new MutationObserver(function (mutations, observer) {{\n",
              "        var display = window.getComputedStyle(gd).display;\n",
              "        if (!display || display === 'none') {{\n",
              "            console.log([gd, 'removed!']);\n",
              "            Plotly.purge(gd);\n",
              "            observer.disconnect();\n",
              "        }}\n",
              "}});\n",
              "\n",
              "// Listen for the removal of the full notebook cells\n",
              "var notebookContainer = gd.closest('#notebook-container');\n",
              "if (notebookContainer) {{\n",
              "    x.observe(notebookContainer, {childList: true});\n",
              "}}\n",
              "\n",
              "// Listen for the clearing of the current output cell\n",
              "var outputEl = gd.closest('.output');\n",
              "if (outputEl) {{\n",
              "    x.observe(outputEl, {childList: true});\n",
              "}}\n",
              "\n",
              "                        })\n",
              "                };\n",
              "                \n",
              "            </script>\n",
              "        </div>\n",
              "</body>\n",
              "</html>"
            ]
          },
          "metadata": {
            "tags": []
          }
        }
      ]
    },
    {
      "cell_type": "code",
      "metadata": {
        "id": "EqUQRq4FtZua",
        "colab_type": "code",
        "colab": {}
      },
      "source": [
        "# Add histogram data\n",
        "x1 = cases_recover_cumi\n",
        "x2 = cases_confirm_cumi\n",
        "dates=json_confirmed[\"date\"]\n",
        "trace_r1=go.Scatter(x=dates, y=x1,name=\"Recovered\")\n",
        "trace_c1=go.Scatter(x=dates, y=x2,name=\"Confirmed\")\n",
        "fig = go.Figure(data=[trace_r1,trace_c1])\n",
        "fig.update_layout(\n",
        "    showlegend=False,\n",
        "    annotations=[\n",
        "        dict(\n",
        "            x=\"25-Mar-20\",\n",
        "            y=50,\n",
        "            xref=\"x\",\n",
        "            yref=\"y\",\n",
        "            text=\"Lockdown starts in India- 25 March 2020\",\n",
        "            showarrow=True,\n",
        "            arrowhead=7,\n",
        "            ax=0,\n",
        "            ay=-40\n",
        "        )\n",
        "    ]\n",
        ")\n",
        "fig.show(renderer=\"colab\")\n",
        "\n",
        "\n"
      ],
      "execution_count": 0,
      "outputs": []
    },
    {
      "cell_type": "code",
      "metadata": {
        "id": "0nQq8IoF-cCY",
        "colab_type": "code",
        "colab": {}
      },
      "source": [
        "annotations=[\n",
        "        dict(\n",
        "            x=\"25-Mar-20\",\n",
        "            y=50,\n",
        "            xref=\"x\",\n",
        "            yref=\"y\",\n",
        "            text=\"Lockdown starts in India- 25 March 2020\",\n",
        "            showarrow=True,\n",
        "            arrowhead=7,\n",
        "            ax=0,\n",
        "            ay=-40\n",
        "        )\n",
        "    ]"
      ],
      "execution_count": 0,
      "outputs": []
    },
    {
      "cell_type": "code",
      "metadata": {
        "id": "PtPlKyo6-eRf",
        "colab_type": "code",
        "colab": {}
      },
      "source": [
        ""
      ],
      "execution_count": 0,
      "outputs": []
    },
    {
      "cell_type": "code",
      "metadata": {
        "id": "oUY_pv2SPoqs",
        "colab_type": "code",
        "colab": {}
      },
      "source": [
        "#helloooo"
      ],
      "execution_count": 0,
      "outputs": []
    },
    {
      "cell_type": "code",
      "metadata": {
        "id": "Z-MG8lUoPoqv",
        "colab_type": "code",
        "outputId": "006d9b9e-f3bb-4b5f-f9dc-443568c7ec45",
        "colab": {
          "base_uri": "https://localhost:8080/",
          "height": 86
        }
      },
      "source": [
        "#extracting data for nepal\n",
        "urlNepal=\"https://nepalcorona.info/api/v1/data/nepal-cases\"\n",
        "responseNepal = requests.get(\"https://nepalcorona.info/api/v1/data/nepal-cases\")\n",
        "responseNepal=responseNepal.json()\n",
        "json_pd_Nepal=pd.DataFrame(json_normalize(responseNepal['data']))"
      ],
      "execution_count": 0,
      "outputs": [
        {
          "output_type": "stream",
          "text": [
            "/usr/local/lib/python3.6/dist-packages/ipykernel_launcher.py:5: FutureWarning:\n",
            "\n",
            "pandas.io.json.json_normalize is deprecated, use pandas.json_normalize instead\n",
            "\n"
          ],
          "name": "stderr"
        }
      ]
    },
    {
      "cell_type": "code",
      "metadata": {
        "id": "TpyJK77LPoqy",
        "colab_type": "code",
        "colab": {}
      },
      "source": [
        "#extracting data for nepal--monthly data"
      ],
      "execution_count": 0,
      "outputs": []
    },
    {
      "cell_type": "code",
      "metadata": {
        "id": "30gO6m76Poq2",
        "colab_type": "code",
        "outputId": "afa7d956-1ce9-48e8-914f-877f3d625e2d",
        "colab": {
          "base_uri": "https://localhost:8080/",
          "height": 86
        }
      },
      "source": [
        "urlNepal=\"https://nepalcorona.info/api/v1/sitreports\"\n",
        "responseNepal = requests.get(urlNepal)\n",
        "responseNepal=responseNepal.json()\n",
        "json_pd_Nepal=pd.DataFrame(json_normalize(responseNepal['data']))"
      ],
      "execution_count": 0,
      "outputs": [
        {
          "output_type": "stream",
          "text": [
            "/usr/local/lib/python3.6/dist-packages/ipykernel_launcher.py:4: FutureWarning:\n",
            "\n",
            "pandas.io.json.json_normalize is deprecated, use pandas.json_normalize instead\n",
            "\n"
          ],
          "name": "stderr"
        }
      ]
    },
    {
      "cell_type": "code",
      "metadata": {
        "id": "vnp9UupXPoq5",
        "colab_type": "code",
        "colab": {}
      },
      "source": [
        ""
      ],
      "execution_count": 0,
      "outputs": []
    },
    {
      "cell_type": "code",
      "metadata": {
        "id": "SYdRL4ubPoq9",
        "colab_type": "code",
        "colab": {}
      },
      "source": [
        "# !pip install pyvirtualdisplay selenium\n",
        "# !pip install selenium"
      ],
      "execution_count": 0,
      "outputs": []
    },
    {
      "cell_type": "code",
      "metadata": {
        "id": "huw_zdIDPorA",
        "colab_type": "code",
        "colab": {}
      },
      "source": [
        "#getting world data for Covid-19 cases timeline"
      ],
      "execution_count": 0,
      "outputs": []
    },
    {
      "cell_type": "code",
      "metadata": {
        "id": "oOPjJJJwPorC",
        "colab_type": "code",
        "colab": {}
      },
      "source": [
        "urlName=\"https://data.humdata.org/hxlproxy/api/data-preview.csv?url=https%3A%2F%2Fraw.githubusercontent.com%2FCSSEGISandData%2FCOVID-19%2Fmaster%2Fcsse_covid_19_data%2Fcsse_covid_19_time_series%2Ftime_series_covid19_confirmed_global.csv&filename=time_series_covid19_confirmed_global.csv\"\n",
        "urlRecover=\"https://data.humdata.org/hxlproxy/api/data-preview.csv?url=https%3A%2F%2Fraw.githubusercontent.com%2FCSSEGISandData%2FCOVID-19%2Fmaster%2Fcsse_covid_19_data%2Fcsse_covid_19_time_series%2Ftime_series_covid19_recovered_global.csv&filename=time_series_covid19_recovered_global.csv\"\n",
        "urlDead=\"https://data.humdata.org/hxlproxy/api/data-preview.csv?url=https%3A%2F%2Fraw.githubusercontent.com%2FCSSEGISandData%2FCOVID-19%2Fmaster%2Fcsse_covid_19_data%2Fcsse_covid_19_time_series%2Ftime_series_covid19_deaths_global.csv&filename=time_series_covid19_deaths_global.csv\""
      ],
      "execution_count": 0,
      "outputs": []
    },
    {
      "cell_type": "code",
      "metadata": {
        "id": "aQL4vqA7PorF",
        "colab_type": "code",
        "colab": {}
      },
      "source": [
        "import csv\n",
        "import requests\n",
        "import os\n",
        "response = requests.get(urlName)  \n",
        "responseDead = requests.get(urlDead) \n",
        "responseRecover = requests.get(urlRecover)       \n",
        "path=r\"new.csv\"\n",
        "pathDead=r\"Dead.csv\"\n",
        "pathRecover=r\"Recover.csv\"\n",
        "with open(path, 'w') as file1:\n",
        "    writer = csv.writer(file1)\n",
        "    for line in response.iter_lines():\n",
        "        writer.writerow(line.decode('utf-8').split(','))\n",
        "with open(pathDead, 'w') as file2:\n",
        "    writer = csv.writer(file2)\n",
        "    for line in responseDead.iter_lines():\n",
        "        writer.writerow(line.decode('utf-8').split(','))\n",
        "with open(pathRecover, 'w') as file3:\n",
        "    writer = csv.writer(file3)\n",
        "    for line in responseRecover.iter_lines():\n",
        "        writer.writerow(line.decode('utf-8').split(','))"
      ],
      "execution_count": 0,
      "outputs": []
    },
    {
      "cell_type": "code",
      "metadata": {
        "id": "_u4F6sHzewOJ",
        "colab_type": "code",
        "colab": {}
      },
      "source": [
        ""
      ],
      "execution_count": 0,
      "outputs": []
    },
    {
      "cell_type": "code",
      "metadata": {
        "id": "e4hBbkpfP6M4",
        "colab_type": "code",
        "outputId": "e7534c8a-74cc-4f0f-86b7-238c1d9d1f1a",
        "colab": {
          "base_uri": "https://localhost:8080/",
          "height": 86
        }
      },
      "source": [
        "urlWeather=\"https://api.meteostat.net/v1/history/daily?station=47110&start=2020-01-22&end=2020-04-27&key=lqlsqK05\"\n",
        "responseWeather = requests.get(urlWeather)\n",
        "responseWeather=responseWeather.json()\n",
        "json_Weather=pd.DataFrame(json_normalize(responseWeather['data']))\n",
        "cols_Weather=['date','temperature','temperature_min','temperature_max']\n",
        "weather_df=json_Weather[cols_Weather]"
      ],
      "execution_count": 0,
      "outputs": [
        {
          "output_type": "stream",
          "text": [
            "/usr/local/lib/python3.6/dist-packages/ipykernel_launcher.py:4: FutureWarning:\n",
            "\n",
            "pandas.io.json.json_normalize is deprecated, use pandas.json_normalize instead\n",
            "\n"
          ],
          "name": "stderr"
        }
      ]
    },
    {
      "cell_type": "code",
      "metadata": {
        "id": "VDR3N8n8XWHo",
        "colab_type": "code",
        "colab": {}
      },
      "source": [
        "# urlGlobal=\"https://api.covid19api.com/\"\n",
        "# responseGlobal = requests.get(urlGlobal)\n",
        "# responseGlobal=responseGlobal.json()"
      ],
      "execution_count": 0,
      "outputs": []
    },
    {
      "cell_type": "code",
      "metadata": {
        "id": "NwzMEEYUTR1B",
        "colab_type": "code",
        "colab": {}
      },
      "source": [
        ""
      ],
      "execution_count": 0,
      "outputs": []
    },
    {
      "cell_type": "code",
      "metadata": {
        "id": "JCj0E7JBPorI",
        "colab_type": "code",
        "colab": {}
      },
      "source": [
        "# file=open(path,\"r\")\n",
        "# for data in file.readlines():"
      ],
      "execution_count": 0,
      "outputs": []
    },
    {
      "cell_type": "code",
      "metadata": {
        "id": "zCTiOAiyPorK",
        "colab_type": "code",
        "outputId": "19a91ad1-5eb2-4128-ca29-ef3f52589ee3",
        "colab": {
          "base_uri": "https://localhost:8080/",
          "height": 69
        }
      },
      "source": [
        "# dataFrame=pd.read_csv(\"out.csv\",index_col=\"Country/Region\",squeeze=True)\n",
        "data = pd.read_csv(path, error_bad_lines=False)\n",
        "dataRecover=pd.read_csv(pathRecover, error_bad_lines=False)\n",
        "dataDead=pd.read_csv(pathDead, error_bad_lines=False)\n",
        "#removing unwanted columns from the dataFrame\n",
        "cols=data.columns\n",
        "cols=cols[1:]\n",
        "data=data[cols]\n",
        "dataRecover=dataRecover[cols]\n",
        "dataDead=dataDead[cols]"
      ],
      "execution_count": 0,
      "outputs": [
        {
          "output_type": "stream",
          "text": [
            "b'Skipping line 146: expected 116 fields, saw 117\\nSkipping line 259: expected 116 fields, saw 117\\n'\n",
            "b'Skipping line 139: expected 116 fields, saw 117\\nSkipping line 244: expected 116 fields, saw 117\\n'\n",
            "b'Skipping line 145: expected 116 fields, saw 117\\nSkipping line 258: expected 116 fields, saw 117\\n'\n"
          ],
          "name": "stderr"
        }
      ]
    },
    {
      "cell_type": "code",
      "metadata": {
        "id": "FfkZsMYsZ6dx",
        "colab_type": "code",
        "colab": {}
      },
      "source": [
        ""
      ],
      "execution_count": 0,
      "outputs": []
    },
    {
      "cell_type": "code",
      "metadata": {
        "id": "v7pHRml25OTC",
        "colab_type": "code",
        "colab": {}
      },
      "source": [
        ""
      ],
      "execution_count": 0,
      "outputs": []
    },
    {
      "cell_type": "code",
      "metadata": {
        "id": "jrskTBMJPorO",
        "colab_type": "code",
        "colab": {}
      },
      "source": [
        "with open(path, 'rt') as f:\n",
        "     reader = csv.reader(f, delimiter=',')\n",
        "     for row in reader:\n",
        "          for field in row:\n",
        "                if field=='\"Korea':\n",
        "                    update_korea=row\n",
        "f.close()\n",
        "f=open(path,\"r\")\n",
        "first=f.readline().split(\",\")\n",
        "f.close()\n",
        "update_korea=update_korea[1:]\n",
        "update_korea.pop(1)\n",
        "update_korea[0]=\"South Korea\"\n",
        "first=first[1:]"
      ],
      "execution_count": 0,
      "outputs": []
    },
    {
      "cell_type": "code",
      "metadata": {
        "id": "L2zSAQ1Eaa--",
        "colab_type": "code",
        "colab": {}
      },
      "source": [
        "with open(pathDead, 'rt') as f:\n",
        "     reader = csv.reader(f, delimiter=',')\n",
        "     for row in reader:\n",
        "          for field in row:\n",
        "                if field=='\"Korea':\n",
        "                    update_koreaDead=row\n",
        "f.close()\n",
        "f=open(pathDead,\"r\")\n",
        "first=f.readline().split(\",\")\n",
        "f.close()\n",
        "update_koreaDead=update_koreaDead[1:]\n",
        "update_koreaDead.pop(1)\n",
        "update_koreaDead[0]=\"South Korea\"\n",
        "first=first[1:]"
      ],
      "execution_count": 0,
      "outputs": []
    },
    {
      "cell_type": "code",
      "metadata": {
        "id": "T_ca3kqkablN",
        "colab_type": "code",
        "colab": {}
      },
      "source": [
        "with open(pathRecover, 'rt') as f:\n",
        "     reader = csv.reader(f, delimiter=',')\n",
        "     for row in reader:\n",
        "          for field in row:\n",
        "                if field=='\"Korea':\n",
        "                    update_koreaRec=row\n",
        "f.close()\n",
        "f=open(pathRecover,\"r\")\n",
        "first=f.readline().split(\",\")\n",
        "f.close()\n",
        "update_koreaRec=update_koreaRec[1:]\n",
        "update_koreaRec.pop(1)\n",
        "update_koreaRec[0]=\"South Korea\"\n",
        "first=first[1:]"
      ],
      "execution_count": 0,
      "outputs": []
    },
    {
      "cell_type": "code",
      "metadata": {
        "id": "Dhz54Gp-alkb",
        "colab_type": "code",
        "colab": {}
      },
      "source": [
        "#data frame for measures\n",
        "urlMeasure=\"https://www.acaps.org/sites/acaps/files/resources/files/acaps_covid19_government_measures_dataset_0.xlsx\"\n",
        "responseMeasures = requests.get(urlMeasure)  \n",
        "    \n",
        "output = open('Measures.xlsx', 'wb')\n",
        "output.write(responseMeasures.content)\n",
        "output.close()\n",
        "\n",
        "\n",
        "data_xls = pd.read_excel('Measures.xlsx', 'Database', index_col=None)\n",
        "data_xls.to_csv('Measures.csv', encoding='utf-8')\n",
        "\n",
        "measure_df=pd.read_csv(\"Measures.csv\",error_bad_lines=False)\n",
        "measure_df=measure_df[['COUNTRY','CATEGORY','MEASURE','DATE_IMPLEMENTED']]\n",
        "measure_df.dropna()\n"
      ],
      "execution_count": 0,
      "outputs": []
    },
    {
      "cell_type": "code",
      "metadata": {
        "id": "su2Jh4Po5jU3",
        "colab_type": "code",
        "colab": {}
      },
      "source": [
        ""
      ],
      "execution_count": 0,
      "outputs": []
    },
    {
      "cell_type": "code",
      "metadata": {
        "id": "OAmcIycm4y5V",
        "colab_type": "code",
        "colab": {}
      },
      "source": [
        "#making a dataframe"
      ],
      "execution_count": 0,
      "outputs": []
    },
    {
      "cell_type": "code",
      "metadata": {
        "id": "R-cav9uTnOkb",
        "colab_type": "code",
        "colab": {}
      },
      "source": [
        "korea_tuple=tuple(update_korea)\n",
        "index=[i for i in range(0,len(first))]\n",
        "korea_tuple=[korea_tuple]\n",
        "dfObj = pd.DataFrame(korea_tuple, columns =first)"
      ],
      "execution_count": 0,
      "outputs": []
    },
    {
      "cell_type": "code",
      "metadata": {
        "id": "lrvgfk5Y4538",
        "colab_type": "code",
        "colab": {}
      },
      "source": [
        "korea_tupleDead=tuple(update_koreaDead)\n",
        "index=[i for i in range(0,len(first))]\n",
        "korea_tupleDead=[korea_tupleDead]\n",
        "dfObjDead = pd.DataFrame(korea_tupleDead, columns =first)"
      ],
      "execution_count": 0,
      "outputs": []
    },
    {
      "cell_type": "code",
      "metadata": {
        "id": "-uVaEqq6bd4n",
        "colab_type": "code",
        "colab": {}
      },
      "source": [
        "korea_tupleRec=tuple(update_koreaRec)\n",
        "index=[i for i in range(0,len(first))]\n",
        "korea_tupleRec=[korea_tupleRec]\n",
        "dfObjRec = pd.DataFrame(korea_tupleRec, columns =first)"
      ],
      "execution_count": 0,
      "outputs": []
    },
    {
      "cell_type": "code",
      "metadata": {
        "id": "GbUBOeW8PorS",
        "colab_type": "code",
        "colab": {}
      },
      "source": [
        "Flag=0\n",
        "df1=data['Country/Region'].str.contains(\"Korea\")\n",
        "for i in df1:\n",
        "  if i==True:\n",
        "    Flag=1\n",
        "if Flag==0:\n",
        "  data=data.append(dfObj)\n",
        "data=data.set_index(i for i in range(len(data.index)))"
      ],
      "execution_count": 0,
      "outputs": []
    },
    {
      "cell_type": "code",
      "metadata": {
        "id": "7z7k4sxjaHyV",
        "colab_type": "code",
        "colab": {}
      },
      "source": [
        "Flag=0\n",
        "df2=dataDead['Country/Region'].str.contains(\"Korea\")\n",
        "for i in df2:\n",
        "  if i==True:\n",
        "    Flag=1\n",
        "if Flag==0:\n",
        "  dataDead=dataDead.append(dfObjDead)\n",
        "dataDead=dataDead.set_index(i for i in range(len(dataDead.index)))"
      ],
      "execution_count": 0,
      "outputs": []
    },
    {
      "cell_type": "code",
      "metadata": {
        "id": "9FiffrlEbtJ0",
        "colab_type": "code",
        "colab": {}
      },
      "source": [
        "Flag=0\n",
        "df3=dataRecover['Country/Region'].str.contains(\"Korea\")\n",
        "for i in df3:\n",
        "  if i==True:\n",
        "    Flag=1\n",
        "if Flag==0:\n",
        "  dataRecover=dataRecover.append(dfObjRec)\n",
        "dataRecover=dataRecover.set_index(i for i in range(len(dataRecover.index)))"
      ],
      "execution_count": 0,
      "outputs": []
    },
    {
      "cell_type": "code",
      "metadata": {
        "id": "N7aypLxMcMgk",
        "colab_type": "code",
        "colab": {}
      },
      "source": [
        ""
      ],
      "execution_count": 0,
      "outputs": []
    },
    {
      "cell_type": "code",
      "metadata": {
        "id": "pvuUpXwP4-Yo",
        "colab_type": "code",
        "colab": {}
      },
      "source": [
        "def plottinggraphs(cases,dates,country):\n",
        "  trace10=go.Bar(x=dates,y=cases,name=\"Total Number of cases in {}\".format(country),marker_color='black')\n",
        "  layout = go.Layout(title='Covid-19 {} New cases timeline'.format(country),paper_bgcolor='rgba(255,255,255,1)',\n",
        "                     plot_bgcolor='rgba(255,255,255,1)')\n",
        "  data=[trace10]\n",
        "  fig2=go.Figure(data=data,layout=layout)\n",
        "  fig2.update_layout(legend=dict(x=.2, y=0.7))\n",
        "  fig2.show(renderer=\"colab\")"
      ],
      "execution_count": 0,
      "outputs": []
    },
    {
      "cell_type": "code",
      "metadata": {
        "id": "A0AMD1NQ7xSX",
        "colab_type": "code",
        "colab": {}
      },
      "source": [
        "def plottinggraphs1(casesD,casesR,dates,country):\n",
        "  trace10_1=go.Bar(x=dates,y=casesD,name=\"Total number of dead cases in {}\".format(country),marker_color='grey')\n",
        "  trace10_2=go.Bar(x=dates,y=casesR,name=\"Total number of recovered cases in {}\".format(country),marker_color='white')\n",
        "  layout = go.Layout(title='Covid-19 {} Recovered-Dead cases timeline'.format(country),paper_bgcolor='rgba(255,255,255,1)',\n",
        "                     plot_bgcolor='rgba(255,255,255,1)')\n",
        "  data=[trace10_1,trace10_2]\n",
        "  fig2_1=go.Figure(data=data,layout=layout)\n",
        "  fig2_1.update_layout(legend=dict(x=.2, y=0.7))\n",
        "  fig2_1.show(renderer=\"colab\")"
      ],
      "execution_count": 0,
      "outputs": []
    },
    {
      "cell_type": "code",
      "metadata": {
        "id": "23B-iLEcMjbX",
        "colab_type": "code",
        "colab": {}
      },
      "source": [
        "def plottingdaily(cases,casesD,dates,country,annotations_cus):\n",
        "  trace11=go.Bar(x=dates,y=cases,name=\"Daily cases in {}\".format(country),marker_color='black')\n",
        "  trace11_3=go.Bar(x=dates,y=casesD,name=\"Daily dead cases in {}\".format(country),marker_color='grey')\n",
        "#   trace11_3 = go.Line(\n",
        "#     x=dates,\n",
        "#     y=cases,\n",
        "#     mode='lines+markers',\n",
        "#     marker=dict(\n",
        "#         size=6,\n",
        "#         color='rgb(0,0,255)',\n",
        "#         symbol='triangle-up'\n",
        "#     ),\n",
        "#     showlegend=False\n",
        "# )\n",
        "# paper_bgcolor='rgba(255,255,255,1)',plot_bgcolor='rgba(255,255,255,1)' is used to change the background colour\n",
        "  layout = go.Layout(title='Covid-19 {} daily cases '.format(country),paper_bgcolor='rgba(255,255,255,1)',\n",
        "                     plot_bgcolor='rgba(255,255,255,1)')\n",
        "  data=[trace11,trace11_3]\n",
        "  fig3=go.Figure(data=data,layout=layout)\n",
        "  fig3.update_layout(legend=dict(x=0, y=1),annotations=annotations_cus)\n",
        "  fig3.show(renderer=\"colab\") "
      ],
      "execution_count": 0,
      "outputs": []
    },
    {
      "cell_type": "code",
      "metadata": {
        "id": "lilYvMf774PO",
        "colab_type": "code",
        "colab": {}
      },
      "source": [
        "def plottingdaily1(casesD,casesR,dates,country):\n",
        "  trace11_1=go.Bar(x=dates,y=casesD,name=\"Daily dead cases in {}\".format(country),marker_color='red')\n",
        "  trace11_2=go.Bar(x=dates,y=casesR,name=\"Daily Recovered cases in {}\".format(country),marker_color='green')\n",
        "  trace11_4 = go.Line(\n",
        "    x=dates,\n",
        "    y=casesD,\n",
        "    mode='lines+markers',\n",
        "    marker=dict(\n",
        "        size=6,\n",
        "        color='rgb(255,0,0)',\n",
        "        symbol='triangle-up'\n",
        "    ),\n",
        "    showlegend=False\n",
        "    )\n",
        "  trace11_5 = go.Line(\n",
        "    x=dates,\n",
        "    y=casesR,\n",
        "    mode='lines+markers',\n",
        "    marker=dict(\n",
        "        size=6,\n",
        "        color='rgb(0,255,0)',\n",
        "        symbol='triangle-up'\n",
        "    ),\n",
        "    showlegend=False)\n",
        "  layout = go.Layout(title='Covid-19 {} daily cases '.format(country),paper_bgcolor='rgba(255,255,255,1)',\n",
        "                     plot_bgcolor='rgba(255,255,255,1)')\n",
        "  data=[trace11_1,trace11_2,trace11_4,trace11_5]\n",
        "  fig3_1=go.Figure(data=data,layout=layout)\n",
        "  fig3_1.update_layout(legend=dict(x=0, y=0.7))\n",
        "  fig3_1.show(renderer=\"colab\") "
      ],
      "execution_count": 0,
      "outputs": []
    },
    {
      "cell_type": "code",
      "metadata": {
        "id": "ZVJIVE0RJ09-",
        "colab_type": "code",
        "colab": {}
      },
      "source": [
        "def plottingdaily_norm(cases,dates,country):\n",
        "  norm_cases=[case/40 for case in cases]\n",
        "  trace12=go.Bar(x=dates,y=norm_cases,name=\"Number of daily cases in {}\".format(country),marker_color='blue')\n",
        "  layout = go.Layout(title='Covid-19 {} daily cases '.format(country),paper_bgcolor='rgba(255,255,255,1)',\n",
        "                     plot_bgcolor='rgba(255,255,255,1)')\n",
        "  #trace with smaller marker\n",
        "  trace12_1=go.Scatter(mode='lines+markers',\n",
        "                      x=dates,\n",
        "                      y=weather_df['temperature_max'],\n",
        "                      name='Maximum Temperature',\n",
        "                      marker_color='rgba(152, 0, 0, .8)'\n",
        "                      )\n",
        "\n",
        "# Add trace with large markers\n",
        "  trace12_2=go.Scatter(mode='lines+markers',\n",
        "                      x=dates,\n",
        "                      y=weather_df['temperature_min'],\n",
        "                      name='Min Temperature',\n",
        "                      marker_color='rgba(255, 182, 193, .9)'\n",
        "                      )\n",
        "\n",
        "  data=[trace12,trace12_1,trace12_2]\n",
        "  fig4=go.Figure(data=data,layout=layout)\n",
        "  fig4.update_layout(legend=dict(x=.2, y=0.7))\n",
        "  fig4.show(renderer=\"colab\") "
      ],
      "execution_count": 0,
      "outputs": []
    },
    {
      "cell_type": "code",
      "metadata": {
        "id": "21X68f-y9QI_",
        "colab_type": "code",
        "colab": {}
      },
      "source": [
        "# def plotgeo(map_df,lati,longti,country):\n",
        "#   import plotly.express as px\n",
        "#   df = px.data.gapminder()\n",
        "#   fig = px.scatter_geo(map_df, locations=\"Cases\",color='rgba(102, 102, 102)',\n",
        "#                        hover_name=\"Cases\", size=\"Cases\",\n",
        "#                        animation_frame=\"Dates\",\n",
        "#                        projection=\"natural earth\")\n",
        "#   fig.show(renderer=\"colab\")"
      ],
      "execution_count": 0,
      "outputs": []
    },
    {
      "cell_type": "code",
      "metadata": {
        "id": "__kUQCSlLstt",
        "colab_type": "code",
        "colab": {}
      },
      "source": [
        "def daily_Case(cases):\n",
        "  daily=[]\n",
        "  for i in range(len(cases)-1):\n",
        "    daily.append(cases[i+1]-cases[i])\n",
        "  return daily"
      ],
      "execution_count": 0,
      "outputs": []
    },
    {
      "cell_type": "code",
      "metadata": {
        "id": "FLAqCanoCQZm",
        "colab_type": "code",
        "colab": {}
      },
      "source": [
        "def get_annotations(country_select):\n",
        "  measures=measure_df.loc[measure_df['COUNTRY']==country_select]\n",
        "  measures=measures.drop_duplicates(['MEASURE'])\n",
        "  measures=measures.dropna()\n",
        "  measures=measures.sort_values(['DATE_IMPLEMENTED'])\n",
        "  measures['DATE_IMPLEMENTED']=measures['DATE_IMPLEMENTED'].apply(lambda x: datetime.strptime(x, '%Y-%m-%d').date())\n",
        "  measures['DATE_IMPLEMENTED']=measures['DATE_IMPLEMENTED'].apply(lambda x: x.strftime(\"%m/%d/%y\"))\n",
        "  measures_plot=measures[1:]  # indicate the number of measures to be plotted \n",
        "  annotations_cus=[]\n",
        "  pos=0\n",
        "  for i in measures_plot.index.values:\n",
        "    annotations_cus.append( dict(\n",
        "                x=measures_plot['DATE_IMPLEMENTED'][i] ,\n",
        "                y=3000+pos,\n",
        "                xref=\"x\",\n",
        "                yref=\"y\",\n",
        "                showarrow=True,\n",
        "                text=measures_plot['MEASURE'][i],\n",
        "                arrowhead=7,\n",
        "                ax=0,\n",
        "                ay=-40,        \n",
        "                font=dict(\n",
        "                      family=\"Courier New, monospace\",\n",
        "                      size=16,\n",
        "                      color=\"#ff7f0e\"\n",
        "            )))\n",
        "    if pos==0 or pos==2000:\n",
        "      pos=1000\n",
        "    elif pos==1000:\n",
        "      pos=2000\n",
        "  return annotations_cus"
      ],
      "execution_count": 0,
      "outputs": []
    },
    {
      "cell_type": "code",
      "metadata": {
        "id": "qyZPrL2LXzaM",
        "colab_type": "code",
        "colab": {}
      },
      "source": [
        "def plottingCountries(country):\n",
        "  country=country\n",
        "  Index_label = data[data['Country/Region']==country].index.tolist()\n",
        "  Index_labelD = dataDead[dataDead['Country/Region']==country].index.tolist()\n",
        "  Index_labelR = dataRecover[dataRecover['Country/Region']==country].index.tolist()\n",
        "  Index_label=int(Index_label[0])\n",
        "  Index_labelD=int(Index_labelD[0])\n",
        "  Index_labelR=int(Index_labelR[0])\n",
        "  #country_data=data.loc[data['Country/Region']==country]\n",
        "  country_data=data.loc[Index_label]\n",
        "  country_name=country_data[0]\n",
        "  lati=country_data[1]\n",
        "  longti=country_data[2]\n",
        "\n",
        "  cases=country_data[3:][45:]                #edit here to change the start date\n",
        "  casesD=dataDead.loc[Index_labelD][3:][45:]    #edit here to change the start date\n",
        "  casesR=dataRecover.loc[Index_labelR][3:][45:]   #edit here to change the start date\n",
        "\n",
        "  cases=[float(x) for x in cases if x == x]\n",
        "  casesD=[float(x) for x in casesD if x == x]\n",
        "  casesR=[float(x) for x in casesR if x == x]\n",
        "\n",
        "  daily_cases=daily_Case(cases)\n",
        "  daily_caseD=daily_Case(casesD)\n",
        "  daily_caseR=daily_Case(casesR)\n",
        "  dates=cols[3:][45:]                             #edit here to change the start date\n",
        "  # dates=[x.strftime(\"%m/%d/%y\") for x in dates]\n",
        "  dates=[datetime.strptime(date, '%m/%d/%y').date() for date in dates]\n",
        "  dates=[date.strftime(\"%m/%d/%y\") for date in dates]\n",
        "  map_dates=[tuple(dates)]\n",
        "  map_cases=[tuple(cases)]\n",
        "  map_daily=[tuple(daily_cases)]\n",
        "  index=[i for i in range(0,len(dates))]\n",
        "  map_df = pd.DataFrame(list(zip(map_dates, map_cases)), columns =['Dates', 'Cases']) \n",
        "\n",
        "  annotations_cus=get_annotations(country)\n",
        "  plottinggraphs(cases,dates,country)\n",
        "  plottinggraphs1(casesD,casesR,dates,country)\n",
        "  plottingdaily(daily_cases,daily_caseD,dates,country,annotations_cus)\n",
        "  plottingdaily1(daily_caseD,daily_caseR,dates,country)\n",
        "  plottingdaily_norm(daily_cases,dates,country)\n",
        "  # plotgeo(map_df,lati,longti,country)"
      ],
      "execution_count": 0,
      "outputs": []
    },
    {
      "cell_type": "code",
      "metadata": {
        "id": "MdqdpWCHDCt5",
        "colab_type": "code",
        "colab": {
          "base_uri": "https://localhost:8080/",
          "height": 1000
        },
        "outputId": "33ab6a31-692a-402e-d03f-67c7717b1ecc"
      },
      "source": [
        "#Give the name of the country for which data to be plotted\n",
        "plottingCountries(\"Mexico\")"
      ],
      "execution_count": 331,
      "outputs": [
        {
          "output_type": "stream",
          "text": [
            "['03/07/20', '03/08/20', '03/09/20', '03/10/20', '03/11/20', '03/12/20', '03/13/20', '03/14/20', '03/15/20', '03/16/20', '03/17/20', '03/18/20', '03/19/20', '03/20/20', '03/21/20', '03/22/20', '03/23/20', '03/24/20', '03/25/20', '03/26/20', '03/27/20', '03/28/20', '03/29/20', '03/30/20', '03/31/20', '04/01/20', '04/02/20', '04/03/20', '04/04/20', '04/05/20', '04/06/20', '04/07/20', '04/08/20', '04/09/20', '04/10/20', '04/11/20', '04/12/20', '04/13/20', '04/14/20', '04/15/20', '04/16/20', '04/17/20', '04/18/20', '04/19/20', '04/20/20', '04/21/20', '04/22/20', '04/23/20', '04/24/20', '04/25/20', '04/26/20', '04/27/20', '04/28/20', '04/29/20', '04/30/20', '05/01/20', '05/02/20', '05/03/20', '05/04/20', '05/05/20', '05/06/20', '05/07/20', '05/08/20', '05/09/20', '05/10/20', '05/11/20', '05/12/20']\n"
          ],
          "name": "stdout"
        },
        {
          "output_type": "display_data",
          "data": {
            "text/html": [
              "<html>\n",
              "<head><meta charset=\"utf-8\" /></head>\n",
              "<body>\n",
              "    <div>\n",
              "            <script src=\"https://cdnjs.cloudflare.com/ajax/libs/mathjax/2.7.5/MathJax.js?config=TeX-AMS-MML_SVG\"></script><script type=\"text/javascript\">if (window.MathJax) {MathJax.Hub.Config({SVG: {font: \"STIX-Web\"}});}</script>\n",
              "                <script type=\"text/javascript\">window.PlotlyConfig = {MathJaxConfig: 'local'};</script>\n",
              "        <script src=\"https://cdn.plot.ly/plotly-latest.min.js\"></script>    \n",
              "            <div id=\"b2d267b9-5bb7-4bd8-a3c7-525708c1ba4d\" class=\"plotly-graph-div\" style=\"height:525px; width:100%;\"></div>\n",
              "            <script type=\"text/javascript\">\n",
              "                \n",
              "                    window.PLOTLYENV=window.PLOTLYENV || {};\n",
              "                    \n",
              "                if (document.getElementById(\"b2d267b9-5bb7-4bd8-a3c7-525708c1ba4d\")) {\n",
              "                    Plotly.newPlot(\n",
              "                        'b2d267b9-5bb7-4bd8-a3c7-525708c1ba4d',\n",
              "                        [{\"marker\": {\"color\": \"black\"}, \"name\": \"Total Number of cases in Mexico\", \"type\": \"bar\", \"x\": [\"03/07/20\", \"03/08/20\", \"03/09/20\", \"03/10/20\", \"03/11/20\", \"03/12/20\", \"03/13/20\", \"03/14/20\", \"03/15/20\", \"03/16/20\", \"03/17/20\", \"03/18/20\", \"03/19/20\", \"03/20/20\", \"03/21/20\", \"03/22/20\", \"03/23/20\", \"03/24/20\", \"03/25/20\", \"03/26/20\", \"03/27/20\", \"03/28/20\", \"03/29/20\", \"03/30/20\", \"03/31/20\", \"04/01/20\", \"04/02/20\", \"04/03/20\", \"04/04/20\", \"04/05/20\", \"04/06/20\", \"04/07/20\", \"04/08/20\", \"04/09/20\", \"04/10/20\", \"04/11/20\", \"04/12/20\", \"04/13/20\", \"04/14/20\", \"04/15/20\", \"04/16/20\", \"04/17/20\", \"04/18/20\", \"04/19/20\", \"04/20/20\", \"04/21/20\", \"04/22/20\", \"04/23/20\", \"04/24/20\", \"04/25/20\", \"04/26/20\", \"04/27/20\", \"04/28/20\", \"04/29/20\", \"04/30/20\", \"05/01/20\", \"05/02/20\", \"05/03/20\", \"05/04/20\", \"05/05/20\", \"05/06/20\", \"05/07/20\", \"05/08/20\", \"05/09/20\", \"05/10/20\", \"05/11/20\", \"05/12/20\"], \"y\": [6.0, 7.0, 7.0, 7.0, 8.0, 12.0, 26.0, 41.0, 53.0, 82.0, 93.0, 118.0, 164.0, 203.0, 251.0, 316.0, 367.0, 405.0, 475.0, 585.0, 717.0, 848.0, 993.0, 1094.0, 1215.0, 1378.0, 1510.0, 1688.0, 1890.0, 2143.0, 2439.0, 2785.0, 3181.0, 3441.0, 3844.0, 4219.0, 4661.0, 5014.0, 5399.0, 5847.0, 6297.0, 6875.0, 7497.0, 8261.0, 8772.0, 9501.0, 10544.0, 11633.0, 12872.0, 13842.0, 14677.0, 15529.0, 16752.0, 17799.0, 19224.0, 20739.0, 22088.0, 23471.0, 24905.0, 26025.0, 27634.0, 29616.0, 31522.0, 33460.0, 35022.0, 36327.0, 38324.0]}],\n",
              "                        {\"legend\": {\"x\": 0.2, \"y\": 0.7}, \"paper_bgcolor\": \"rgba(255,255,255,1)\", \"plot_bgcolor\": \"rgba(255,255,255,1)\", \"template\": {\"data\": {\"bar\": [{\"error_x\": {\"color\": \"#2a3f5f\"}, \"error_y\": {\"color\": \"#2a3f5f\"}, \"marker\": {\"line\": {\"color\": \"#E5ECF6\", \"width\": 0.5}}, \"type\": \"bar\"}], \"barpolar\": [{\"marker\": {\"line\": {\"color\": \"#E5ECF6\", \"width\": 0.5}}, \"type\": \"barpolar\"}], \"carpet\": [{\"aaxis\": {\"endlinecolor\": \"#2a3f5f\", \"gridcolor\": \"white\", \"linecolor\": \"white\", \"minorgridcolor\": \"white\", \"startlinecolor\": \"#2a3f5f\"}, \"baxis\": {\"endlinecolor\": \"#2a3f5f\", \"gridcolor\": \"white\", \"linecolor\": \"white\", \"minorgridcolor\": \"white\", \"startlinecolor\": \"#2a3f5f\"}, \"type\": \"carpet\"}], \"choropleth\": [{\"colorbar\": {\"outlinewidth\": 0, \"ticks\": \"\"}, \"type\": \"choropleth\"}], \"contour\": [{\"colorbar\": {\"outlinewidth\": 0, \"ticks\": \"\"}, \"colorscale\": [[0.0, \"#0d0887\"], [0.1111111111111111, \"#46039f\"], [0.2222222222222222, \"#7201a8\"], [0.3333333333333333, \"#9c179e\"], [0.4444444444444444, \"#bd3786\"], [0.5555555555555556, \"#d8576b\"], [0.6666666666666666, \"#ed7953\"], [0.7777777777777778, \"#fb9f3a\"], [0.8888888888888888, \"#fdca26\"], [1.0, \"#f0f921\"]], \"type\": \"contour\"}], \"contourcarpet\": [{\"colorbar\": {\"outlinewidth\": 0, \"ticks\": \"\"}, \"type\": \"contourcarpet\"}], \"heatmap\": [{\"colorbar\": {\"outlinewidth\": 0, \"ticks\": \"\"}, \"colorscale\": [[0.0, \"#0d0887\"], [0.1111111111111111, \"#46039f\"], [0.2222222222222222, \"#7201a8\"], [0.3333333333333333, \"#9c179e\"], [0.4444444444444444, \"#bd3786\"], [0.5555555555555556, \"#d8576b\"], [0.6666666666666666, \"#ed7953\"], [0.7777777777777778, \"#fb9f3a\"], [0.8888888888888888, \"#fdca26\"], [1.0, \"#f0f921\"]], \"type\": \"heatmap\"}], \"heatmapgl\": [{\"colorbar\": {\"outlinewidth\": 0, \"ticks\": \"\"}, \"colorscale\": [[0.0, \"#0d0887\"], [0.1111111111111111, \"#46039f\"], [0.2222222222222222, \"#7201a8\"], [0.3333333333333333, \"#9c179e\"], [0.4444444444444444, \"#bd3786\"], [0.5555555555555556, \"#d8576b\"], [0.6666666666666666, \"#ed7953\"], [0.7777777777777778, \"#fb9f3a\"], [0.8888888888888888, \"#fdca26\"], [1.0, \"#f0f921\"]], \"type\": \"heatmapgl\"}], \"histogram\": [{\"marker\": {\"colorbar\": {\"outlinewidth\": 0, \"ticks\": \"\"}}, \"type\": \"histogram\"}], \"histogram2d\": [{\"colorbar\": {\"outlinewidth\": 0, \"ticks\": \"\"}, \"colorscale\": [[0.0, \"#0d0887\"], [0.1111111111111111, \"#46039f\"], [0.2222222222222222, \"#7201a8\"], [0.3333333333333333, \"#9c179e\"], [0.4444444444444444, \"#bd3786\"], [0.5555555555555556, \"#d8576b\"], [0.6666666666666666, \"#ed7953\"], [0.7777777777777778, \"#fb9f3a\"], [0.8888888888888888, \"#fdca26\"], [1.0, \"#f0f921\"]], \"type\": \"histogram2d\"}], \"histogram2dcontour\": [{\"colorbar\": {\"outlinewidth\": 0, \"ticks\": \"\"}, \"colorscale\": [[0.0, \"#0d0887\"], [0.1111111111111111, \"#46039f\"], [0.2222222222222222, \"#7201a8\"], [0.3333333333333333, \"#9c179e\"], [0.4444444444444444, \"#bd3786\"], [0.5555555555555556, \"#d8576b\"], [0.6666666666666666, \"#ed7953\"], [0.7777777777777778, \"#fb9f3a\"], [0.8888888888888888, \"#fdca26\"], [1.0, \"#f0f921\"]], \"type\": \"histogram2dcontour\"}], \"mesh3d\": [{\"colorbar\": {\"outlinewidth\": 0, \"ticks\": \"\"}, \"type\": \"mesh3d\"}], \"parcoords\": [{\"line\": {\"colorbar\": {\"outlinewidth\": 0, \"ticks\": \"\"}}, \"type\": \"parcoords\"}], \"pie\": [{\"automargin\": true, \"type\": \"pie\"}], \"scatter\": [{\"marker\": {\"colorbar\": {\"outlinewidth\": 0, \"ticks\": \"\"}}, \"type\": \"scatter\"}], \"scatter3d\": [{\"line\": {\"colorbar\": {\"outlinewidth\": 0, \"ticks\": \"\"}}, \"marker\": {\"colorbar\": {\"outlinewidth\": 0, \"ticks\": \"\"}}, \"type\": \"scatter3d\"}], \"scattercarpet\": [{\"marker\": {\"colorbar\": {\"outlinewidth\": 0, \"ticks\": \"\"}}, \"type\": \"scattercarpet\"}], \"scattergeo\": [{\"marker\": {\"colorbar\": {\"outlinewidth\": 0, \"ticks\": \"\"}}, \"type\": \"scattergeo\"}], \"scattergl\": [{\"marker\": {\"colorbar\": {\"outlinewidth\": 0, \"ticks\": \"\"}}, \"type\": \"scattergl\"}], \"scattermapbox\": [{\"marker\": {\"colorbar\": {\"outlinewidth\": 0, \"ticks\": \"\"}}, \"type\": \"scattermapbox\"}], \"scatterpolar\": [{\"marker\": {\"colorbar\": {\"outlinewidth\": 0, \"ticks\": \"\"}}, \"type\": \"scatterpolar\"}], \"scatterpolargl\": [{\"marker\": {\"colorbar\": {\"outlinewidth\": 0, \"ticks\": \"\"}}, \"type\": \"scatterpolargl\"}], \"scatterternary\": [{\"marker\": {\"colorbar\": {\"outlinewidth\": 0, \"ticks\": \"\"}}, \"type\": \"scatterternary\"}], \"surface\": [{\"colorbar\": {\"outlinewidth\": 0, \"ticks\": \"\"}, \"colorscale\": [[0.0, \"#0d0887\"], [0.1111111111111111, \"#46039f\"], [0.2222222222222222, \"#7201a8\"], [0.3333333333333333, \"#9c179e\"], [0.4444444444444444, \"#bd3786\"], [0.5555555555555556, \"#d8576b\"], [0.6666666666666666, \"#ed7953\"], [0.7777777777777778, \"#fb9f3a\"], [0.8888888888888888, \"#fdca26\"], [1.0, \"#f0f921\"]], \"type\": \"surface\"}], \"table\": [{\"cells\": {\"fill\": {\"color\": \"#EBF0F8\"}, \"line\": {\"color\": \"white\"}}, \"header\": {\"fill\": {\"color\": \"#C8D4E3\"}, \"line\": {\"color\": \"white\"}}, \"type\": \"table\"}]}, \"layout\": {\"annotationdefaults\": {\"arrowcolor\": \"#2a3f5f\", \"arrowhead\": 0, \"arrowwidth\": 1}, \"coloraxis\": {\"colorbar\": {\"outlinewidth\": 0, \"ticks\": \"\"}}, \"colorscale\": {\"diverging\": [[0, \"#8e0152\"], [0.1, \"#c51b7d\"], [0.2, \"#de77ae\"], [0.3, \"#f1b6da\"], [0.4, \"#fde0ef\"], [0.5, \"#f7f7f7\"], [0.6, \"#e6f5d0\"], [0.7, \"#b8e186\"], [0.8, \"#7fbc41\"], [0.9, \"#4d9221\"], [1, \"#276419\"]], \"sequential\": [[0.0, \"#0d0887\"], [0.1111111111111111, \"#46039f\"], [0.2222222222222222, \"#7201a8\"], [0.3333333333333333, \"#9c179e\"], [0.4444444444444444, \"#bd3786\"], [0.5555555555555556, \"#d8576b\"], [0.6666666666666666, \"#ed7953\"], [0.7777777777777778, \"#fb9f3a\"], [0.8888888888888888, \"#fdca26\"], [1.0, \"#f0f921\"]], \"sequentialminus\": [[0.0, \"#0d0887\"], [0.1111111111111111, \"#46039f\"], [0.2222222222222222, \"#7201a8\"], [0.3333333333333333, \"#9c179e\"], [0.4444444444444444, \"#bd3786\"], [0.5555555555555556, \"#d8576b\"], [0.6666666666666666, \"#ed7953\"], [0.7777777777777778, \"#fb9f3a\"], [0.8888888888888888, \"#fdca26\"], [1.0, \"#f0f921\"]]}, \"colorway\": [\"#636efa\", \"#EF553B\", \"#00cc96\", \"#ab63fa\", \"#FFA15A\", \"#19d3f3\", \"#FF6692\", \"#B6E880\", \"#FF97FF\", \"#FECB52\"], \"font\": {\"color\": \"#2a3f5f\"}, \"geo\": {\"bgcolor\": \"white\", \"lakecolor\": \"white\", \"landcolor\": \"#E5ECF6\", \"showlakes\": true, \"showland\": true, \"subunitcolor\": \"white\"}, \"hoverlabel\": {\"align\": \"left\"}, \"hovermode\": \"closest\", \"mapbox\": {\"style\": \"light\"}, \"paper_bgcolor\": \"white\", \"plot_bgcolor\": \"#E5ECF6\", \"polar\": {\"angularaxis\": {\"gridcolor\": \"white\", \"linecolor\": \"white\", \"ticks\": \"\"}, \"bgcolor\": \"#E5ECF6\", \"radialaxis\": {\"gridcolor\": \"white\", \"linecolor\": \"white\", \"ticks\": \"\"}}, \"scene\": {\"xaxis\": {\"backgroundcolor\": \"#E5ECF6\", \"gridcolor\": \"white\", \"gridwidth\": 2, \"linecolor\": \"white\", \"showbackground\": true, \"ticks\": \"\", \"zerolinecolor\": \"white\"}, \"yaxis\": {\"backgroundcolor\": \"#E5ECF6\", \"gridcolor\": \"white\", \"gridwidth\": 2, \"linecolor\": \"white\", \"showbackground\": true, \"ticks\": \"\", \"zerolinecolor\": \"white\"}, \"zaxis\": {\"backgroundcolor\": \"#E5ECF6\", \"gridcolor\": \"white\", \"gridwidth\": 2, \"linecolor\": \"white\", \"showbackground\": true, \"ticks\": \"\", \"zerolinecolor\": \"white\"}}, \"shapedefaults\": {\"line\": {\"color\": \"#2a3f5f\"}}, \"ternary\": {\"aaxis\": {\"gridcolor\": \"white\", \"linecolor\": \"white\", \"ticks\": \"\"}, \"baxis\": {\"gridcolor\": \"white\", \"linecolor\": \"white\", \"ticks\": \"\"}, \"bgcolor\": \"#E5ECF6\", \"caxis\": {\"gridcolor\": \"white\", \"linecolor\": \"white\", \"ticks\": \"\"}}, \"title\": {\"x\": 0.05}, \"xaxis\": {\"automargin\": true, \"gridcolor\": \"white\", \"linecolor\": \"white\", \"ticks\": \"\", \"title\": {\"standoff\": 15}, \"zerolinecolor\": \"white\", \"zerolinewidth\": 2}, \"yaxis\": {\"automargin\": true, \"gridcolor\": \"white\", \"linecolor\": \"white\", \"ticks\": \"\", \"title\": {\"standoff\": 15}, \"zerolinecolor\": \"white\", \"zerolinewidth\": 2}}}, \"title\": {\"text\": \"Covid-19 Mexico New cases timeline\"}},\n",
              "                        {\"responsive\": true}\n",
              "                    ).then(function(){\n",
              "                            \n",
              "var gd = document.getElementById('b2d267b9-5bb7-4bd8-a3c7-525708c1ba4d');\n",
              "var x = new MutationObserver(function (mutations, observer) {{\n",
              "        var display = window.getComputedStyle(gd).display;\n",
              "        if (!display || display === 'none') {{\n",
              "            console.log([gd, 'removed!']);\n",
              "            Plotly.purge(gd);\n",
              "            observer.disconnect();\n",
              "        }}\n",
              "}});\n",
              "\n",
              "// Listen for the removal of the full notebook cells\n",
              "var notebookContainer = gd.closest('#notebook-container');\n",
              "if (notebookContainer) {{\n",
              "    x.observe(notebookContainer, {childList: true});\n",
              "}}\n",
              "\n",
              "// Listen for the clearing of the current output cell\n",
              "var outputEl = gd.closest('.output');\n",
              "if (outputEl) {{\n",
              "    x.observe(outputEl, {childList: true});\n",
              "}}\n",
              "\n",
              "                        })\n",
              "                };\n",
              "                \n",
              "            </script>\n",
              "        </div>\n",
              "</body>\n",
              "</html>"
            ]
          },
          "metadata": {
            "tags": []
          }
        },
        {
          "output_type": "display_data",
          "data": {
            "text/html": [
              "<html>\n",
              "<head><meta charset=\"utf-8\" /></head>\n",
              "<body>\n",
              "    <div>\n",
              "            <script src=\"https://cdnjs.cloudflare.com/ajax/libs/mathjax/2.7.5/MathJax.js?config=TeX-AMS-MML_SVG\"></script><script type=\"text/javascript\">if (window.MathJax) {MathJax.Hub.Config({SVG: {font: \"STIX-Web\"}});}</script>\n",
              "                <script type=\"text/javascript\">window.PlotlyConfig = {MathJaxConfig: 'local'};</script>\n",
              "        <script src=\"https://cdn.plot.ly/plotly-latest.min.js\"></script>    \n",
              "            <div id=\"75a7f76d-2b08-4eaf-a407-c57143827c44\" class=\"plotly-graph-div\" style=\"height:525px; width:100%;\"></div>\n",
              "            <script type=\"text/javascript\">\n",
              "                \n",
              "                    window.PLOTLYENV=window.PLOTLYENV || {};\n",
              "                    \n",
              "                if (document.getElementById(\"75a7f76d-2b08-4eaf-a407-c57143827c44\")) {\n",
              "                    Plotly.newPlot(\n",
              "                        '75a7f76d-2b08-4eaf-a407-c57143827c44',\n",
              "                        [{\"marker\": {\"color\": \"grey\"}, \"name\": \"Total number of dead cases in Mexico\", \"type\": \"bar\", \"x\": [\"03/07/20\", \"03/08/20\", \"03/09/20\", \"03/10/20\", \"03/11/20\", \"03/12/20\", \"03/13/20\", \"03/14/20\", \"03/15/20\", \"03/16/20\", \"03/17/20\", \"03/18/20\", \"03/19/20\", \"03/20/20\", \"03/21/20\", \"03/22/20\", \"03/23/20\", \"03/24/20\", \"03/25/20\", \"03/26/20\", \"03/27/20\", \"03/28/20\", \"03/29/20\", \"03/30/20\", \"03/31/20\", \"04/01/20\", \"04/02/20\", \"04/03/20\", \"04/04/20\", \"04/05/20\", \"04/06/20\", \"04/07/20\", \"04/08/20\", \"04/09/20\", \"04/10/20\", \"04/11/20\", \"04/12/20\", \"04/13/20\", \"04/14/20\", \"04/15/20\", \"04/16/20\", \"04/17/20\", \"04/18/20\", \"04/19/20\", \"04/20/20\", \"04/21/20\", \"04/22/20\", \"04/23/20\", \"04/24/20\", \"04/25/20\", \"04/26/20\", \"04/27/20\", \"04/28/20\", \"04/29/20\", \"04/30/20\", \"05/01/20\", \"05/02/20\", \"05/03/20\", \"05/04/20\", \"05/05/20\", \"05/06/20\", \"05/07/20\", \"05/08/20\", \"05/09/20\", \"05/10/20\", \"05/11/20\", \"05/12/20\"], \"y\": [0.0, 0.0, 0.0, 0.0, 0.0, 0.0, 0.0, 0.0, 0.0, 0.0, 0.0, 0.0, 1.0, 2.0, 2.0, 3.0, 4.0, 5.0, 6.0, 8.0, 12.0, 16.0, 20.0, 28.0, 29.0, 37.0, 50.0, 60.0, 79.0, 94.0, 125.0, 141.0, 174.0, 194.0, 233.0, 273.0, 296.0, 332.0, 406.0, 449.0, 486.0, 546.0, 650.0, 686.0, 712.0, 857.0, 970.0, 1069.0, 1221.0, 1305.0, 1351.0, 1434.0, 1569.0, 1732.0, 1859.0, 1972.0, 2061.0, 2154.0, 2271.0, 2507.0, 2704.0, 2961.0, 3160.0, 3353.0, 3465.0, 3573.0, 3926.0]}, {\"marker\": {\"color\": \"white\"}, \"name\": \"Total number of recovered cases in Mexico\", \"type\": \"bar\", \"x\": [\"03/07/20\", \"03/08/20\", \"03/09/20\", \"03/10/20\", \"03/11/20\", \"03/12/20\", \"03/13/20\", \"03/14/20\", \"03/15/20\", \"03/16/20\", \"03/17/20\", \"03/18/20\", \"03/19/20\", \"03/20/20\", \"03/21/20\", \"03/22/20\", \"03/23/20\", \"03/24/20\", \"03/25/20\", \"03/26/20\", \"03/27/20\", \"03/28/20\", \"03/29/20\", \"03/30/20\", \"03/31/20\", \"04/01/20\", \"04/02/20\", \"04/03/20\", \"04/04/20\", \"04/05/20\", \"04/06/20\", \"04/07/20\", \"04/08/20\", \"04/09/20\", \"04/10/20\", \"04/11/20\", \"04/12/20\", \"04/13/20\", \"04/14/20\", \"04/15/20\", \"04/16/20\", \"04/17/20\", \"04/18/20\", \"04/19/20\", \"04/20/20\", \"04/21/20\", \"04/22/20\", \"04/23/20\", \"04/24/20\", \"04/25/20\", \"04/26/20\", \"04/27/20\", \"04/28/20\", \"04/29/20\", \"04/30/20\", \"05/01/20\", \"05/02/20\", \"05/03/20\", \"05/04/20\", \"05/05/20\", \"05/06/20\", \"05/07/20\", \"05/08/20\", \"05/09/20\", \"05/10/20\", \"05/11/20\", \"05/12/20\"], \"y\": [1.0, 1.0, 1.0, 4.0, 4.0, 4.0, 4.0, 4.0, 4.0, 4.0, 4.0, 4.0, 4.0, 4.0, 4.0, 4.0, 4.0, 4.0, 4.0, 4.0, 4.0, 4.0, 4.0, 35.0, 35.0, 35.0, 35.0, 633.0, 633.0, 633.0, 633.0, 633.0, 633.0, 633.0, 633.0, 633.0, 1772.0, 1843.0, 1964.0, 2125.0, 2125.0, 2125.0, 2125.0, 2627.0, 2627.0, 2627.0, 2627.0, 2627.0, 2627.0, 7149.0, 8354.0, 9086.0, 11423.0, 11423.0, 11423.0, 12377.0, 12377.0, 13447.0, 13447.0, 16810.0, 17781.0, 17781.0, 20314.0, 21824.0, 21824.0, 23100.0, 25935.0]}],\n",
              "                        {\"legend\": {\"x\": 0.2, \"y\": 0.7}, \"paper_bgcolor\": \"rgba(255,255,255,1)\", \"plot_bgcolor\": \"rgba(255,255,255,1)\", \"template\": {\"data\": {\"bar\": [{\"error_x\": {\"color\": \"#2a3f5f\"}, \"error_y\": {\"color\": \"#2a3f5f\"}, \"marker\": {\"line\": {\"color\": \"#E5ECF6\", \"width\": 0.5}}, \"type\": \"bar\"}], \"barpolar\": [{\"marker\": {\"line\": {\"color\": \"#E5ECF6\", \"width\": 0.5}}, \"type\": \"barpolar\"}], \"carpet\": [{\"aaxis\": {\"endlinecolor\": \"#2a3f5f\", \"gridcolor\": \"white\", \"linecolor\": \"white\", \"minorgridcolor\": \"white\", \"startlinecolor\": \"#2a3f5f\"}, \"baxis\": {\"endlinecolor\": \"#2a3f5f\", \"gridcolor\": \"white\", \"linecolor\": \"white\", \"minorgridcolor\": \"white\", \"startlinecolor\": \"#2a3f5f\"}, \"type\": \"carpet\"}], \"choropleth\": [{\"colorbar\": {\"outlinewidth\": 0, \"ticks\": \"\"}, \"type\": \"choropleth\"}], \"contour\": [{\"colorbar\": {\"outlinewidth\": 0, \"ticks\": \"\"}, \"colorscale\": [[0.0, \"#0d0887\"], [0.1111111111111111, \"#46039f\"], [0.2222222222222222, \"#7201a8\"], [0.3333333333333333, \"#9c179e\"], [0.4444444444444444, \"#bd3786\"], [0.5555555555555556, \"#d8576b\"], [0.6666666666666666, \"#ed7953\"], [0.7777777777777778, \"#fb9f3a\"], [0.8888888888888888, \"#fdca26\"], [1.0, \"#f0f921\"]], \"type\": \"contour\"}], \"contourcarpet\": [{\"colorbar\": {\"outlinewidth\": 0, \"ticks\": \"\"}, \"type\": \"contourcarpet\"}], \"heatmap\": [{\"colorbar\": {\"outlinewidth\": 0, \"ticks\": \"\"}, \"colorscale\": [[0.0, \"#0d0887\"], [0.1111111111111111, \"#46039f\"], [0.2222222222222222, \"#7201a8\"], [0.3333333333333333, \"#9c179e\"], [0.4444444444444444, \"#bd3786\"], [0.5555555555555556, \"#d8576b\"], [0.6666666666666666, \"#ed7953\"], [0.7777777777777778, \"#fb9f3a\"], [0.8888888888888888, \"#fdca26\"], [1.0, \"#f0f921\"]], \"type\": \"heatmap\"}], \"heatmapgl\": [{\"colorbar\": {\"outlinewidth\": 0, \"ticks\": \"\"}, \"colorscale\": [[0.0, \"#0d0887\"], [0.1111111111111111, \"#46039f\"], [0.2222222222222222, \"#7201a8\"], [0.3333333333333333, \"#9c179e\"], [0.4444444444444444, \"#bd3786\"], [0.5555555555555556, \"#d8576b\"], [0.6666666666666666, \"#ed7953\"], [0.7777777777777778, \"#fb9f3a\"], [0.8888888888888888, \"#fdca26\"], [1.0, \"#f0f921\"]], \"type\": \"heatmapgl\"}], \"histogram\": [{\"marker\": {\"colorbar\": {\"outlinewidth\": 0, \"ticks\": \"\"}}, \"type\": \"histogram\"}], \"histogram2d\": [{\"colorbar\": {\"outlinewidth\": 0, \"ticks\": \"\"}, \"colorscale\": [[0.0, \"#0d0887\"], [0.1111111111111111, \"#46039f\"], [0.2222222222222222, \"#7201a8\"], [0.3333333333333333, \"#9c179e\"], [0.4444444444444444, \"#bd3786\"], [0.5555555555555556, \"#d8576b\"], [0.6666666666666666, \"#ed7953\"], [0.7777777777777778, \"#fb9f3a\"], [0.8888888888888888, \"#fdca26\"], [1.0, \"#f0f921\"]], \"type\": \"histogram2d\"}], \"histogram2dcontour\": [{\"colorbar\": {\"outlinewidth\": 0, \"ticks\": \"\"}, \"colorscale\": [[0.0, \"#0d0887\"], [0.1111111111111111, \"#46039f\"], [0.2222222222222222, \"#7201a8\"], [0.3333333333333333, \"#9c179e\"], [0.4444444444444444, \"#bd3786\"], [0.5555555555555556, \"#d8576b\"], [0.6666666666666666, \"#ed7953\"], [0.7777777777777778, \"#fb9f3a\"], [0.8888888888888888, \"#fdca26\"], [1.0, \"#f0f921\"]], \"type\": \"histogram2dcontour\"}], \"mesh3d\": [{\"colorbar\": {\"outlinewidth\": 0, \"ticks\": \"\"}, \"type\": \"mesh3d\"}], \"parcoords\": [{\"line\": {\"colorbar\": {\"outlinewidth\": 0, \"ticks\": \"\"}}, \"type\": \"parcoords\"}], \"pie\": [{\"automargin\": true, \"type\": \"pie\"}], \"scatter\": [{\"marker\": {\"colorbar\": {\"outlinewidth\": 0, \"ticks\": \"\"}}, \"type\": \"scatter\"}], \"scatter3d\": [{\"line\": {\"colorbar\": {\"outlinewidth\": 0, \"ticks\": \"\"}}, \"marker\": {\"colorbar\": {\"outlinewidth\": 0, \"ticks\": \"\"}}, \"type\": \"scatter3d\"}], \"scattercarpet\": [{\"marker\": {\"colorbar\": {\"outlinewidth\": 0, \"ticks\": \"\"}}, \"type\": \"scattercarpet\"}], \"scattergeo\": [{\"marker\": {\"colorbar\": {\"outlinewidth\": 0, \"ticks\": \"\"}}, \"type\": \"scattergeo\"}], \"scattergl\": [{\"marker\": {\"colorbar\": {\"outlinewidth\": 0, \"ticks\": \"\"}}, \"type\": \"scattergl\"}], \"scattermapbox\": [{\"marker\": {\"colorbar\": {\"outlinewidth\": 0, \"ticks\": \"\"}}, \"type\": \"scattermapbox\"}], \"scatterpolar\": [{\"marker\": {\"colorbar\": {\"outlinewidth\": 0, \"ticks\": \"\"}}, \"type\": \"scatterpolar\"}], \"scatterpolargl\": [{\"marker\": {\"colorbar\": {\"outlinewidth\": 0, \"ticks\": \"\"}}, \"type\": \"scatterpolargl\"}], \"scatterternary\": [{\"marker\": {\"colorbar\": {\"outlinewidth\": 0, \"ticks\": \"\"}}, \"type\": \"scatterternary\"}], \"surface\": [{\"colorbar\": {\"outlinewidth\": 0, \"ticks\": \"\"}, \"colorscale\": [[0.0, \"#0d0887\"], [0.1111111111111111, \"#46039f\"], [0.2222222222222222, \"#7201a8\"], [0.3333333333333333, \"#9c179e\"], [0.4444444444444444, \"#bd3786\"], [0.5555555555555556, \"#d8576b\"], [0.6666666666666666, \"#ed7953\"], [0.7777777777777778, \"#fb9f3a\"], [0.8888888888888888, \"#fdca26\"], [1.0, \"#f0f921\"]], \"type\": \"surface\"}], \"table\": [{\"cells\": {\"fill\": {\"color\": \"#EBF0F8\"}, \"line\": {\"color\": \"white\"}}, \"header\": {\"fill\": {\"color\": \"#C8D4E3\"}, \"line\": {\"color\": \"white\"}}, \"type\": \"table\"}]}, \"layout\": {\"annotationdefaults\": {\"arrowcolor\": \"#2a3f5f\", \"arrowhead\": 0, \"arrowwidth\": 1}, \"coloraxis\": {\"colorbar\": {\"outlinewidth\": 0, \"ticks\": \"\"}}, \"colorscale\": {\"diverging\": [[0, \"#8e0152\"], [0.1, \"#c51b7d\"], [0.2, \"#de77ae\"], [0.3, \"#f1b6da\"], [0.4, \"#fde0ef\"], [0.5, \"#f7f7f7\"], [0.6, \"#e6f5d0\"], [0.7, \"#b8e186\"], [0.8, \"#7fbc41\"], [0.9, \"#4d9221\"], [1, \"#276419\"]], \"sequential\": [[0.0, \"#0d0887\"], [0.1111111111111111, \"#46039f\"], [0.2222222222222222, \"#7201a8\"], [0.3333333333333333, \"#9c179e\"], [0.4444444444444444, \"#bd3786\"], [0.5555555555555556, \"#d8576b\"], [0.6666666666666666, \"#ed7953\"], [0.7777777777777778, \"#fb9f3a\"], [0.8888888888888888, \"#fdca26\"], [1.0, \"#f0f921\"]], \"sequentialminus\": [[0.0, \"#0d0887\"], [0.1111111111111111, \"#46039f\"], [0.2222222222222222, \"#7201a8\"], [0.3333333333333333, \"#9c179e\"], [0.4444444444444444, \"#bd3786\"], [0.5555555555555556, \"#d8576b\"], [0.6666666666666666, \"#ed7953\"], [0.7777777777777778, \"#fb9f3a\"], [0.8888888888888888, \"#fdca26\"], [1.0, \"#f0f921\"]]}, \"colorway\": [\"#636efa\", \"#EF553B\", \"#00cc96\", \"#ab63fa\", \"#FFA15A\", \"#19d3f3\", \"#FF6692\", \"#B6E880\", \"#FF97FF\", \"#FECB52\"], \"font\": {\"color\": \"#2a3f5f\"}, \"geo\": {\"bgcolor\": \"white\", \"lakecolor\": \"white\", \"landcolor\": \"#E5ECF6\", \"showlakes\": true, \"showland\": true, \"subunitcolor\": \"white\"}, \"hoverlabel\": {\"align\": \"left\"}, \"hovermode\": \"closest\", \"mapbox\": {\"style\": \"light\"}, \"paper_bgcolor\": \"white\", \"plot_bgcolor\": \"#E5ECF6\", \"polar\": {\"angularaxis\": {\"gridcolor\": \"white\", \"linecolor\": \"white\", \"ticks\": \"\"}, \"bgcolor\": \"#E5ECF6\", \"radialaxis\": {\"gridcolor\": \"white\", \"linecolor\": \"white\", \"ticks\": \"\"}}, \"scene\": {\"xaxis\": {\"backgroundcolor\": \"#E5ECF6\", \"gridcolor\": \"white\", \"gridwidth\": 2, \"linecolor\": \"white\", \"showbackground\": true, \"ticks\": \"\", \"zerolinecolor\": \"white\"}, \"yaxis\": {\"backgroundcolor\": \"#E5ECF6\", \"gridcolor\": \"white\", \"gridwidth\": 2, \"linecolor\": \"white\", \"showbackground\": true, \"ticks\": \"\", \"zerolinecolor\": \"white\"}, \"zaxis\": {\"backgroundcolor\": \"#E5ECF6\", \"gridcolor\": \"white\", \"gridwidth\": 2, \"linecolor\": \"white\", \"showbackground\": true, \"ticks\": \"\", \"zerolinecolor\": \"white\"}}, \"shapedefaults\": {\"line\": {\"color\": \"#2a3f5f\"}}, \"ternary\": {\"aaxis\": {\"gridcolor\": \"white\", \"linecolor\": \"white\", \"ticks\": \"\"}, \"baxis\": {\"gridcolor\": \"white\", \"linecolor\": \"white\", \"ticks\": \"\"}, \"bgcolor\": \"#E5ECF6\", \"caxis\": {\"gridcolor\": \"white\", \"linecolor\": \"white\", \"ticks\": \"\"}}, \"title\": {\"x\": 0.05}, \"xaxis\": {\"automargin\": true, \"gridcolor\": \"white\", \"linecolor\": \"white\", \"ticks\": \"\", \"title\": {\"standoff\": 15}, \"zerolinecolor\": \"white\", \"zerolinewidth\": 2}, \"yaxis\": {\"automargin\": true, \"gridcolor\": \"white\", \"linecolor\": \"white\", \"ticks\": \"\", \"title\": {\"standoff\": 15}, \"zerolinecolor\": \"white\", \"zerolinewidth\": 2}}}, \"title\": {\"text\": \"Covid-19 Mexico Recovered-Dead cases timeline\"}},\n",
              "                        {\"responsive\": true}\n",
              "                    ).then(function(){\n",
              "                            \n",
              "var gd = document.getElementById('75a7f76d-2b08-4eaf-a407-c57143827c44');\n",
              "var x = new MutationObserver(function (mutations, observer) {{\n",
              "        var display = window.getComputedStyle(gd).display;\n",
              "        if (!display || display === 'none') {{\n",
              "            console.log([gd, 'removed!']);\n",
              "            Plotly.purge(gd);\n",
              "            observer.disconnect();\n",
              "        }}\n",
              "}});\n",
              "\n",
              "// Listen for the removal of the full notebook cells\n",
              "var notebookContainer = gd.closest('#notebook-container');\n",
              "if (notebookContainer) {{\n",
              "    x.observe(notebookContainer, {childList: true});\n",
              "}}\n",
              "\n",
              "// Listen for the clearing of the current output cell\n",
              "var outputEl = gd.closest('.output');\n",
              "if (outputEl) {{\n",
              "    x.observe(outputEl, {childList: true});\n",
              "}}\n",
              "\n",
              "                        })\n",
              "                };\n",
              "                \n",
              "            </script>\n",
              "        </div>\n",
              "</body>\n",
              "</html>"
            ]
          },
          "metadata": {
            "tags": []
          }
        },
        {
          "output_type": "display_data",
          "data": {
            "text/html": [
              "<html>\n",
              "<head><meta charset=\"utf-8\" /></head>\n",
              "<body>\n",
              "    <div>\n",
              "            <script src=\"https://cdnjs.cloudflare.com/ajax/libs/mathjax/2.7.5/MathJax.js?config=TeX-AMS-MML_SVG\"></script><script type=\"text/javascript\">if (window.MathJax) {MathJax.Hub.Config({SVG: {font: \"STIX-Web\"}});}</script>\n",
              "                <script type=\"text/javascript\">window.PlotlyConfig = {MathJaxConfig: 'local'};</script>\n",
              "        <script src=\"https://cdn.plot.ly/plotly-latest.min.js\"></script>    \n",
              "            <div id=\"b8b4d12e-ed2d-40d5-8b16-65c4784bd284\" class=\"plotly-graph-div\" style=\"height:525px; width:100%;\"></div>\n",
              "            <script type=\"text/javascript\">\n",
              "                \n",
              "                    window.PLOTLYENV=window.PLOTLYENV || {};\n",
              "                    \n",
              "                if (document.getElementById(\"b8b4d12e-ed2d-40d5-8b16-65c4784bd284\")) {\n",
              "                    Plotly.newPlot(\n",
              "                        'b8b4d12e-ed2d-40d5-8b16-65c4784bd284',\n",
              "                        [{\"marker\": {\"color\": \"black\"}, \"name\": \"Daily cases in Mexico\", \"type\": \"bar\", \"x\": [\"03/07/20\", \"03/08/20\", \"03/09/20\", \"03/10/20\", \"03/11/20\", \"03/12/20\", \"03/13/20\", \"03/14/20\", \"03/15/20\", \"03/16/20\", \"03/17/20\", \"03/18/20\", \"03/19/20\", \"03/20/20\", \"03/21/20\", \"03/22/20\", \"03/23/20\", \"03/24/20\", \"03/25/20\", \"03/26/20\", \"03/27/20\", \"03/28/20\", \"03/29/20\", \"03/30/20\", \"03/31/20\", \"04/01/20\", \"04/02/20\", \"04/03/20\", \"04/04/20\", \"04/05/20\", \"04/06/20\", \"04/07/20\", \"04/08/20\", \"04/09/20\", \"04/10/20\", \"04/11/20\", \"04/12/20\", \"04/13/20\", \"04/14/20\", \"04/15/20\", \"04/16/20\", \"04/17/20\", \"04/18/20\", \"04/19/20\", \"04/20/20\", \"04/21/20\", \"04/22/20\", \"04/23/20\", \"04/24/20\", \"04/25/20\", \"04/26/20\", \"04/27/20\", \"04/28/20\", \"04/29/20\", \"04/30/20\", \"05/01/20\", \"05/02/20\", \"05/03/20\", \"05/04/20\", \"05/05/20\", \"05/06/20\", \"05/07/20\", \"05/08/20\", \"05/09/20\", \"05/10/20\", \"05/11/20\", \"05/12/20\"], \"y\": [1.0, 0.0, 0.0, 1.0, 4.0, 14.0, 15.0, 12.0, 29.0, 11.0, 25.0, 46.0, 39.0, 48.0, 65.0, 51.0, 38.0, 70.0, 110.0, 132.0, 131.0, 145.0, 101.0, 121.0, 163.0, 132.0, 178.0, 202.0, 253.0, 296.0, 346.0, 396.0, 260.0, 403.0, 375.0, 442.0, 353.0, 385.0, 448.0, 450.0, 578.0, 622.0, 764.0, 511.0, 729.0, 1043.0, 1089.0, 1239.0, 970.0, 835.0, 852.0, 1223.0, 1047.0, 1425.0, 1515.0, 1349.0, 1383.0, 1434.0, 1120.0, 1609.0, 1982.0, 1906.0, 1938.0, 1562.0, 1305.0, 1997.0]}, {\"marker\": {\"color\": \"grey\"}, \"name\": \"Daily dead cases in Mexico\", \"type\": \"bar\", \"x\": [\"03/07/20\", \"03/08/20\", \"03/09/20\", \"03/10/20\", \"03/11/20\", \"03/12/20\", \"03/13/20\", \"03/14/20\", \"03/15/20\", \"03/16/20\", \"03/17/20\", \"03/18/20\", \"03/19/20\", \"03/20/20\", \"03/21/20\", \"03/22/20\", \"03/23/20\", \"03/24/20\", \"03/25/20\", \"03/26/20\", \"03/27/20\", \"03/28/20\", \"03/29/20\", \"03/30/20\", \"03/31/20\", \"04/01/20\", \"04/02/20\", \"04/03/20\", \"04/04/20\", \"04/05/20\", \"04/06/20\", \"04/07/20\", \"04/08/20\", \"04/09/20\", \"04/10/20\", \"04/11/20\", \"04/12/20\", \"04/13/20\", \"04/14/20\", \"04/15/20\", \"04/16/20\", \"04/17/20\", \"04/18/20\", \"04/19/20\", \"04/20/20\", \"04/21/20\", \"04/22/20\", \"04/23/20\", \"04/24/20\", \"04/25/20\", \"04/26/20\", \"04/27/20\", \"04/28/20\", \"04/29/20\", \"04/30/20\", \"05/01/20\", \"05/02/20\", \"05/03/20\", \"05/04/20\", \"05/05/20\", \"05/06/20\", \"05/07/20\", \"05/08/20\", \"05/09/20\", \"05/10/20\", \"05/11/20\", \"05/12/20\"], \"y\": [0.0, 0.0, 0.0, 0.0, 0.0, 0.0, 0.0, 0.0, 0.0, 0.0, 0.0, 1.0, 1.0, 0.0, 1.0, 1.0, 1.0, 1.0, 2.0, 4.0, 4.0, 4.0, 8.0, 1.0, 8.0, 13.0, 10.0, 19.0, 15.0, 31.0, 16.0, 33.0, 20.0, 39.0, 40.0, 23.0, 36.0, 74.0, 43.0, 37.0, 60.0, 104.0, 36.0, 26.0, 145.0, 113.0, 99.0, 152.0, 84.0, 46.0, 83.0, 135.0, 163.0, 127.0, 113.0, 89.0, 93.0, 117.0, 236.0, 197.0, 257.0, 199.0, 193.0, 112.0, 108.0, 353.0]}],\n",
              "                        {\"annotations\": [{\"arrowhead\": 7, \"ax\": 0, \"ay\": -40, \"font\": {\"color\": \"#ff7f0e\", \"family\": \"Courier New, monospace\", \"size\": 16}, \"showarrow\": true, \"text\": \"Border closure\\u00a0\", \"x\": \"03/21/20\", \"xref\": \"x\", \"y\": 3000, \"yref\": \"y\"}, {\"arrowhead\": 7, \"ax\": 0, \"ay\": -40, \"font\": {\"color\": \"#ff7f0e\", \"family\": \"Courier New, monospace\", \"size\": 16}, \"showarrow\": true, \"text\": \"Limit public gatherings\", \"x\": \"03/23/20\", \"xref\": \"x\", \"y\": 4000, \"yref\": \"y\"}, {\"arrowhead\": 7, \"ax\": 0, \"ay\": -40, \"font\": {\"color\": \"#ff7f0e\", \"family\": \"Courier New, monospace\", \"size\": 16}, \"showarrow\": true, \"text\": \"Awareness campaigns\", \"x\": \"03/23/20\", \"xref\": \"x\", \"y\": 5000, \"yref\": \"y\"}, {\"arrowhead\": 7, \"ax\": 0, \"ay\": -40, \"font\": {\"color\": \"#ff7f0e\", \"family\": \"Courier New, monospace\", \"size\": 16}, \"showarrow\": true, \"text\": \"Strengthening the public health system\", \"x\": \"03/24/20\", \"xref\": \"x\", \"y\": 4000, \"yref\": \"y\"}, {\"arrowhead\": 7, \"ax\": 0, \"ay\": -40, \"font\": {\"color\": \"#ff7f0e\", \"family\": \"Courier New, monospace\", \"size\": 16}, \"showarrow\": true, \"text\": \"Public services closure\\u00a0\", \"x\": \"03/26/20\", \"xref\": \"x\", \"y\": 5000, \"yref\": \"y\"}, {\"arrowhead\": 7, \"ax\": 0, \"ay\": -40, \"font\": {\"color\": \"#ff7f0e\", \"family\": \"Courier New, monospace\", \"size\": 16}, \"showarrow\": true, \"text\": \"State of emergency declared\", \"x\": \"03/30/20\", \"xref\": \"x\", \"y\": 4000, \"yref\": \"y\"}, {\"arrowhead\": 7, \"ax\": 0, \"ay\": -40, \"font\": {\"color\": \"#ff7f0e\", \"family\": \"Courier New, monospace\", \"size\": 16}, \"showarrow\": true, \"text\": \"Partial lockdown\", \"x\": \"03/30/20\", \"xref\": \"x\", \"y\": 5000, \"yref\": \"y\"}, {\"arrowhead\": 7, \"ax\": 0, \"ay\": -40, \"font\": {\"color\": \"#ff7f0e\", \"family\": \"Courier New, monospace\", \"size\": 16}, \"showarrow\": true, \"text\": \"Military deployment\", \"x\": \"04/18/20\", \"xref\": \"x\", \"y\": 4000, \"yref\": \"y\"}, {\"arrowhead\": 7, \"ax\": 0, \"ay\": -40, \"font\": {\"color\": \"#ff7f0e\", \"family\": \"Courier New, monospace\", \"size\": 16}, \"showarrow\": true, \"text\": \"Domestic travel restrictions\", \"x\": \"04/23/20\", \"xref\": \"x\", \"y\": 5000, \"yref\": \"y\"}, {\"arrowhead\": 7, \"ax\": 0, \"ay\": -40, \"font\": {\"color\": \"#ff7f0e\", \"family\": \"Courier New, monospace\", \"size\": 16}, \"showarrow\": true, \"text\": \"Requirement to wear protective gear in public\", \"x\": \"04/26/20\", \"xref\": \"x\", \"y\": 4000, \"yref\": \"y\"}, {\"arrowhead\": 7, \"ax\": 0, \"ay\": -40, \"font\": {\"color\": \"#ff7f0e\", \"family\": \"Courier New, monospace\", \"size\": 16}, \"showarrow\": true, \"text\": \"Checkpoints within the country\", \"x\": \"05/04/20\", \"xref\": \"x\", \"y\": 5000, \"yref\": \"y\"}, {\"arrowhead\": 7, \"ax\": 0, \"ay\": -40, \"font\": {\"color\": \"#ff7f0e\", \"family\": \"Courier New, monospace\", \"size\": 16}, \"showarrow\": true, \"text\": \"Curfews\", \"x\": \"05/04/20\", \"xref\": \"x\", \"y\": 4000, \"yref\": \"y\"}, {\"arrowhead\": 7, \"ax\": 0, \"ay\": -40, \"font\": {\"color\": \"#ff7f0e\", \"family\": \"Courier New, monospace\", \"size\": 16}, \"showarrow\": true, \"text\": \"Economic measures\", \"x\": \"05/06/20\", \"xref\": \"x\", \"y\": 5000, \"yref\": \"y\"}, {\"arrowhead\": 7, \"ax\": 0, \"ay\": -40, \"font\": {\"color\": \"#ff7f0e\", \"family\": \"Courier New, monospace\", \"size\": 16}, \"showarrow\": true, \"text\": \"Psychological assistance and medical social work\", \"x\": \"05/09/20\", \"xref\": \"x\", \"y\": 4000, \"yref\": \"y\"}], \"legend\": {\"x\": 0, \"y\": 1}, \"paper_bgcolor\": \"rgba(255,255,255,1)\", \"plot_bgcolor\": \"rgba(255,255,255,1)\", \"template\": {\"data\": {\"bar\": [{\"error_x\": {\"color\": \"#2a3f5f\"}, \"error_y\": {\"color\": \"#2a3f5f\"}, \"marker\": {\"line\": {\"color\": \"#E5ECF6\", \"width\": 0.5}}, \"type\": \"bar\"}], \"barpolar\": [{\"marker\": {\"line\": {\"color\": \"#E5ECF6\", \"width\": 0.5}}, \"type\": \"barpolar\"}], \"carpet\": [{\"aaxis\": {\"endlinecolor\": \"#2a3f5f\", \"gridcolor\": \"white\", \"linecolor\": \"white\", \"minorgridcolor\": \"white\", \"startlinecolor\": \"#2a3f5f\"}, \"baxis\": {\"endlinecolor\": \"#2a3f5f\", \"gridcolor\": \"white\", \"linecolor\": \"white\", \"minorgridcolor\": \"white\", \"startlinecolor\": \"#2a3f5f\"}, \"type\": \"carpet\"}], \"choropleth\": [{\"colorbar\": {\"outlinewidth\": 0, \"ticks\": \"\"}, \"type\": \"choropleth\"}], \"contour\": [{\"colorbar\": {\"outlinewidth\": 0, \"ticks\": \"\"}, \"colorscale\": [[0.0, \"#0d0887\"], [0.1111111111111111, \"#46039f\"], [0.2222222222222222, \"#7201a8\"], [0.3333333333333333, \"#9c179e\"], [0.4444444444444444, \"#bd3786\"], [0.5555555555555556, \"#d8576b\"], [0.6666666666666666, \"#ed7953\"], [0.7777777777777778, \"#fb9f3a\"], [0.8888888888888888, \"#fdca26\"], [1.0, \"#f0f921\"]], \"type\": \"contour\"}], \"contourcarpet\": [{\"colorbar\": {\"outlinewidth\": 0, \"ticks\": \"\"}, \"type\": \"contourcarpet\"}], \"heatmap\": [{\"colorbar\": {\"outlinewidth\": 0, \"ticks\": \"\"}, \"colorscale\": [[0.0, \"#0d0887\"], [0.1111111111111111, \"#46039f\"], [0.2222222222222222, \"#7201a8\"], [0.3333333333333333, \"#9c179e\"], [0.4444444444444444, \"#bd3786\"], [0.5555555555555556, \"#d8576b\"], [0.6666666666666666, \"#ed7953\"], [0.7777777777777778, \"#fb9f3a\"], [0.8888888888888888, \"#fdca26\"], [1.0, \"#f0f921\"]], \"type\": \"heatmap\"}], \"heatmapgl\": [{\"colorbar\": {\"outlinewidth\": 0, \"ticks\": \"\"}, \"colorscale\": [[0.0, \"#0d0887\"], [0.1111111111111111, \"#46039f\"], [0.2222222222222222, \"#7201a8\"], [0.3333333333333333, \"#9c179e\"], [0.4444444444444444, \"#bd3786\"], [0.5555555555555556, \"#d8576b\"], [0.6666666666666666, \"#ed7953\"], [0.7777777777777778, \"#fb9f3a\"], [0.8888888888888888, \"#fdca26\"], [1.0, \"#f0f921\"]], \"type\": \"heatmapgl\"}], \"histogram\": [{\"marker\": {\"colorbar\": {\"outlinewidth\": 0, \"ticks\": \"\"}}, \"type\": \"histogram\"}], \"histogram2d\": [{\"colorbar\": {\"outlinewidth\": 0, \"ticks\": \"\"}, \"colorscale\": [[0.0, \"#0d0887\"], [0.1111111111111111, \"#46039f\"], [0.2222222222222222, \"#7201a8\"], [0.3333333333333333, \"#9c179e\"], [0.4444444444444444, \"#bd3786\"], [0.5555555555555556, \"#d8576b\"], [0.6666666666666666, \"#ed7953\"], [0.7777777777777778, \"#fb9f3a\"], [0.8888888888888888, \"#fdca26\"], [1.0, \"#f0f921\"]], \"type\": \"histogram2d\"}], \"histogram2dcontour\": [{\"colorbar\": {\"outlinewidth\": 0, \"ticks\": \"\"}, \"colorscale\": [[0.0, \"#0d0887\"], [0.1111111111111111, \"#46039f\"], [0.2222222222222222, \"#7201a8\"], [0.3333333333333333, \"#9c179e\"], [0.4444444444444444, \"#bd3786\"], [0.5555555555555556, \"#d8576b\"], [0.6666666666666666, \"#ed7953\"], [0.7777777777777778, \"#fb9f3a\"], [0.8888888888888888, \"#fdca26\"], [1.0, \"#f0f921\"]], \"type\": \"histogram2dcontour\"}], \"mesh3d\": [{\"colorbar\": {\"outlinewidth\": 0, \"ticks\": \"\"}, \"type\": \"mesh3d\"}], \"parcoords\": [{\"line\": {\"colorbar\": {\"outlinewidth\": 0, \"ticks\": \"\"}}, \"type\": \"parcoords\"}], \"pie\": [{\"automargin\": true, \"type\": \"pie\"}], \"scatter\": [{\"marker\": {\"colorbar\": {\"outlinewidth\": 0, \"ticks\": \"\"}}, \"type\": \"scatter\"}], \"scatter3d\": [{\"line\": {\"colorbar\": {\"outlinewidth\": 0, \"ticks\": \"\"}}, \"marker\": {\"colorbar\": {\"outlinewidth\": 0, \"ticks\": \"\"}}, \"type\": \"scatter3d\"}], \"scattercarpet\": [{\"marker\": {\"colorbar\": {\"outlinewidth\": 0, \"ticks\": \"\"}}, \"type\": \"scattercarpet\"}], \"scattergeo\": [{\"marker\": {\"colorbar\": {\"outlinewidth\": 0, \"ticks\": \"\"}}, \"type\": \"scattergeo\"}], \"scattergl\": [{\"marker\": {\"colorbar\": {\"outlinewidth\": 0, \"ticks\": \"\"}}, \"type\": \"scattergl\"}], \"scattermapbox\": [{\"marker\": {\"colorbar\": {\"outlinewidth\": 0, \"ticks\": \"\"}}, \"type\": \"scattermapbox\"}], \"scatterpolar\": [{\"marker\": {\"colorbar\": {\"outlinewidth\": 0, \"ticks\": \"\"}}, \"type\": \"scatterpolar\"}], \"scatterpolargl\": [{\"marker\": {\"colorbar\": {\"outlinewidth\": 0, \"ticks\": \"\"}}, \"type\": \"scatterpolargl\"}], \"scatterternary\": [{\"marker\": {\"colorbar\": {\"outlinewidth\": 0, \"ticks\": \"\"}}, \"type\": \"scatterternary\"}], \"surface\": [{\"colorbar\": {\"outlinewidth\": 0, \"ticks\": \"\"}, \"colorscale\": [[0.0, \"#0d0887\"], [0.1111111111111111, \"#46039f\"], [0.2222222222222222, \"#7201a8\"], [0.3333333333333333, \"#9c179e\"], [0.4444444444444444, \"#bd3786\"], [0.5555555555555556, \"#d8576b\"], [0.6666666666666666, \"#ed7953\"], [0.7777777777777778, \"#fb9f3a\"], [0.8888888888888888, \"#fdca26\"], [1.0, \"#f0f921\"]], \"type\": \"surface\"}], \"table\": [{\"cells\": {\"fill\": {\"color\": \"#EBF0F8\"}, \"line\": {\"color\": \"white\"}}, \"header\": {\"fill\": {\"color\": \"#C8D4E3\"}, \"line\": {\"color\": \"white\"}}, \"type\": \"table\"}]}, \"layout\": {\"annotationdefaults\": {\"arrowcolor\": \"#2a3f5f\", \"arrowhead\": 0, \"arrowwidth\": 1}, \"coloraxis\": {\"colorbar\": {\"outlinewidth\": 0, \"ticks\": \"\"}}, \"colorscale\": {\"diverging\": [[0, \"#8e0152\"], [0.1, \"#c51b7d\"], [0.2, \"#de77ae\"], [0.3, \"#f1b6da\"], [0.4, \"#fde0ef\"], [0.5, \"#f7f7f7\"], [0.6, \"#e6f5d0\"], [0.7, \"#b8e186\"], [0.8, \"#7fbc41\"], [0.9, \"#4d9221\"], [1, \"#276419\"]], \"sequential\": [[0.0, \"#0d0887\"], [0.1111111111111111, \"#46039f\"], [0.2222222222222222, \"#7201a8\"], [0.3333333333333333, \"#9c179e\"], [0.4444444444444444, \"#bd3786\"], [0.5555555555555556, \"#d8576b\"], [0.6666666666666666, \"#ed7953\"], [0.7777777777777778, \"#fb9f3a\"], [0.8888888888888888, \"#fdca26\"], [1.0, \"#f0f921\"]], \"sequentialminus\": [[0.0, \"#0d0887\"], [0.1111111111111111, \"#46039f\"], [0.2222222222222222, \"#7201a8\"], [0.3333333333333333, \"#9c179e\"], [0.4444444444444444, \"#bd3786\"], [0.5555555555555556, \"#d8576b\"], [0.6666666666666666, \"#ed7953\"], [0.7777777777777778, \"#fb9f3a\"], [0.8888888888888888, \"#fdca26\"], [1.0, \"#f0f921\"]]}, \"colorway\": [\"#636efa\", \"#EF553B\", \"#00cc96\", \"#ab63fa\", \"#FFA15A\", \"#19d3f3\", \"#FF6692\", \"#B6E880\", \"#FF97FF\", \"#FECB52\"], \"font\": {\"color\": \"#2a3f5f\"}, \"geo\": {\"bgcolor\": \"white\", \"lakecolor\": \"white\", \"landcolor\": \"#E5ECF6\", \"showlakes\": true, \"showland\": true, \"subunitcolor\": \"white\"}, \"hoverlabel\": {\"align\": \"left\"}, \"hovermode\": \"closest\", \"mapbox\": {\"style\": \"light\"}, \"paper_bgcolor\": \"white\", \"plot_bgcolor\": \"#E5ECF6\", \"polar\": {\"angularaxis\": {\"gridcolor\": \"white\", \"linecolor\": \"white\", \"ticks\": \"\"}, \"bgcolor\": \"#E5ECF6\", \"radialaxis\": {\"gridcolor\": \"white\", \"linecolor\": \"white\", \"ticks\": \"\"}}, \"scene\": {\"xaxis\": {\"backgroundcolor\": \"#E5ECF6\", \"gridcolor\": \"white\", \"gridwidth\": 2, \"linecolor\": \"white\", \"showbackground\": true, \"ticks\": \"\", \"zerolinecolor\": \"white\"}, \"yaxis\": {\"backgroundcolor\": \"#E5ECF6\", \"gridcolor\": \"white\", \"gridwidth\": 2, \"linecolor\": \"white\", \"showbackground\": true, \"ticks\": \"\", \"zerolinecolor\": \"white\"}, \"zaxis\": {\"backgroundcolor\": \"#E5ECF6\", \"gridcolor\": \"white\", \"gridwidth\": 2, \"linecolor\": \"white\", \"showbackground\": true, \"ticks\": \"\", \"zerolinecolor\": \"white\"}}, \"shapedefaults\": {\"line\": {\"color\": \"#2a3f5f\"}}, \"ternary\": {\"aaxis\": {\"gridcolor\": \"white\", \"linecolor\": \"white\", \"ticks\": \"\"}, \"baxis\": {\"gridcolor\": \"white\", \"linecolor\": \"white\", \"ticks\": \"\"}, \"bgcolor\": \"#E5ECF6\", \"caxis\": {\"gridcolor\": \"white\", \"linecolor\": \"white\", \"ticks\": \"\"}}, \"title\": {\"x\": 0.05}, \"xaxis\": {\"automargin\": true, \"gridcolor\": \"white\", \"linecolor\": \"white\", \"ticks\": \"\", \"title\": {\"standoff\": 15}, \"zerolinecolor\": \"white\", \"zerolinewidth\": 2}, \"yaxis\": {\"automargin\": true, \"gridcolor\": \"white\", \"linecolor\": \"white\", \"ticks\": \"\", \"title\": {\"standoff\": 15}, \"zerolinecolor\": \"white\", \"zerolinewidth\": 2}}}, \"title\": {\"text\": \"Covid-19 Mexico daily cases \"}},\n",
              "                        {\"responsive\": true}\n",
              "                    ).then(function(){\n",
              "                            \n",
              "var gd = document.getElementById('b8b4d12e-ed2d-40d5-8b16-65c4784bd284');\n",
              "var x = new MutationObserver(function (mutations, observer) {{\n",
              "        var display = window.getComputedStyle(gd).display;\n",
              "        if (!display || display === 'none') {{\n",
              "            console.log([gd, 'removed!']);\n",
              "            Plotly.purge(gd);\n",
              "            observer.disconnect();\n",
              "        }}\n",
              "}});\n",
              "\n",
              "// Listen for the removal of the full notebook cells\n",
              "var notebookContainer = gd.closest('#notebook-container');\n",
              "if (notebookContainer) {{\n",
              "    x.observe(notebookContainer, {childList: true});\n",
              "}}\n",
              "\n",
              "// Listen for the clearing of the current output cell\n",
              "var outputEl = gd.closest('.output');\n",
              "if (outputEl) {{\n",
              "    x.observe(outputEl, {childList: true});\n",
              "}}\n",
              "\n",
              "                        })\n",
              "                };\n",
              "                \n",
              "            </script>\n",
              "        </div>\n",
              "</body>\n",
              "</html>"
            ]
          },
          "metadata": {
            "tags": []
          }
        },
        {
          "output_type": "stream",
          "text": [
            "/usr/local/lib/python3.6/dist-packages/plotly/graph_objs/_deprecations.py:385: DeprecationWarning:\n",
            "\n",
            "plotly.graph_objs.Line is deprecated.\n",
            "Please replace it with one of the following more specific types\n",
            "  - plotly.graph_objs.scatter.Line\n",
            "  - plotly.graph_objs.layout.shape.Line\n",
            "  - etc.\n",
            "\n",
            "\n"
          ],
          "name": "stderr"
        },
        {
          "output_type": "display_data",
          "data": {
            "text/html": [
              "<html>\n",
              "<head><meta charset=\"utf-8\" /></head>\n",
              "<body>\n",
              "    <div>\n",
              "            <script src=\"https://cdnjs.cloudflare.com/ajax/libs/mathjax/2.7.5/MathJax.js?config=TeX-AMS-MML_SVG\"></script><script type=\"text/javascript\">if (window.MathJax) {MathJax.Hub.Config({SVG: {font: \"STIX-Web\"}});}</script>\n",
              "                <script type=\"text/javascript\">window.PlotlyConfig = {MathJaxConfig: 'local'};</script>\n",
              "        <script src=\"https://cdn.plot.ly/plotly-latest.min.js\"></script>    \n",
              "            <div id=\"f1567903-b3d7-4741-81bb-f3cef03afe1b\" class=\"plotly-graph-div\" style=\"height:525px; width:100%;\"></div>\n",
              "            <script type=\"text/javascript\">\n",
              "                \n",
              "                    window.PLOTLYENV=window.PLOTLYENV || {};\n",
              "                    \n",
              "                if (document.getElementById(\"f1567903-b3d7-4741-81bb-f3cef03afe1b\")) {\n",
              "                    Plotly.newPlot(\n",
              "                        'f1567903-b3d7-4741-81bb-f3cef03afe1b',\n",
              "                        [{\"marker\": {\"color\": \"red\"}, \"name\": \"Daily dead cases in Mexico\", \"type\": \"bar\", \"x\": [\"03/07/20\", \"03/08/20\", \"03/09/20\", \"03/10/20\", \"03/11/20\", \"03/12/20\", \"03/13/20\", \"03/14/20\", \"03/15/20\", \"03/16/20\", \"03/17/20\", \"03/18/20\", \"03/19/20\", \"03/20/20\", \"03/21/20\", \"03/22/20\", \"03/23/20\", \"03/24/20\", \"03/25/20\", \"03/26/20\", \"03/27/20\", \"03/28/20\", \"03/29/20\", \"03/30/20\", \"03/31/20\", \"04/01/20\", \"04/02/20\", \"04/03/20\", \"04/04/20\", \"04/05/20\", \"04/06/20\", \"04/07/20\", \"04/08/20\", \"04/09/20\", \"04/10/20\", \"04/11/20\", \"04/12/20\", \"04/13/20\", \"04/14/20\", \"04/15/20\", \"04/16/20\", \"04/17/20\", \"04/18/20\", \"04/19/20\", \"04/20/20\", \"04/21/20\", \"04/22/20\", \"04/23/20\", \"04/24/20\", \"04/25/20\", \"04/26/20\", \"04/27/20\", \"04/28/20\", \"04/29/20\", \"04/30/20\", \"05/01/20\", \"05/02/20\", \"05/03/20\", \"05/04/20\", \"05/05/20\", \"05/06/20\", \"05/07/20\", \"05/08/20\", \"05/09/20\", \"05/10/20\", \"05/11/20\", \"05/12/20\"], \"y\": [0.0, 0.0, 0.0, 0.0, 0.0, 0.0, 0.0, 0.0, 0.0, 0.0, 0.0, 1.0, 1.0, 0.0, 1.0, 1.0, 1.0, 1.0, 2.0, 4.0, 4.0, 4.0, 8.0, 1.0, 8.0, 13.0, 10.0, 19.0, 15.0, 31.0, 16.0, 33.0, 20.0, 39.0, 40.0, 23.0, 36.0, 74.0, 43.0, 37.0, 60.0, 104.0, 36.0, 26.0, 145.0, 113.0, 99.0, 152.0, 84.0, 46.0, 83.0, 135.0, 163.0, 127.0, 113.0, 89.0, 93.0, 117.0, 236.0, 197.0, 257.0, 199.0, 193.0, 112.0, 108.0, 353.0]}, {\"marker\": {\"color\": \"green\"}, \"name\": \"Daily Recovered cases in Mexico\", \"type\": \"bar\", \"x\": [\"03/07/20\", \"03/08/20\", \"03/09/20\", \"03/10/20\", \"03/11/20\", \"03/12/20\", \"03/13/20\", \"03/14/20\", \"03/15/20\", \"03/16/20\", \"03/17/20\", \"03/18/20\", \"03/19/20\", \"03/20/20\", \"03/21/20\", \"03/22/20\", \"03/23/20\", \"03/24/20\", \"03/25/20\", \"03/26/20\", \"03/27/20\", \"03/28/20\", \"03/29/20\", \"03/30/20\", \"03/31/20\", \"04/01/20\", \"04/02/20\", \"04/03/20\", \"04/04/20\", \"04/05/20\", \"04/06/20\", \"04/07/20\", \"04/08/20\", \"04/09/20\", \"04/10/20\", \"04/11/20\", \"04/12/20\", \"04/13/20\", \"04/14/20\", \"04/15/20\", \"04/16/20\", \"04/17/20\", \"04/18/20\", \"04/19/20\", \"04/20/20\", \"04/21/20\", \"04/22/20\", \"04/23/20\", \"04/24/20\", \"04/25/20\", \"04/26/20\", \"04/27/20\", \"04/28/20\", \"04/29/20\", \"04/30/20\", \"05/01/20\", \"05/02/20\", \"05/03/20\", \"05/04/20\", \"05/05/20\", \"05/06/20\", \"05/07/20\", \"05/08/20\", \"05/09/20\", \"05/10/20\", \"05/11/20\", \"05/12/20\"], \"y\": [0.0, 0.0, 3.0, 0.0, 0.0, 0.0, 0.0, 0.0, 0.0, 0.0, 0.0, 0.0, 0.0, 0.0, 0.0, 0.0, 0.0, 0.0, 0.0, 0.0, 0.0, 0.0, 31.0, 0.0, 0.0, 0.0, 598.0, 0.0, 0.0, 0.0, 0.0, 0.0, 0.0, 0.0, 0.0, 1139.0, 71.0, 121.0, 161.0, 0.0, 0.0, 0.0, 502.0, 0.0, 0.0, 0.0, 0.0, 0.0, 4522.0, 1205.0, 732.0, 2337.0, 0.0, 0.0, 954.0, 0.0, 1070.0, 0.0, 3363.0, 971.0, 0.0, 2533.0, 1510.0, 0.0, 1276.0, 2835.0]}, {\"marker\": {\"color\": \"rgb(255,0,0)\", \"size\": 6, \"symbol\": \"triangle-up\"}, \"mode\": \"lines+markers\", \"showlegend\": false, \"type\": \"scatter\", \"x\": [\"03/07/20\", \"03/08/20\", \"03/09/20\", \"03/10/20\", \"03/11/20\", \"03/12/20\", \"03/13/20\", \"03/14/20\", \"03/15/20\", \"03/16/20\", \"03/17/20\", \"03/18/20\", \"03/19/20\", \"03/20/20\", \"03/21/20\", \"03/22/20\", \"03/23/20\", \"03/24/20\", \"03/25/20\", \"03/26/20\", \"03/27/20\", \"03/28/20\", \"03/29/20\", \"03/30/20\", \"03/31/20\", \"04/01/20\", \"04/02/20\", \"04/03/20\", \"04/04/20\", \"04/05/20\", \"04/06/20\", \"04/07/20\", \"04/08/20\", \"04/09/20\", \"04/10/20\", \"04/11/20\", \"04/12/20\", \"04/13/20\", \"04/14/20\", \"04/15/20\", \"04/16/20\", \"04/17/20\", \"04/18/20\", \"04/19/20\", \"04/20/20\", \"04/21/20\", \"04/22/20\", \"04/23/20\", \"04/24/20\", \"04/25/20\", \"04/26/20\", \"04/27/20\", \"04/28/20\", \"04/29/20\", \"04/30/20\", \"05/01/20\", \"05/02/20\", \"05/03/20\", \"05/04/20\", \"05/05/20\", \"05/06/20\", \"05/07/20\", \"05/08/20\", \"05/09/20\", \"05/10/20\", \"05/11/20\", \"05/12/20\"], \"y\": [0.0, 0.0, 0.0, 0.0, 0.0, 0.0, 0.0, 0.0, 0.0, 0.0, 0.0, 1.0, 1.0, 0.0, 1.0, 1.0, 1.0, 1.0, 2.0, 4.0, 4.0, 4.0, 8.0, 1.0, 8.0, 13.0, 10.0, 19.0, 15.0, 31.0, 16.0, 33.0, 20.0, 39.0, 40.0, 23.0, 36.0, 74.0, 43.0, 37.0, 60.0, 104.0, 36.0, 26.0, 145.0, 113.0, 99.0, 152.0, 84.0, 46.0, 83.0, 135.0, 163.0, 127.0, 113.0, 89.0, 93.0, 117.0, 236.0, 197.0, 257.0, 199.0, 193.0, 112.0, 108.0, 353.0]}, {\"marker\": {\"color\": \"rgb(0,255,0)\", \"size\": 6, \"symbol\": \"triangle-up\"}, \"mode\": \"lines+markers\", \"showlegend\": false, \"type\": \"scatter\", \"x\": [\"03/07/20\", \"03/08/20\", \"03/09/20\", \"03/10/20\", \"03/11/20\", \"03/12/20\", \"03/13/20\", \"03/14/20\", \"03/15/20\", \"03/16/20\", \"03/17/20\", \"03/18/20\", \"03/19/20\", \"03/20/20\", \"03/21/20\", \"03/22/20\", \"03/23/20\", \"03/24/20\", \"03/25/20\", \"03/26/20\", \"03/27/20\", \"03/28/20\", \"03/29/20\", \"03/30/20\", \"03/31/20\", \"04/01/20\", \"04/02/20\", \"04/03/20\", \"04/04/20\", \"04/05/20\", \"04/06/20\", \"04/07/20\", \"04/08/20\", \"04/09/20\", \"04/10/20\", \"04/11/20\", \"04/12/20\", \"04/13/20\", \"04/14/20\", \"04/15/20\", \"04/16/20\", \"04/17/20\", \"04/18/20\", \"04/19/20\", \"04/20/20\", \"04/21/20\", \"04/22/20\", \"04/23/20\", \"04/24/20\", \"04/25/20\", \"04/26/20\", \"04/27/20\", \"04/28/20\", \"04/29/20\", \"04/30/20\", \"05/01/20\", \"05/02/20\", \"05/03/20\", \"05/04/20\", \"05/05/20\", \"05/06/20\", \"05/07/20\", \"05/08/20\", \"05/09/20\", \"05/10/20\", \"05/11/20\", \"05/12/20\"], \"y\": [0.0, 0.0, 3.0, 0.0, 0.0, 0.0, 0.0, 0.0, 0.0, 0.0, 0.0, 0.0, 0.0, 0.0, 0.0, 0.0, 0.0, 0.0, 0.0, 0.0, 0.0, 0.0, 31.0, 0.0, 0.0, 0.0, 598.0, 0.0, 0.0, 0.0, 0.0, 0.0, 0.0, 0.0, 0.0, 1139.0, 71.0, 121.0, 161.0, 0.0, 0.0, 0.0, 502.0, 0.0, 0.0, 0.0, 0.0, 0.0, 4522.0, 1205.0, 732.0, 2337.0, 0.0, 0.0, 954.0, 0.0, 1070.0, 0.0, 3363.0, 971.0, 0.0, 2533.0, 1510.0, 0.0, 1276.0, 2835.0]}],\n",
              "                        {\"legend\": {\"x\": 0, \"y\": 0.7}, \"paper_bgcolor\": \"rgba(255,255,255,1)\", \"plot_bgcolor\": \"rgba(255,255,255,1)\", \"template\": {\"data\": {\"bar\": [{\"error_x\": {\"color\": \"#2a3f5f\"}, \"error_y\": {\"color\": \"#2a3f5f\"}, \"marker\": {\"line\": {\"color\": \"#E5ECF6\", \"width\": 0.5}}, \"type\": \"bar\"}], \"barpolar\": [{\"marker\": {\"line\": {\"color\": \"#E5ECF6\", \"width\": 0.5}}, \"type\": \"barpolar\"}], \"carpet\": [{\"aaxis\": {\"endlinecolor\": \"#2a3f5f\", \"gridcolor\": \"white\", \"linecolor\": \"white\", \"minorgridcolor\": \"white\", \"startlinecolor\": \"#2a3f5f\"}, \"baxis\": {\"endlinecolor\": \"#2a3f5f\", \"gridcolor\": \"white\", \"linecolor\": \"white\", \"minorgridcolor\": \"white\", \"startlinecolor\": \"#2a3f5f\"}, \"type\": \"carpet\"}], \"choropleth\": [{\"colorbar\": {\"outlinewidth\": 0, \"ticks\": \"\"}, \"type\": \"choropleth\"}], \"contour\": [{\"colorbar\": {\"outlinewidth\": 0, \"ticks\": \"\"}, \"colorscale\": [[0.0, \"#0d0887\"], [0.1111111111111111, \"#46039f\"], [0.2222222222222222, \"#7201a8\"], [0.3333333333333333, \"#9c179e\"], [0.4444444444444444, \"#bd3786\"], [0.5555555555555556, \"#d8576b\"], [0.6666666666666666, \"#ed7953\"], [0.7777777777777778, \"#fb9f3a\"], [0.8888888888888888, \"#fdca26\"], [1.0, \"#f0f921\"]], \"type\": \"contour\"}], \"contourcarpet\": [{\"colorbar\": {\"outlinewidth\": 0, \"ticks\": \"\"}, \"type\": \"contourcarpet\"}], \"heatmap\": [{\"colorbar\": {\"outlinewidth\": 0, \"ticks\": \"\"}, \"colorscale\": [[0.0, \"#0d0887\"], [0.1111111111111111, \"#46039f\"], [0.2222222222222222, \"#7201a8\"], [0.3333333333333333, \"#9c179e\"], [0.4444444444444444, \"#bd3786\"], [0.5555555555555556, \"#d8576b\"], [0.6666666666666666, \"#ed7953\"], [0.7777777777777778, \"#fb9f3a\"], [0.8888888888888888, \"#fdca26\"], [1.0, \"#f0f921\"]], \"type\": \"heatmap\"}], \"heatmapgl\": [{\"colorbar\": {\"outlinewidth\": 0, \"ticks\": \"\"}, \"colorscale\": [[0.0, \"#0d0887\"], [0.1111111111111111, \"#46039f\"], [0.2222222222222222, \"#7201a8\"], [0.3333333333333333, \"#9c179e\"], [0.4444444444444444, \"#bd3786\"], [0.5555555555555556, \"#d8576b\"], [0.6666666666666666, \"#ed7953\"], [0.7777777777777778, \"#fb9f3a\"], [0.8888888888888888, \"#fdca26\"], [1.0, \"#f0f921\"]], \"type\": \"heatmapgl\"}], \"histogram\": [{\"marker\": {\"colorbar\": {\"outlinewidth\": 0, \"ticks\": \"\"}}, \"type\": \"histogram\"}], \"histogram2d\": [{\"colorbar\": {\"outlinewidth\": 0, \"ticks\": \"\"}, \"colorscale\": [[0.0, \"#0d0887\"], [0.1111111111111111, \"#46039f\"], [0.2222222222222222, \"#7201a8\"], [0.3333333333333333, \"#9c179e\"], [0.4444444444444444, \"#bd3786\"], [0.5555555555555556, \"#d8576b\"], [0.6666666666666666, \"#ed7953\"], [0.7777777777777778, \"#fb9f3a\"], [0.8888888888888888, \"#fdca26\"], [1.0, \"#f0f921\"]], \"type\": \"histogram2d\"}], \"histogram2dcontour\": [{\"colorbar\": {\"outlinewidth\": 0, \"ticks\": \"\"}, \"colorscale\": [[0.0, \"#0d0887\"], [0.1111111111111111, \"#46039f\"], [0.2222222222222222, \"#7201a8\"], [0.3333333333333333, \"#9c179e\"], [0.4444444444444444, \"#bd3786\"], [0.5555555555555556, \"#d8576b\"], [0.6666666666666666, \"#ed7953\"], [0.7777777777777778, \"#fb9f3a\"], [0.8888888888888888, \"#fdca26\"], [1.0, \"#f0f921\"]], \"type\": \"histogram2dcontour\"}], \"mesh3d\": [{\"colorbar\": {\"outlinewidth\": 0, \"ticks\": \"\"}, \"type\": \"mesh3d\"}], \"parcoords\": [{\"line\": {\"colorbar\": {\"outlinewidth\": 0, \"ticks\": \"\"}}, \"type\": \"parcoords\"}], \"pie\": [{\"automargin\": true, \"type\": \"pie\"}], \"scatter\": [{\"marker\": {\"colorbar\": {\"outlinewidth\": 0, \"ticks\": \"\"}}, \"type\": \"scatter\"}], \"scatter3d\": [{\"line\": {\"colorbar\": {\"outlinewidth\": 0, \"ticks\": \"\"}}, \"marker\": {\"colorbar\": {\"outlinewidth\": 0, \"ticks\": \"\"}}, \"type\": \"scatter3d\"}], \"scattercarpet\": [{\"marker\": {\"colorbar\": {\"outlinewidth\": 0, \"ticks\": \"\"}}, \"type\": \"scattercarpet\"}], \"scattergeo\": [{\"marker\": {\"colorbar\": {\"outlinewidth\": 0, \"ticks\": \"\"}}, \"type\": \"scattergeo\"}], \"scattergl\": [{\"marker\": {\"colorbar\": {\"outlinewidth\": 0, \"ticks\": \"\"}}, \"type\": \"scattergl\"}], \"scattermapbox\": [{\"marker\": {\"colorbar\": {\"outlinewidth\": 0, \"ticks\": \"\"}}, \"type\": \"scattermapbox\"}], \"scatterpolar\": [{\"marker\": {\"colorbar\": {\"outlinewidth\": 0, \"ticks\": \"\"}}, \"type\": \"scatterpolar\"}], \"scatterpolargl\": [{\"marker\": {\"colorbar\": {\"outlinewidth\": 0, \"ticks\": \"\"}}, \"type\": \"scatterpolargl\"}], \"scatterternary\": [{\"marker\": {\"colorbar\": {\"outlinewidth\": 0, \"ticks\": \"\"}}, \"type\": \"scatterternary\"}], \"surface\": [{\"colorbar\": {\"outlinewidth\": 0, \"ticks\": \"\"}, \"colorscale\": [[0.0, \"#0d0887\"], [0.1111111111111111, \"#46039f\"], [0.2222222222222222, \"#7201a8\"], [0.3333333333333333, \"#9c179e\"], [0.4444444444444444, \"#bd3786\"], [0.5555555555555556, \"#d8576b\"], [0.6666666666666666, \"#ed7953\"], [0.7777777777777778, \"#fb9f3a\"], [0.8888888888888888, \"#fdca26\"], [1.0, \"#f0f921\"]], \"type\": \"surface\"}], \"table\": [{\"cells\": {\"fill\": {\"color\": \"#EBF0F8\"}, \"line\": {\"color\": \"white\"}}, \"header\": {\"fill\": {\"color\": \"#C8D4E3\"}, \"line\": {\"color\": \"white\"}}, \"type\": \"table\"}]}, \"layout\": {\"annotationdefaults\": {\"arrowcolor\": \"#2a3f5f\", \"arrowhead\": 0, \"arrowwidth\": 1}, \"coloraxis\": {\"colorbar\": {\"outlinewidth\": 0, \"ticks\": \"\"}}, \"colorscale\": {\"diverging\": [[0, \"#8e0152\"], [0.1, \"#c51b7d\"], [0.2, \"#de77ae\"], [0.3, \"#f1b6da\"], [0.4, \"#fde0ef\"], [0.5, \"#f7f7f7\"], [0.6, \"#e6f5d0\"], [0.7, \"#b8e186\"], [0.8, \"#7fbc41\"], [0.9, \"#4d9221\"], [1, \"#276419\"]], \"sequential\": [[0.0, \"#0d0887\"], [0.1111111111111111, \"#46039f\"], [0.2222222222222222, \"#7201a8\"], [0.3333333333333333, \"#9c179e\"], [0.4444444444444444, \"#bd3786\"], [0.5555555555555556, \"#d8576b\"], [0.6666666666666666, \"#ed7953\"], [0.7777777777777778, \"#fb9f3a\"], [0.8888888888888888, \"#fdca26\"], [1.0, \"#f0f921\"]], \"sequentialminus\": [[0.0, \"#0d0887\"], [0.1111111111111111, \"#46039f\"], [0.2222222222222222, \"#7201a8\"], [0.3333333333333333, \"#9c179e\"], [0.4444444444444444, \"#bd3786\"], [0.5555555555555556, \"#d8576b\"], [0.6666666666666666, \"#ed7953\"], [0.7777777777777778, \"#fb9f3a\"], [0.8888888888888888, \"#fdca26\"], [1.0, \"#f0f921\"]]}, \"colorway\": [\"#636efa\", \"#EF553B\", \"#00cc96\", \"#ab63fa\", \"#FFA15A\", \"#19d3f3\", \"#FF6692\", \"#B6E880\", \"#FF97FF\", \"#FECB52\"], \"font\": {\"color\": \"#2a3f5f\"}, \"geo\": {\"bgcolor\": \"white\", \"lakecolor\": \"white\", \"landcolor\": \"#E5ECF6\", \"showlakes\": true, \"showland\": true, \"subunitcolor\": \"white\"}, \"hoverlabel\": {\"align\": \"left\"}, \"hovermode\": \"closest\", \"mapbox\": {\"style\": \"light\"}, \"paper_bgcolor\": \"white\", \"plot_bgcolor\": \"#E5ECF6\", \"polar\": {\"angularaxis\": {\"gridcolor\": \"white\", \"linecolor\": \"white\", \"ticks\": \"\"}, \"bgcolor\": \"#E5ECF6\", \"radialaxis\": {\"gridcolor\": \"white\", \"linecolor\": \"white\", \"ticks\": \"\"}}, \"scene\": {\"xaxis\": {\"backgroundcolor\": \"#E5ECF6\", \"gridcolor\": \"white\", \"gridwidth\": 2, \"linecolor\": \"white\", \"showbackground\": true, \"ticks\": \"\", \"zerolinecolor\": \"white\"}, \"yaxis\": {\"backgroundcolor\": \"#E5ECF6\", \"gridcolor\": \"white\", \"gridwidth\": 2, \"linecolor\": \"white\", \"showbackground\": true, \"ticks\": \"\", \"zerolinecolor\": \"white\"}, \"zaxis\": {\"backgroundcolor\": \"#E5ECF6\", \"gridcolor\": \"white\", \"gridwidth\": 2, \"linecolor\": \"white\", \"showbackground\": true, \"ticks\": \"\", \"zerolinecolor\": \"white\"}}, \"shapedefaults\": {\"line\": {\"color\": \"#2a3f5f\"}}, \"ternary\": {\"aaxis\": {\"gridcolor\": \"white\", \"linecolor\": \"white\", \"ticks\": \"\"}, \"baxis\": {\"gridcolor\": \"white\", \"linecolor\": \"white\", \"ticks\": \"\"}, \"bgcolor\": \"#E5ECF6\", \"caxis\": {\"gridcolor\": \"white\", \"linecolor\": \"white\", \"ticks\": \"\"}}, \"title\": {\"x\": 0.05}, \"xaxis\": {\"automargin\": true, \"gridcolor\": \"white\", \"linecolor\": \"white\", \"ticks\": \"\", \"title\": {\"standoff\": 15}, \"zerolinecolor\": \"white\", \"zerolinewidth\": 2}, \"yaxis\": {\"automargin\": true, \"gridcolor\": \"white\", \"linecolor\": \"white\", \"ticks\": \"\", \"title\": {\"standoff\": 15}, \"zerolinecolor\": \"white\", \"zerolinewidth\": 2}}}, \"title\": {\"text\": \"Covid-19 Mexico daily cases \"}},\n",
              "                        {\"responsive\": true}\n",
              "                    ).then(function(){\n",
              "                            \n",
              "var gd = document.getElementById('f1567903-b3d7-4741-81bb-f3cef03afe1b');\n",
              "var x = new MutationObserver(function (mutations, observer) {{\n",
              "        var display = window.getComputedStyle(gd).display;\n",
              "        if (!display || display === 'none') {{\n",
              "            console.log([gd, 'removed!']);\n",
              "            Plotly.purge(gd);\n",
              "            observer.disconnect();\n",
              "        }}\n",
              "}});\n",
              "\n",
              "// Listen for the removal of the full notebook cells\n",
              "var notebookContainer = gd.closest('#notebook-container');\n",
              "if (notebookContainer) {{\n",
              "    x.observe(notebookContainer, {childList: true});\n",
              "}}\n",
              "\n",
              "// Listen for the clearing of the current output cell\n",
              "var outputEl = gd.closest('.output');\n",
              "if (outputEl) {{\n",
              "    x.observe(outputEl, {childList: true});\n",
              "}}\n",
              "\n",
              "                        })\n",
              "                };\n",
              "                \n",
              "            </script>\n",
              "        </div>\n",
              "</body>\n",
              "</html>"
            ]
          },
          "metadata": {
            "tags": []
          }
        },
        {
          "output_type": "display_data",
          "data": {
            "text/html": [
              "<html>\n",
              "<head><meta charset=\"utf-8\" /></head>\n",
              "<body>\n",
              "    <div>\n",
              "            <script src=\"https://cdnjs.cloudflare.com/ajax/libs/mathjax/2.7.5/MathJax.js?config=TeX-AMS-MML_SVG\"></script><script type=\"text/javascript\">if (window.MathJax) {MathJax.Hub.Config({SVG: {font: \"STIX-Web\"}});}</script>\n",
              "                <script type=\"text/javascript\">window.PlotlyConfig = {MathJaxConfig: 'local'};</script>\n",
              "        <script src=\"https://cdn.plot.ly/plotly-latest.min.js\"></script>    \n",
              "            <div id=\"99746877-d620-42db-b85a-67a80776495b\" class=\"plotly-graph-div\" style=\"height:525px; width:100%;\"></div>\n",
              "            <script type=\"text/javascript\">\n",
              "                \n",
              "                    window.PLOTLYENV=window.PLOTLYENV || {};\n",
              "                    \n",
              "                if (document.getElementById(\"99746877-d620-42db-b85a-67a80776495b\")) {\n",
              "                    Plotly.newPlot(\n",
              "                        '99746877-d620-42db-b85a-67a80776495b',\n",
              "                        [{\"marker\": {\"color\": \"blue\"}, \"name\": \"Number of daily cases in Mexico\", \"type\": \"bar\", \"x\": [\"03/07/20\", \"03/08/20\", \"03/09/20\", \"03/10/20\", \"03/11/20\", \"03/12/20\", \"03/13/20\", \"03/14/20\", \"03/15/20\", \"03/16/20\", \"03/17/20\", \"03/18/20\", \"03/19/20\", \"03/20/20\", \"03/21/20\", \"03/22/20\", \"03/23/20\", \"03/24/20\", \"03/25/20\", \"03/26/20\", \"03/27/20\", \"03/28/20\", \"03/29/20\", \"03/30/20\", \"03/31/20\", \"04/01/20\", \"04/02/20\", \"04/03/20\", \"04/04/20\", \"04/05/20\", \"04/06/20\", \"04/07/20\", \"04/08/20\", \"04/09/20\", \"04/10/20\", \"04/11/20\", \"04/12/20\", \"04/13/20\", \"04/14/20\", \"04/15/20\", \"04/16/20\", \"04/17/20\", \"04/18/20\", \"04/19/20\", \"04/20/20\", \"04/21/20\", \"04/22/20\", \"04/23/20\", \"04/24/20\", \"04/25/20\", \"04/26/20\", \"04/27/20\", \"04/28/20\", \"04/29/20\", \"04/30/20\", \"05/01/20\", \"05/02/20\", \"05/03/20\", \"05/04/20\", \"05/05/20\", \"05/06/20\", \"05/07/20\", \"05/08/20\", \"05/09/20\", \"05/10/20\", \"05/11/20\", \"05/12/20\"], \"y\": [0.025, 0.0, 0.0, 0.025, 0.1, 0.35, 0.375, 0.3, 0.725, 0.275, 0.625, 1.15, 0.975, 1.2, 1.625, 1.275, 0.95, 1.75, 2.75, 3.3, 3.275, 3.625, 2.525, 3.025, 4.075, 3.3, 4.45, 5.05, 6.325, 7.4, 8.65, 9.9, 6.5, 10.075, 9.375, 11.05, 8.825, 9.625, 11.2, 11.25, 14.45, 15.55, 19.1, 12.775, 18.225, 26.075, 27.225, 30.975, 24.25, 20.875, 21.3, 30.575, 26.175, 35.625, 37.875, 33.725, 34.575, 35.85, 28.0, 40.225, 49.55, 47.65, 48.45, 39.05, 32.625, 49.925]}, {\"marker\": {\"color\": \"rgba(152, 0, 0, .8)\"}, \"mode\": \"lines+markers\", \"name\": \"Maximum Temperature\", \"type\": \"scatter\", \"x\": [\"03/07/20\", \"03/08/20\", \"03/09/20\", \"03/10/20\", \"03/11/20\", \"03/12/20\", \"03/13/20\", \"03/14/20\", \"03/15/20\", \"03/16/20\", \"03/17/20\", \"03/18/20\", \"03/19/20\", \"03/20/20\", \"03/21/20\", \"03/22/20\", \"03/23/20\", \"03/24/20\", \"03/25/20\", \"03/26/20\", \"03/27/20\", \"03/28/20\", \"03/29/20\", \"03/30/20\", \"03/31/20\", \"04/01/20\", \"04/02/20\", \"04/03/20\", \"04/04/20\", \"04/05/20\", \"04/06/20\", \"04/07/20\", \"04/08/20\", \"04/09/20\", \"04/10/20\", \"04/11/20\", \"04/12/20\", \"04/13/20\", \"04/14/20\", \"04/15/20\", \"04/16/20\", \"04/17/20\", \"04/18/20\", \"04/19/20\", \"04/20/20\", \"04/21/20\", \"04/22/20\", \"04/23/20\", \"04/24/20\", \"04/25/20\", \"04/26/20\", \"04/27/20\", \"04/28/20\", \"04/29/20\", \"04/30/20\", \"05/01/20\", \"05/02/20\", \"05/03/20\", \"05/04/20\", \"05/05/20\", \"05/06/20\", \"05/07/20\", \"05/08/20\", \"05/09/20\", \"05/10/20\", \"05/11/20\", \"05/12/20\"], \"y\": [8, 10, 7, 8, 12, 8, 11, 10, 11, 8, 8, 5, 4, 4, -4, 0, 3, 4, 5, 10, 14, 8, 9, 15, 16, 6, -3, 1, 7, 11, 12, 9, 7, 12, 11, 10, 11, 6, 12, 9, 7, 11, 6, 6, 10, 13, 16, 17, 10, 8, 13, 8, 9, 10, 9, 13, 17, 12, 14, 19, 17, 17, 18, 18, 21, 17, 12, 15, 16, 17, 18, 15, 16, 13, 13, 15, 16, 15, 15, 16, 16, 15, 20, 19, 20, 23, 14, 19, 16, 13, 11, 9, 14, 14, 17, 19, 18]}, {\"marker\": {\"color\": \"rgba(255, 182, 193, .9)\"}, \"mode\": \"lines+markers\", \"name\": \"Min Temperature\", \"type\": \"scatter\", \"x\": [\"03/07/20\", \"03/08/20\", \"03/09/20\", \"03/10/20\", \"03/11/20\", \"03/12/20\", \"03/13/20\", \"03/14/20\", \"03/15/20\", \"03/16/20\", \"03/17/20\", \"03/18/20\", \"03/19/20\", \"03/20/20\", \"03/21/20\", \"03/22/20\", \"03/23/20\", \"03/24/20\", \"03/25/20\", \"03/26/20\", \"03/27/20\", \"03/28/20\", \"03/29/20\", \"03/30/20\", \"03/31/20\", \"04/01/20\", \"04/02/20\", \"04/03/20\", \"04/04/20\", \"04/05/20\", \"04/06/20\", \"04/07/20\", \"04/08/20\", \"04/09/20\", \"04/10/20\", \"04/11/20\", \"04/12/20\", \"04/13/20\", \"04/14/20\", \"04/15/20\", \"04/16/20\", \"04/17/20\", \"04/18/20\", \"04/19/20\", \"04/20/20\", \"04/21/20\", \"04/22/20\", \"04/23/20\", \"04/24/20\", \"04/25/20\", \"04/26/20\", \"04/27/20\", \"04/28/20\", \"04/29/20\", \"04/30/20\", \"05/01/20\", \"05/02/20\", \"05/03/20\", \"05/04/20\", \"05/05/20\", \"05/06/20\", \"05/07/20\", \"05/08/20\", \"05/09/20\", \"05/10/20\", \"05/11/20\", \"05/12/20\"], \"y\": [-2, -2, -2, -2, -3, 5, 3, 0, -2, -3, -4, -5, -4, -8, -10, -12, -9, -3, -9, -3, -4, 4, 1, 2, 1, -4, -6, -8, -5, -2, -1, 0, -3, 1, 4, 1, -1, 2, 4, 0, 0, -1, -1, -3, -5, -1, -1, 1, 3, 0, -1, 0, -5, 0, -4, 3, 0, 6, 0, 5, 3, 2, 1, 2, 4, 7, 4, -1, 1, 1, 5, 1, 2, 6, 1, -1, 4, 2, 1, 3, 3, 3, 3, 4, 3, 5, 10, 8, 9, 8, 5, 5, 4, 2, 9, 3, 5]}],\n",
              "                        {\"legend\": {\"x\": 0.2, \"y\": 0.7}, \"paper_bgcolor\": \"rgba(255,255,255,1)\", \"plot_bgcolor\": \"rgba(255,255,255,1)\", \"template\": {\"data\": {\"bar\": [{\"error_x\": {\"color\": \"#2a3f5f\"}, \"error_y\": {\"color\": \"#2a3f5f\"}, \"marker\": {\"line\": {\"color\": \"#E5ECF6\", \"width\": 0.5}}, \"type\": \"bar\"}], \"barpolar\": [{\"marker\": {\"line\": {\"color\": \"#E5ECF6\", \"width\": 0.5}}, \"type\": \"barpolar\"}], \"carpet\": [{\"aaxis\": {\"endlinecolor\": \"#2a3f5f\", \"gridcolor\": \"white\", \"linecolor\": \"white\", \"minorgridcolor\": \"white\", \"startlinecolor\": \"#2a3f5f\"}, \"baxis\": {\"endlinecolor\": \"#2a3f5f\", \"gridcolor\": \"white\", \"linecolor\": \"white\", \"minorgridcolor\": \"white\", \"startlinecolor\": \"#2a3f5f\"}, \"type\": \"carpet\"}], \"choropleth\": [{\"colorbar\": {\"outlinewidth\": 0, \"ticks\": \"\"}, \"type\": \"choropleth\"}], \"contour\": [{\"colorbar\": {\"outlinewidth\": 0, \"ticks\": \"\"}, \"colorscale\": [[0.0, \"#0d0887\"], [0.1111111111111111, \"#46039f\"], [0.2222222222222222, \"#7201a8\"], [0.3333333333333333, \"#9c179e\"], [0.4444444444444444, \"#bd3786\"], [0.5555555555555556, \"#d8576b\"], [0.6666666666666666, \"#ed7953\"], [0.7777777777777778, \"#fb9f3a\"], [0.8888888888888888, \"#fdca26\"], [1.0, \"#f0f921\"]], \"type\": \"contour\"}], \"contourcarpet\": [{\"colorbar\": {\"outlinewidth\": 0, \"ticks\": \"\"}, \"type\": \"contourcarpet\"}], \"heatmap\": [{\"colorbar\": {\"outlinewidth\": 0, \"ticks\": \"\"}, \"colorscale\": [[0.0, \"#0d0887\"], [0.1111111111111111, \"#46039f\"], [0.2222222222222222, \"#7201a8\"], [0.3333333333333333, \"#9c179e\"], [0.4444444444444444, \"#bd3786\"], [0.5555555555555556, \"#d8576b\"], [0.6666666666666666, \"#ed7953\"], [0.7777777777777778, \"#fb9f3a\"], [0.8888888888888888, \"#fdca26\"], [1.0, \"#f0f921\"]], \"type\": \"heatmap\"}], \"heatmapgl\": [{\"colorbar\": {\"outlinewidth\": 0, \"ticks\": \"\"}, \"colorscale\": [[0.0, \"#0d0887\"], [0.1111111111111111, \"#46039f\"], [0.2222222222222222, \"#7201a8\"], [0.3333333333333333, \"#9c179e\"], [0.4444444444444444, \"#bd3786\"], [0.5555555555555556, \"#d8576b\"], [0.6666666666666666, \"#ed7953\"], [0.7777777777777778, \"#fb9f3a\"], [0.8888888888888888, \"#fdca26\"], [1.0, \"#f0f921\"]], \"type\": \"heatmapgl\"}], \"histogram\": [{\"marker\": {\"colorbar\": {\"outlinewidth\": 0, \"ticks\": \"\"}}, \"type\": \"histogram\"}], \"histogram2d\": [{\"colorbar\": {\"outlinewidth\": 0, \"ticks\": \"\"}, \"colorscale\": [[0.0, \"#0d0887\"], [0.1111111111111111, \"#46039f\"], [0.2222222222222222, \"#7201a8\"], [0.3333333333333333, \"#9c179e\"], [0.4444444444444444, \"#bd3786\"], [0.5555555555555556, \"#d8576b\"], [0.6666666666666666, \"#ed7953\"], [0.7777777777777778, \"#fb9f3a\"], [0.8888888888888888, \"#fdca26\"], [1.0, \"#f0f921\"]], \"type\": \"histogram2d\"}], \"histogram2dcontour\": [{\"colorbar\": {\"outlinewidth\": 0, \"ticks\": \"\"}, \"colorscale\": [[0.0, \"#0d0887\"], [0.1111111111111111, \"#46039f\"], [0.2222222222222222, \"#7201a8\"], [0.3333333333333333, \"#9c179e\"], [0.4444444444444444, \"#bd3786\"], [0.5555555555555556, \"#d8576b\"], [0.6666666666666666, \"#ed7953\"], [0.7777777777777778, \"#fb9f3a\"], [0.8888888888888888, \"#fdca26\"], [1.0, \"#f0f921\"]], \"type\": \"histogram2dcontour\"}], \"mesh3d\": [{\"colorbar\": {\"outlinewidth\": 0, \"ticks\": \"\"}, \"type\": \"mesh3d\"}], \"parcoords\": [{\"line\": {\"colorbar\": {\"outlinewidth\": 0, \"ticks\": \"\"}}, \"type\": \"parcoords\"}], \"pie\": [{\"automargin\": true, \"type\": \"pie\"}], \"scatter\": [{\"marker\": {\"colorbar\": {\"outlinewidth\": 0, \"ticks\": \"\"}}, \"type\": \"scatter\"}], \"scatter3d\": [{\"line\": {\"colorbar\": {\"outlinewidth\": 0, \"ticks\": \"\"}}, \"marker\": {\"colorbar\": {\"outlinewidth\": 0, \"ticks\": \"\"}}, \"type\": \"scatter3d\"}], \"scattercarpet\": [{\"marker\": {\"colorbar\": {\"outlinewidth\": 0, \"ticks\": \"\"}}, \"type\": \"scattercarpet\"}], \"scattergeo\": [{\"marker\": {\"colorbar\": {\"outlinewidth\": 0, \"ticks\": \"\"}}, \"type\": \"scattergeo\"}], \"scattergl\": [{\"marker\": {\"colorbar\": {\"outlinewidth\": 0, \"ticks\": \"\"}}, \"type\": \"scattergl\"}], \"scattermapbox\": [{\"marker\": {\"colorbar\": {\"outlinewidth\": 0, \"ticks\": \"\"}}, \"type\": \"scattermapbox\"}], \"scatterpolar\": [{\"marker\": {\"colorbar\": {\"outlinewidth\": 0, \"ticks\": \"\"}}, \"type\": \"scatterpolar\"}], \"scatterpolargl\": [{\"marker\": {\"colorbar\": {\"outlinewidth\": 0, \"ticks\": \"\"}}, \"type\": \"scatterpolargl\"}], \"scatterternary\": [{\"marker\": {\"colorbar\": {\"outlinewidth\": 0, \"ticks\": \"\"}}, \"type\": \"scatterternary\"}], \"surface\": [{\"colorbar\": {\"outlinewidth\": 0, \"ticks\": \"\"}, \"colorscale\": [[0.0, \"#0d0887\"], [0.1111111111111111, \"#46039f\"], [0.2222222222222222, \"#7201a8\"], [0.3333333333333333, \"#9c179e\"], [0.4444444444444444, \"#bd3786\"], [0.5555555555555556, \"#d8576b\"], [0.6666666666666666, \"#ed7953\"], [0.7777777777777778, \"#fb9f3a\"], [0.8888888888888888, \"#fdca26\"], [1.0, \"#f0f921\"]], \"type\": \"surface\"}], \"table\": [{\"cells\": {\"fill\": {\"color\": \"#EBF0F8\"}, \"line\": {\"color\": \"white\"}}, \"header\": {\"fill\": {\"color\": \"#C8D4E3\"}, \"line\": {\"color\": \"white\"}}, \"type\": \"table\"}]}, \"layout\": {\"annotationdefaults\": {\"arrowcolor\": \"#2a3f5f\", \"arrowhead\": 0, \"arrowwidth\": 1}, \"coloraxis\": {\"colorbar\": {\"outlinewidth\": 0, \"ticks\": \"\"}}, \"colorscale\": {\"diverging\": [[0, \"#8e0152\"], [0.1, \"#c51b7d\"], [0.2, \"#de77ae\"], [0.3, \"#f1b6da\"], [0.4, \"#fde0ef\"], [0.5, \"#f7f7f7\"], [0.6, \"#e6f5d0\"], [0.7, \"#b8e186\"], [0.8, \"#7fbc41\"], [0.9, \"#4d9221\"], [1, \"#276419\"]], \"sequential\": [[0.0, \"#0d0887\"], [0.1111111111111111, \"#46039f\"], [0.2222222222222222, \"#7201a8\"], [0.3333333333333333, \"#9c179e\"], [0.4444444444444444, \"#bd3786\"], [0.5555555555555556, \"#d8576b\"], [0.6666666666666666, \"#ed7953\"], [0.7777777777777778, \"#fb9f3a\"], [0.8888888888888888, \"#fdca26\"], [1.0, \"#f0f921\"]], \"sequentialminus\": [[0.0, \"#0d0887\"], [0.1111111111111111, \"#46039f\"], [0.2222222222222222, \"#7201a8\"], [0.3333333333333333, \"#9c179e\"], [0.4444444444444444, \"#bd3786\"], [0.5555555555555556, \"#d8576b\"], [0.6666666666666666, \"#ed7953\"], [0.7777777777777778, \"#fb9f3a\"], [0.8888888888888888, \"#fdca26\"], [1.0, \"#f0f921\"]]}, \"colorway\": [\"#636efa\", \"#EF553B\", \"#00cc96\", \"#ab63fa\", \"#FFA15A\", \"#19d3f3\", \"#FF6692\", \"#B6E880\", \"#FF97FF\", \"#FECB52\"], \"font\": {\"color\": \"#2a3f5f\"}, \"geo\": {\"bgcolor\": \"white\", \"lakecolor\": \"white\", \"landcolor\": \"#E5ECF6\", \"showlakes\": true, \"showland\": true, \"subunitcolor\": \"white\"}, \"hoverlabel\": {\"align\": \"left\"}, \"hovermode\": \"closest\", \"mapbox\": {\"style\": \"light\"}, \"paper_bgcolor\": \"white\", \"plot_bgcolor\": \"#E5ECF6\", \"polar\": {\"angularaxis\": {\"gridcolor\": \"white\", \"linecolor\": \"white\", \"ticks\": \"\"}, \"bgcolor\": \"#E5ECF6\", \"radialaxis\": {\"gridcolor\": \"white\", \"linecolor\": \"white\", \"ticks\": \"\"}}, \"scene\": {\"xaxis\": {\"backgroundcolor\": \"#E5ECF6\", \"gridcolor\": \"white\", \"gridwidth\": 2, \"linecolor\": \"white\", \"showbackground\": true, \"ticks\": \"\", \"zerolinecolor\": \"white\"}, \"yaxis\": {\"backgroundcolor\": \"#E5ECF6\", \"gridcolor\": \"white\", \"gridwidth\": 2, \"linecolor\": \"white\", \"showbackground\": true, \"ticks\": \"\", \"zerolinecolor\": \"white\"}, \"zaxis\": {\"backgroundcolor\": \"#E5ECF6\", \"gridcolor\": \"white\", \"gridwidth\": 2, \"linecolor\": \"white\", \"showbackground\": true, \"ticks\": \"\", \"zerolinecolor\": \"white\"}}, \"shapedefaults\": {\"line\": {\"color\": \"#2a3f5f\"}}, \"ternary\": {\"aaxis\": {\"gridcolor\": \"white\", \"linecolor\": \"white\", \"ticks\": \"\"}, \"baxis\": {\"gridcolor\": \"white\", \"linecolor\": \"white\", \"ticks\": \"\"}, \"bgcolor\": \"#E5ECF6\", \"caxis\": {\"gridcolor\": \"white\", \"linecolor\": \"white\", \"ticks\": \"\"}}, \"title\": {\"x\": 0.05}, \"xaxis\": {\"automargin\": true, \"gridcolor\": \"white\", \"linecolor\": \"white\", \"ticks\": \"\", \"title\": {\"standoff\": 15}, \"zerolinecolor\": \"white\", \"zerolinewidth\": 2}, \"yaxis\": {\"automargin\": true, \"gridcolor\": \"white\", \"linecolor\": \"white\", \"ticks\": \"\", \"title\": {\"standoff\": 15}, \"zerolinecolor\": \"white\", \"zerolinewidth\": 2}}}, \"title\": {\"text\": \"Covid-19 Mexico daily cases \"}},\n",
              "                        {\"responsive\": true}\n",
              "                    ).then(function(){\n",
              "                            \n",
              "var gd = document.getElementById('99746877-d620-42db-b85a-67a80776495b');\n",
              "var x = new MutationObserver(function (mutations, observer) {{\n",
              "        var display = window.getComputedStyle(gd).display;\n",
              "        if (!display || display === 'none') {{\n",
              "            console.log([gd, 'removed!']);\n",
              "            Plotly.purge(gd);\n",
              "            observer.disconnect();\n",
              "        }}\n",
              "}});\n",
              "\n",
              "// Listen for the removal of the full notebook cells\n",
              "var notebookContainer = gd.closest('#notebook-container');\n",
              "if (notebookContainer) {{\n",
              "    x.observe(notebookContainer, {childList: true});\n",
              "}}\n",
              "\n",
              "// Listen for the clearing of the current output cell\n",
              "var outputEl = gd.closest('.output');\n",
              "if (outputEl) {{\n",
              "    x.observe(outputEl, {childList: true});\n",
              "}}\n",
              "\n",
              "                        })\n",
              "                };\n",
              "                \n",
              "            </script>\n",
              "        </div>\n",
              "</body>\n",
              "</html>"
            ]
          },
          "metadata": {
            "tags": []
          }
        }
      ]
    },
    {
      "cell_type": "code",
      "metadata": {
        "id": "0chIxd0yDDxn",
        "colab_type": "code",
        "colab": {}
      },
      "source": [
        ""
      ],
      "execution_count": 0,
      "outputs": []
    },
    {
      "cell_type": "code",
      "metadata": {
        "id": "_2g1dAf9DDul",
        "colab_type": "code",
        "colab": {}
      },
      "source": [
        ""
      ],
      "execution_count": 0,
      "outputs": []
    },
    {
      "cell_type": "code",
      "metadata": {
        "id": "ynhfxUWUDDtI",
        "colab_type": "code",
        "colab": {}
      },
      "source": [
        ""
      ],
      "execution_count": 0,
      "outputs": []
    },
    {
      "cell_type": "code",
      "metadata": {
        "id": "ggdM3EO3DDpu",
        "colab_type": "code",
        "colab": {}
      },
      "source": [
        ""
      ],
      "execution_count": 0,
      "outputs": []
    },
    {
      "cell_type": "code",
      "metadata": {
        "id": "cFfhWPluDDm9",
        "colab_type": "code",
        "colab": {}
      },
      "source": [
        ""
      ],
      "execution_count": 0,
      "outputs": []
    },
    {
      "cell_type": "markdown",
      "metadata": {
        "id": "Fj_1KxNRNycY",
        "colab_type": "text"
      },
      "source": [
        "Plotting government measures"
      ]
    },
    {
      "cell_type": "code",
      "metadata": {
        "id": "MA3lM0J6MmB1",
        "colab_type": "code",
        "outputId": "e056f97a-d3f3-47f8-efbf-f1adadc342ee",
        "colab": {
          "base_uri": "https://localhost:8080/",
          "height": 847
        }
      },
      "source": [
        "measures=measure_df.loc[measure_df['COUNTRY']==\"India\"]\n",
        "measures=measures.drop_duplicates(['MEASURE'])\n",
        "measures['DATE_IMPLEMENTED']=measures['DATE_IMPLEMENTED'].apply(lambda x: datetime.strptime(x, '%Y-%m-%d').date())\n",
        "measures['DATE_IMPLEMENTED']=measures['DATE_IMPLEMENTED'].apply(lambda x: x.strftime(\"%d-%m-%y\"))\n",
        "measures=measures.sort_values(['DATE_IMPLEMENTED'])\n",
        "\n",
        "measures_plot=measures[:5]  # indicate the number of measures to be plotted\n",
        "annotations_cus=[]\n",
        "\n"
      ],
      "execution_count": 323,
      "outputs": [
        {
          "output_type": "stream",
          "text": [
            "     COUNTRY  ... DATE_IMPLEMENTED\n",
            "4144   India  ...       2020-03-13\n",
            "4145   India  ...       2020-03-13\n",
            "4146   India  ...       2020-03-10\n",
            "4147   India  ...       2020-03-15\n",
            "4150   India  ...       2020-03-16\n",
            "4151   India  ...       2020-03-15\n",
            "4152   India  ...       2020-03-05\n",
            "4153   India  ...              NaN\n",
            "4155   India  ...       2020-01-25\n",
            "4156   India  ...              NaN\n",
            "4158   India  ...              NaN\n",
            "4166   India  ...       2020-03-05\n",
            "4173   India  ...       2020-03-11\n",
            "4177   India  ...       2020-03-14\n",
            "4178   India  ...       2020-03-17\n",
            "4182   India  ...       2020-03-24\n",
            "4192   India  ...       2020-04-04\n",
            "4194   India  ...       2020-04-16\n",
            "4195   India  ...       2020-04-17\n",
            "4197   India  ...       2020-04-21\n",
            "4213   India  ...       2020-05-03\n",
            "4216   India  ...       2020-05-04\n",
            "\n",
            "[22 rows x 4 columns]\n"
          ],
          "name": "stdout"
        },
        {
          "output_type": "error",
          "ename": "TypeError",
          "evalue": "ignored",
          "traceback": [
            "\u001b[0;31m---------------------------------------------------------------------------\u001b[0m",
            "\u001b[0;31mTypeError\u001b[0m                                 Traceback (most recent call last)",
            "\u001b[0;32m<ipython-input-323-897aaec63980>\u001b[0m in \u001b[0;36m<module>\u001b[0;34m()\u001b[0m\n\u001b[1;32m      2\u001b[0m \u001b[0mmeasures\u001b[0m\u001b[0;34m=\u001b[0m\u001b[0mmeasures\u001b[0m\u001b[0;34m.\u001b[0m\u001b[0mdrop_duplicates\u001b[0m\u001b[0;34m(\u001b[0m\u001b[0;34m[\u001b[0m\u001b[0;34m'MEASURE'\u001b[0m\u001b[0;34m]\u001b[0m\u001b[0;34m)\u001b[0m\u001b[0;34m\u001b[0m\u001b[0;34m\u001b[0m\u001b[0m\n\u001b[1;32m      3\u001b[0m \u001b[0mprint\u001b[0m\u001b[0;34m(\u001b[0m\u001b[0mmeasures\u001b[0m\u001b[0;34m)\u001b[0m\u001b[0;34m\u001b[0m\u001b[0;34m\u001b[0m\u001b[0m\n\u001b[0;32m----> 4\u001b[0;31m \u001b[0mmeasures\u001b[0m\u001b[0;34m[\u001b[0m\u001b[0;34m'DATE_IMPLEMENTED'\u001b[0m\u001b[0;34m]\u001b[0m\u001b[0;34m=\u001b[0m\u001b[0mmeasures\u001b[0m\u001b[0;34m[\u001b[0m\u001b[0;34m'DATE_IMPLEMENTED'\u001b[0m\u001b[0;34m]\u001b[0m\u001b[0;34m.\u001b[0m\u001b[0mapply\u001b[0m\u001b[0;34m(\u001b[0m\u001b[0;32mlambda\u001b[0m \u001b[0mx\u001b[0m\u001b[0;34m:\u001b[0m \u001b[0mdatetime\u001b[0m\u001b[0;34m.\u001b[0m\u001b[0mstrptime\u001b[0m\u001b[0;34m(\u001b[0m\u001b[0mx\u001b[0m\u001b[0;34m,\u001b[0m \u001b[0;34m'%Y-%m-%d'\u001b[0m\u001b[0;34m)\u001b[0m\u001b[0;34m.\u001b[0m\u001b[0mdate\u001b[0m\u001b[0;34m(\u001b[0m\u001b[0;34m)\u001b[0m\u001b[0;34m)\u001b[0m\u001b[0;34m\u001b[0m\u001b[0;34m\u001b[0m\u001b[0m\n\u001b[0m\u001b[1;32m      5\u001b[0m \u001b[0mmeasures\u001b[0m\u001b[0;34m[\u001b[0m\u001b[0;34m'DATE_IMPLEMENTED'\u001b[0m\u001b[0;34m]\u001b[0m\u001b[0;34m=\u001b[0m\u001b[0mmeasures\u001b[0m\u001b[0;34m[\u001b[0m\u001b[0;34m'DATE_IMPLEMENTED'\u001b[0m\u001b[0;34m]\u001b[0m\u001b[0;34m.\u001b[0m\u001b[0mapply\u001b[0m\u001b[0;34m(\u001b[0m\u001b[0;32mlambda\u001b[0m \u001b[0mx\u001b[0m\u001b[0;34m:\u001b[0m \u001b[0mx\u001b[0m\u001b[0;34m.\u001b[0m\u001b[0mstrftime\u001b[0m\u001b[0;34m(\u001b[0m\u001b[0;34m\"%d-%m-%y\"\u001b[0m\u001b[0;34m)\u001b[0m\u001b[0;34m)\u001b[0m\u001b[0;34m\u001b[0m\u001b[0;34m\u001b[0m\u001b[0m\n\u001b[1;32m      6\u001b[0m \u001b[0mmeasures\u001b[0m\u001b[0;34m=\u001b[0m\u001b[0mmeasures\u001b[0m\u001b[0;34m.\u001b[0m\u001b[0msort_values\u001b[0m\u001b[0;34m(\u001b[0m\u001b[0;34m[\u001b[0m\u001b[0;34m'DATE_IMPLEMENTED'\u001b[0m\u001b[0;34m]\u001b[0m\u001b[0;34m)\u001b[0m\u001b[0;34m\u001b[0m\u001b[0;34m\u001b[0m\u001b[0m\n",
            "\u001b[0;32m/usr/local/lib/python3.6/dist-packages/pandas/core/series.py\u001b[0m in \u001b[0;36mapply\u001b[0;34m(self, func, convert_dtype, args, **kwds)\u001b[0m\n\u001b[1;32m   3846\u001b[0m             \u001b[0;32melse\u001b[0m\u001b[0;34m:\u001b[0m\u001b[0;34m\u001b[0m\u001b[0;34m\u001b[0m\u001b[0m\n\u001b[1;32m   3847\u001b[0m                 \u001b[0mvalues\u001b[0m \u001b[0;34m=\u001b[0m \u001b[0mself\u001b[0m\u001b[0;34m.\u001b[0m\u001b[0mastype\u001b[0m\u001b[0;34m(\u001b[0m\u001b[0mobject\u001b[0m\u001b[0;34m)\u001b[0m\u001b[0;34m.\u001b[0m\u001b[0mvalues\u001b[0m\u001b[0;34m\u001b[0m\u001b[0;34m\u001b[0m\u001b[0m\n\u001b[0;32m-> 3848\u001b[0;31m                 \u001b[0mmapped\u001b[0m \u001b[0;34m=\u001b[0m \u001b[0mlib\u001b[0m\u001b[0;34m.\u001b[0m\u001b[0mmap_infer\u001b[0m\u001b[0;34m(\u001b[0m\u001b[0mvalues\u001b[0m\u001b[0;34m,\u001b[0m \u001b[0mf\u001b[0m\u001b[0;34m,\u001b[0m \u001b[0mconvert\u001b[0m\u001b[0;34m=\u001b[0m\u001b[0mconvert_dtype\u001b[0m\u001b[0;34m)\u001b[0m\u001b[0;34m\u001b[0m\u001b[0;34m\u001b[0m\u001b[0m\n\u001b[0m\u001b[1;32m   3849\u001b[0m \u001b[0;34m\u001b[0m\u001b[0m\n\u001b[1;32m   3850\u001b[0m         \u001b[0;32mif\u001b[0m \u001b[0mlen\u001b[0m\u001b[0;34m(\u001b[0m\u001b[0mmapped\u001b[0m\u001b[0;34m)\u001b[0m \u001b[0;32mand\u001b[0m \u001b[0misinstance\u001b[0m\u001b[0;34m(\u001b[0m\u001b[0mmapped\u001b[0m\u001b[0;34m[\u001b[0m\u001b[0;36m0\u001b[0m\u001b[0;34m]\u001b[0m\u001b[0;34m,\u001b[0m \u001b[0mSeries\u001b[0m\u001b[0;34m)\u001b[0m\u001b[0;34m:\u001b[0m\u001b[0;34m\u001b[0m\u001b[0;34m\u001b[0m\u001b[0m\n",
            "\u001b[0;32mpandas/_libs/lib.pyx\u001b[0m in \u001b[0;36mpandas._libs.lib.map_infer\u001b[0;34m()\u001b[0m\n",
            "\u001b[0;32m<ipython-input-323-897aaec63980>\u001b[0m in \u001b[0;36m<lambda>\u001b[0;34m(x)\u001b[0m\n\u001b[1;32m      2\u001b[0m \u001b[0mmeasures\u001b[0m\u001b[0;34m=\u001b[0m\u001b[0mmeasures\u001b[0m\u001b[0;34m.\u001b[0m\u001b[0mdrop_duplicates\u001b[0m\u001b[0;34m(\u001b[0m\u001b[0;34m[\u001b[0m\u001b[0;34m'MEASURE'\u001b[0m\u001b[0;34m]\u001b[0m\u001b[0;34m)\u001b[0m\u001b[0;34m\u001b[0m\u001b[0;34m\u001b[0m\u001b[0m\n\u001b[1;32m      3\u001b[0m \u001b[0mprint\u001b[0m\u001b[0;34m(\u001b[0m\u001b[0mmeasures\u001b[0m\u001b[0;34m)\u001b[0m\u001b[0;34m\u001b[0m\u001b[0;34m\u001b[0m\u001b[0m\n\u001b[0;32m----> 4\u001b[0;31m \u001b[0mmeasures\u001b[0m\u001b[0;34m[\u001b[0m\u001b[0;34m'DATE_IMPLEMENTED'\u001b[0m\u001b[0;34m]\u001b[0m\u001b[0;34m=\u001b[0m\u001b[0mmeasures\u001b[0m\u001b[0;34m[\u001b[0m\u001b[0;34m'DATE_IMPLEMENTED'\u001b[0m\u001b[0;34m]\u001b[0m\u001b[0;34m.\u001b[0m\u001b[0mapply\u001b[0m\u001b[0;34m(\u001b[0m\u001b[0;32mlambda\u001b[0m \u001b[0mx\u001b[0m\u001b[0;34m:\u001b[0m \u001b[0mdatetime\u001b[0m\u001b[0;34m.\u001b[0m\u001b[0mstrptime\u001b[0m\u001b[0;34m(\u001b[0m\u001b[0mx\u001b[0m\u001b[0;34m,\u001b[0m \u001b[0;34m'%Y-%m-%d'\u001b[0m\u001b[0;34m)\u001b[0m\u001b[0;34m.\u001b[0m\u001b[0mdate\u001b[0m\u001b[0;34m(\u001b[0m\u001b[0;34m)\u001b[0m\u001b[0;34m)\u001b[0m\u001b[0;34m\u001b[0m\u001b[0;34m\u001b[0m\u001b[0m\n\u001b[0m\u001b[1;32m      5\u001b[0m \u001b[0mmeasures\u001b[0m\u001b[0;34m[\u001b[0m\u001b[0;34m'DATE_IMPLEMENTED'\u001b[0m\u001b[0;34m]\u001b[0m\u001b[0;34m=\u001b[0m\u001b[0mmeasures\u001b[0m\u001b[0;34m[\u001b[0m\u001b[0;34m'DATE_IMPLEMENTED'\u001b[0m\u001b[0;34m]\u001b[0m\u001b[0;34m.\u001b[0m\u001b[0mapply\u001b[0m\u001b[0;34m(\u001b[0m\u001b[0;32mlambda\u001b[0m \u001b[0mx\u001b[0m\u001b[0;34m:\u001b[0m \u001b[0mx\u001b[0m\u001b[0;34m.\u001b[0m\u001b[0mstrftime\u001b[0m\u001b[0;34m(\u001b[0m\u001b[0;34m\"%d-%m-%y\"\u001b[0m\u001b[0;34m)\u001b[0m\u001b[0;34m)\u001b[0m\u001b[0;34m\u001b[0m\u001b[0;34m\u001b[0m\u001b[0m\n\u001b[1;32m      6\u001b[0m \u001b[0mmeasures\u001b[0m\u001b[0;34m=\u001b[0m\u001b[0mmeasures\u001b[0m\u001b[0;34m.\u001b[0m\u001b[0msort_values\u001b[0m\u001b[0;34m(\u001b[0m\u001b[0;34m[\u001b[0m\u001b[0;34m'DATE_IMPLEMENTED'\u001b[0m\u001b[0;34m]\u001b[0m\u001b[0;34m)\u001b[0m\u001b[0;34m\u001b[0m\u001b[0;34m\u001b[0m\u001b[0m\n",
            "\u001b[0;31mTypeError\u001b[0m: strptime() argument 1 must be str, not float"
          ]
        }
      ]
    },
    {
      "cell_type": "code",
      "metadata": {
        "id": "10fFLVB8KAoX",
        "colab_type": "code",
        "colab": {}
      },
      "source": [
        ""
      ],
      "execution_count": 0,
      "outputs": []
    },
    {
      "cell_type": "markdown",
      "metadata": {
        "id": "INGk8i3oKAcw",
        "colab_type": "text"
      },
      "source": [
        ""
      ]
    },
    {
      "cell_type": "code",
      "metadata": {
        "id": "Jz7yBeh_7Ris",
        "colab_type": "code",
        "colab": {}
      },
      "source": [
        "# from datetime import datetime\n",
        "# datetime_str = measures['DATE_IMPLEMENTED'][i]\n",
        "# dates_format=[datetime.strptime(i, '%Y-%m-%d').date() for i in measures['DATE_IMPLEMENTED']]\n",
        "# dates_format=[x.strftime(\"%d-%m-%y\") for x in dates_format]"
      ],
      "execution_count": 0,
      "outputs": []
    },
    {
      "cell_type": "code",
      "metadata": {
        "id": "2wnwZs5d6isC",
        "colab_type": "code",
        "colab": {}
      },
      "source": [
        "# # Add histogram data\n",
        "# x1 = dates_format\n",
        "# x2 = np.random.randn(22)\n",
        "# trace_r1=go.Scatter(x=x1, y=x2,name=\"Recovered\")\n",
        "# fig_dummy = go.Figure(data=[trace_r1])\n",
        "# fig_dummy.update_layout(\n",
        "#     showlegend=False,\n",
        "#     annotations=annotations_cus\n",
        "# )\n",
        "# fig_dummy.show(renderer=\"colab\")"
      ],
      "execution_count": 0,
      "outputs": []
    },
    {
      "cell_type": "code",
      "metadata": {
        "id": "VoHeVoUvL-s4",
        "colab_type": "code",
        "colab": {}
      },
      "source": [
        "#Give the name of the country for which data to be plotted\n",
        "plottingCountries(\"Germany\")"
      ],
      "execution_count": 0,
      "outputs": []
    }
  ]
}